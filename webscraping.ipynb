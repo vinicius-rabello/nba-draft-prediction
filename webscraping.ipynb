{
 "cells": [
  {
   "cell_type": "code",
   "execution_count": 2,
   "id": "84a20901",
   "metadata": {},
   "outputs": [],
   "source": [
    "import requests as req\n",
    "from bs4 import BeautifulSoup\n",
    "import numpy as np\n",
    "from tqdm import tqdm\n",
    "import pandas as pd\n",
    "from sqlalchemy import create_engine\n",
    "import sqlite3\n",
    "import duckdb"
   ]
  },
  {
   "cell_type": "markdown",
   "id": "91cbb443",
   "metadata": {},
   "source": [
    "### Creating NCAA stats dataframe"
   ]
  },
  {
   "cell_type": "code",
   "execution_count": 2,
   "id": "34e4b4b9",
   "metadata": {},
   "outputs": [],
   "source": [
    "classes=['Fr','So','Jr','Sr']\n",
    "years=np.arange(2003,2025,1)\n",
    "columns=['player','cls','year','gp','mpg','ppg','fgm','fga','fg%','3pm','3pa','3p%','ftm','fta','ft%','orb',\n",
    "        'drb','rpg','apg','spg','bpg','tov','pf']"
   ]
  },
  {
   "cell_type": "code",
   "execution_count": 3,
   "id": "682e9489",
   "metadata": {},
   "outputs": [
    {
     "name": "stderr",
     "output_type": "stream",
     "text": [
      "\r",
      "  0%|                                                                                           | 0/22 [00:00<?, ?it/s]"
     ]
    },
    {
     "name": "stdout",
     "output_type": "stream",
     "text": [
      "error: https://basketball.realgm.com/ncaa/stats/2003/Averages/Qualified/Fr/Season/All/points/desc/5\n",
      "error: https://basketball.realgm.com/ncaa/stats/2003/Averages/Qualified/Fr/Season/All/points/desc/6\n",
      "error: https://basketball.realgm.com/ncaa/stats/2003/Averages/Qualified/Fr/Season/All/points/desc/7\n",
      "error: https://basketball.realgm.com/ncaa/stats/2003/Averages/Qualified/Fr/Season/All/points/desc/8\n",
      "error: https://basketball.realgm.com/ncaa/stats/2003/Averages/Qualified/Fr/Season/All/points/desc/9\n",
      "error: https://basketball.realgm.com/ncaa/stats/2003/Averages/Qualified/Fr/Season/All/points/desc/10\n",
      "error: https://basketball.realgm.com/ncaa/stats/2003/Averages/Qualified/So/Season/All/points/desc/7\n",
      "error: https://basketball.realgm.com/ncaa/stats/2003/Averages/Qualified/So/Season/All/points/desc/8\n",
      "error: https://basketball.realgm.com/ncaa/stats/2003/Averages/Qualified/So/Season/All/points/desc/9\n",
      "error: https://basketball.realgm.com/ncaa/stats/2003/Averages/Qualified/So/Season/All/points/desc/10\n",
      "error: https://basketball.realgm.com/ncaa/stats/2003/Averages/Qualified/Jr/Season/All/points/desc/8\n",
      "error: https://basketball.realgm.com/ncaa/stats/2003/Averages/Qualified/Jr/Season/All/points/desc/9\n",
      "error: https://basketball.realgm.com/ncaa/stats/2003/Averages/Qualified/Jr/Season/All/points/desc/10\n",
      "error: https://basketball.realgm.com/ncaa/stats/2003/Averages/Qualified/Sr/Season/All/points/desc/6\n",
      "error: https://basketball.realgm.com/ncaa/stats/2003/Averages/Qualified/Sr/Season/All/points/desc/7\n",
      "error: https://basketball.realgm.com/ncaa/stats/2003/Averages/Qualified/Sr/Season/All/points/desc/8\n",
      "error: https://basketball.realgm.com/ncaa/stats/2003/Averages/Qualified/Sr/Season/All/points/desc/9\n"
     ]
    },
    {
     "name": "stderr",
     "output_type": "stream",
     "text": [
      "\r",
      "  5%|███▋                                                                              | 1/22 [02:40<56:15, 160.73s/it]"
     ]
    },
    {
     "name": "stdout",
     "output_type": "stream",
     "text": [
      "error: https://basketball.realgm.com/ncaa/stats/2003/Averages/Qualified/Sr/Season/All/points/desc/10\n",
      "error: https://basketball.realgm.com/ncaa/stats/2004/Averages/Qualified/Fr/Season/All/points/desc/5\n",
      "error: https://basketball.realgm.com/ncaa/stats/2004/Averages/Qualified/Fr/Season/All/points/desc/6\n",
      "error: https://basketball.realgm.com/ncaa/stats/2004/Averages/Qualified/Fr/Season/All/points/desc/7\n",
      "error: https://basketball.realgm.com/ncaa/stats/2004/Averages/Qualified/Fr/Season/All/points/desc/8\n",
      "error: https://basketball.realgm.com/ncaa/stats/2004/Averages/Qualified/Fr/Season/All/points/desc/9\n",
      "error: https://basketball.realgm.com/ncaa/stats/2004/Averages/Qualified/Fr/Season/All/points/desc/10\n",
      "error: https://basketball.realgm.com/ncaa/stats/2004/Averages/Qualified/So/Season/All/points/desc/7\n",
      "error: https://basketball.realgm.com/ncaa/stats/2004/Averages/Qualified/So/Season/All/points/desc/8\n",
      "error: https://basketball.realgm.com/ncaa/stats/2004/Averages/Qualified/So/Season/All/points/desc/9\n",
      "error: https://basketball.realgm.com/ncaa/stats/2004/Averages/Qualified/So/Season/All/points/desc/10\n",
      "error: https://basketball.realgm.com/ncaa/stats/2004/Averages/Qualified/Jr/Season/All/points/desc/8\n",
      "error: https://basketball.realgm.com/ncaa/stats/2004/Averages/Qualified/Jr/Season/All/points/desc/9\n",
      "error: https://basketball.realgm.com/ncaa/stats/2004/Averages/Qualified/Jr/Season/All/points/desc/10\n",
      "error: https://basketball.realgm.com/ncaa/stats/2004/Averages/Qualified/Sr/Season/All/points/desc/7\n",
      "error: https://basketball.realgm.com/ncaa/stats/2004/Averages/Qualified/Sr/Season/All/points/desc/8\n",
      "error: https://basketball.realgm.com/ncaa/stats/2004/Averages/Qualified/Sr/Season/All/points/desc/9\n"
     ]
    },
    {
     "name": "stderr",
     "output_type": "stream",
     "text": [
      "\r",
      "  9%|███████▍                                                                          | 2/22 [05:17<52:44, 158.23s/it]"
     ]
    },
    {
     "name": "stdout",
     "output_type": "stream",
     "text": [
      "error: https://basketball.realgm.com/ncaa/stats/2004/Averages/Qualified/Sr/Season/All/points/desc/10\n",
      "error: https://basketball.realgm.com/ncaa/stats/2005/Averages/Qualified/Fr/Season/All/points/desc/5\n",
      "error: https://basketball.realgm.com/ncaa/stats/2005/Averages/Qualified/Fr/Season/All/points/desc/6\n",
      "error: https://basketball.realgm.com/ncaa/stats/2005/Averages/Qualified/Fr/Season/All/points/desc/7\n",
      "error: https://basketball.realgm.com/ncaa/stats/2005/Averages/Qualified/Fr/Season/All/points/desc/8\n",
      "error: https://basketball.realgm.com/ncaa/stats/2005/Averages/Qualified/Fr/Season/All/points/desc/9\n",
      "error: https://basketball.realgm.com/ncaa/stats/2005/Averages/Qualified/Fr/Season/All/points/desc/10\n",
      "error: https://basketball.realgm.com/ncaa/stats/2005/Averages/Qualified/So/Season/All/points/desc/6\n",
      "error: https://basketball.realgm.com/ncaa/stats/2005/Averages/Qualified/So/Season/All/points/desc/7\n",
      "error: https://basketball.realgm.com/ncaa/stats/2005/Averages/Qualified/So/Season/All/points/desc/8\n",
      "error: https://basketball.realgm.com/ncaa/stats/2005/Averages/Qualified/So/Season/All/points/desc/9\n",
      "error: https://basketball.realgm.com/ncaa/stats/2005/Averages/Qualified/So/Season/All/points/desc/10\n",
      "error: https://basketball.realgm.com/ncaa/stats/2005/Averages/Qualified/Jr/Season/All/points/desc/8\n",
      "error: https://basketball.realgm.com/ncaa/stats/2005/Averages/Qualified/Jr/Season/All/points/desc/9\n",
      "error: https://basketball.realgm.com/ncaa/stats/2005/Averages/Qualified/Jr/Season/All/points/desc/10\n",
      "error: https://basketball.realgm.com/ncaa/stats/2005/Averages/Qualified/Sr/Season/All/points/desc/7\n",
      "error: https://basketball.realgm.com/ncaa/stats/2005/Averages/Qualified/Sr/Season/All/points/desc/8\n",
      "error: https://basketball.realgm.com/ncaa/stats/2005/Averages/Qualified/Sr/Season/All/points/desc/9\n"
     ]
    },
    {
     "name": "stderr",
     "output_type": "stream",
     "text": [
      "\r",
      " 14%|███████████▏                                                                      | 3/22 [07:17<44:41, 141.13s/it]"
     ]
    },
    {
     "name": "stdout",
     "output_type": "stream",
     "text": [
      "error: https://basketball.realgm.com/ncaa/stats/2005/Averages/Qualified/Sr/Season/All/points/desc/10\n",
      "error: https://basketball.realgm.com/ncaa/stats/2006/Averages/Qualified/Fr/Season/All/points/desc/5\n",
      "error: https://basketball.realgm.com/ncaa/stats/2006/Averages/Qualified/Fr/Season/All/points/desc/6\n",
      "error: https://basketball.realgm.com/ncaa/stats/2006/Averages/Qualified/Fr/Season/All/points/desc/7\n",
      "error: https://basketball.realgm.com/ncaa/stats/2006/Averages/Qualified/Fr/Season/All/points/desc/8\n",
      "error: https://basketball.realgm.com/ncaa/stats/2006/Averages/Qualified/Fr/Season/All/points/desc/9\n",
      "error: https://basketball.realgm.com/ncaa/stats/2006/Averages/Qualified/Fr/Season/All/points/desc/10\n",
      "error: https://basketball.realgm.com/ncaa/stats/2006/Averages/Qualified/So/Season/All/points/desc/7\n",
      "error: https://basketball.realgm.com/ncaa/stats/2006/Averages/Qualified/So/Season/All/points/desc/8\n",
      "error: https://basketball.realgm.com/ncaa/stats/2006/Averages/Qualified/So/Season/All/points/desc/9\n",
      "error: https://basketball.realgm.com/ncaa/stats/2006/Averages/Qualified/So/Season/All/points/desc/10\n",
      "error: https://basketball.realgm.com/ncaa/stats/2006/Averages/Qualified/Jr/Season/All/points/desc/8\n",
      "error: https://basketball.realgm.com/ncaa/stats/2006/Averages/Qualified/Jr/Season/All/points/desc/9\n",
      "error: https://basketball.realgm.com/ncaa/stats/2006/Averages/Qualified/Jr/Season/All/points/desc/10\n",
      "error: https://basketball.realgm.com/ncaa/stats/2006/Averages/Qualified/Sr/Season/All/points/desc/7\n",
      "error: https://basketball.realgm.com/ncaa/stats/2006/Averages/Qualified/Sr/Season/All/points/desc/8\n",
      "error: https://basketball.realgm.com/ncaa/stats/2006/Averages/Qualified/Sr/Season/All/points/desc/9\n"
     ]
    },
    {
     "name": "stderr",
     "output_type": "stream",
     "text": [
      "\r",
      " 18%|██████████████▉                                                                   | 4/22 [09:19<40:02, 133.48s/it]"
     ]
    },
    {
     "name": "stdout",
     "output_type": "stream",
     "text": [
      "error: https://basketball.realgm.com/ncaa/stats/2006/Averages/Qualified/Sr/Season/All/points/desc/10\n",
      "error: https://basketball.realgm.com/ncaa/stats/2007/Averages/Qualified/Fr/Season/All/points/desc/5\n",
      "error: https://basketball.realgm.com/ncaa/stats/2007/Averages/Qualified/Fr/Season/All/points/desc/6\n",
      "error: https://basketball.realgm.com/ncaa/stats/2007/Averages/Qualified/Fr/Season/All/points/desc/7\n",
      "error: https://basketball.realgm.com/ncaa/stats/2007/Averages/Qualified/Fr/Season/All/points/desc/8\n",
      "error: https://basketball.realgm.com/ncaa/stats/2007/Averages/Qualified/Fr/Season/All/points/desc/9\n",
      "error: https://basketball.realgm.com/ncaa/stats/2007/Averages/Qualified/Fr/Season/All/points/desc/10\n",
      "error: https://basketball.realgm.com/ncaa/stats/2007/Averages/Qualified/So/Season/All/points/desc/6\n",
      "error: https://basketball.realgm.com/ncaa/stats/2007/Averages/Qualified/So/Season/All/points/desc/7\n",
      "error: https://basketball.realgm.com/ncaa/stats/2007/Averages/Qualified/So/Season/All/points/desc/8\n",
      "error: https://basketball.realgm.com/ncaa/stats/2007/Averages/Qualified/So/Season/All/points/desc/9\n",
      "error: https://basketball.realgm.com/ncaa/stats/2007/Averages/Qualified/So/Season/All/points/desc/10\n",
      "error: https://basketball.realgm.com/ncaa/stats/2007/Averages/Qualified/Jr/Season/All/points/desc/8\n",
      "error: https://basketball.realgm.com/ncaa/stats/2007/Averages/Qualified/Jr/Season/All/points/desc/9\n",
      "error: https://basketball.realgm.com/ncaa/stats/2007/Averages/Qualified/Jr/Season/All/points/desc/10\n",
      "error: https://basketball.realgm.com/ncaa/stats/2007/Averages/Qualified/Sr/Season/All/points/desc/7\n",
      "error: https://basketball.realgm.com/ncaa/stats/2007/Averages/Qualified/Sr/Season/All/points/desc/8\n",
      "error: https://basketball.realgm.com/ncaa/stats/2007/Averages/Qualified/Sr/Season/All/points/desc/9\n"
     ]
    },
    {
     "name": "stderr",
     "output_type": "stream",
     "text": [
      "\r",
      " 23%|██████████████████▋                                                               | 5/22 [11:28<37:21, 131.87s/it]"
     ]
    },
    {
     "name": "stdout",
     "output_type": "stream",
     "text": [
      "error: https://basketball.realgm.com/ncaa/stats/2007/Averages/Qualified/Sr/Season/All/points/desc/10\n",
      "error: https://basketball.realgm.com/ncaa/stats/2008/Averages/Qualified/Fr/Season/All/points/desc/5\n",
      "error: https://basketball.realgm.com/ncaa/stats/2008/Averages/Qualified/Fr/Season/All/points/desc/6\n",
      "error: https://basketball.realgm.com/ncaa/stats/2008/Averages/Qualified/Fr/Season/All/points/desc/7\n",
      "error: https://basketball.realgm.com/ncaa/stats/2008/Averages/Qualified/Fr/Season/All/points/desc/8\n",
      "error: https://basketball.realgm.com/ncaa/stats/2008/Averages/Qualified/Fr/Season/All/points/desc/9\n",
      "error: https://basketball.realgm.com/ncaa/stats/2008/Averages/Qualified/Fr/Season/All/points/desc/10\n",
      "error: https://basketball.realgm.com/ncaa/stats/2008/Averages/Qualified/So/Season/All/points/desc/6\n",
      "error: https://basketball.realgm.com/ncaa/stats/2008/Averages/Qualified/So/Season/All/points/desc/7\n",
      "error: https://basketball.realgm.com/ncaa/stats/2008/Averages/Qualified/So/Season/All/points/desc/8\n",
      "error: https://basketball.realgm.com/ncaa/stats/2008/Averages/Qualified/So/Season/All/points/desc/9\n",
      "error: https://basketball.realgm.com/ncaa/stats/2008/Averages/Qualified/So/Season/All/points/desc/10\n",
      "error: https://basketball.realgm.com/ncaa/stats/2008/Averages/Qualified/Jr/Season/All/points/desc/8\n",
      "error: https://basketball.realgm.com/ncaa/stats/2008/Averages/Qualified/Jr/Season/All/points/desc/9\n",
      "error: https://basketball.realgm.com/ncaa/stats/2008/Averages/Qualified/Jr/Season/All/points/desc/10\n",
      "error: https://basketball.realgm.com/ncaa/stats/2008/Averages/Qualified/Sr/Season/All/points/desc/8\n",
      "error: https://basketball.realgm.com/ncaa/stats/2008/Averages/Qualified/Sr/Season/All/points/desc/9\n"
     ]
    },
    {
     "name": "stderr",
     "output_type": "stream",
     "text": [
      "\r",
      " 27%|██████████████████████▎                                                           | 6/22 [13:27<33:57, 127.36s/it]"
     ]
    },
    {
     "name": "stdout",
     "output_type": "stream",
     "text": [
      "error: https://basketball.realgm.com/ncaa/stats/2008/Averages/Qualified/Sr/Season/All/points/desc/10\n",
      "error: https://basketball.realgm.com/ncaa/stats/2009/Averages/Qualified/Fr/Season/All/points/desc/5\n",
      "error: https://basketball.realgm.com/ncaa/stats/2009/Averages/Qualified/Fr/Season/All/points/desc/6\n",
      "error: https://basketball.realgm.com/ncaa/stats/2009/Averages/Qualified/Fr/Season/All/points/desc/7\n",
      "error: https://basketball.realgm.com/ncaa/stats/2009/Averages/Qualified/Fr/Season/All/points/desc/8\n",
      "error: https://basketball.realgm.com/ncaa/stats/2009/Averages/Qualified/Fr/Season/All/points/desc/9\n",
      "error: https://basketball.realgm.com/ncaa/stats/2009/Averages/Qualified/Fr/Season/All/points/desc/10\n",
      "error: https://basketball.realgm.com/ncaa/stats/2009/Averages/Qualified/So/Season/All/points/desc/7\n",
      "error: https://basketball.realgm.com/ncaa/stats/2009/Averages/Qualified/So/Season/All/points/desc/8\n",
      "error: https://basketball.realgm.com/ncaa/stats/2009/Averages/Qualified/So/Season/All/points/desc/9\n",
      "error: https://basketball.realgm.com/ncaa/stats/2009/Averages/Qualified/So/Season/All/points/desc/10\n",
      "error: https://basketball.realgm.com/ncaa/stats/2009/Averages/Qualified/Jr/Season/All/points/desc/8\n",
      "error: https://basketball.realgm.com/ncaa/stats/2009/Averages/Qualified/Jr/Season/All/points/desc/9\n",
      "error: https://basketball.realgm.com/ncaa/stats/2009/Averages/Qualified/Jr/Season/All/points/desc/10\n",
      "error: https://basketball.realgm.com/ncaa/stats/2009/Averages/Qualified/Sr/Season/All/points/desc/8\n",
      "error: https://basketball.realgm.com/ncaa/stats/2009/Averages/Qualified/Sr/Season/All/points/desc/9\n"
     ]
    },
    {
     "name": "stderr",
     "output_type": "stream",
     "text": [
      "\r",
      " 32%|██████████████████████████                                                        | 7/22 [15:29<31:26, 125.79s/it]"
     ]
    },
    {
     "name": "stdout",
     "output_type": "stream",
     "text": [
      "error: https://basketball.realgm.com/ncaa/stats/2009/Averages/Qualified/Sr/Season/All/points/desc/10\n",
      "error: https://basketball.realgm.com/ncaa/stats/2010/Averages/Qualified/Fr/Season/All/points/desc/5\n",
      "error: https://basketball.realgm.com/ncaa/stats/2010/Averages/Qualified/Fr/Season/All/points/desc/6\n",
      "error: https://basketball.realgm.com/ncaa/stats/2010/Averages/Qualified/Fr/Season/All/points/desc/7\n",
      "error: https://basketball.realgm.com/ncaa/stats/2010/Averages/Qualified/Fr/Season/All/points/desc/8\n",
      "error: https://basketball.realgm.com/ncaa/stats/2010/Averages/Qualified/Fr/Season/All/points/desc/9\n",
      "error: https://basketball.realgm.com/ncaa/stats/2010/Averages/Qualified/Fr/Season/All/points/desc/10\n",
      "error: https://basketball.realgm.com/ncaa/stats/2010/Averages/Qualified/So/Season/All/points/desc/6\n",
      "error: https://basketball.realgm.com/ncaa/stats/2010/Averages/Qualified/So/Season/All/points/desc/7\n",
      "error: https://basketball.realgm.com/ncaa/stats/2010/Averages/Qualified/So/Season/All/points/desc/8\n",
      "error: https://basketball.realgm.com/ncaa/stats/2010/Averages/Qualified/So/Season/All/points/desc/9\n",
      "error: https://basketball.realgm.com/ncaa/stats/2010/Averages/Qualified/So/Season/All/points/desc/10\n",
      "error: https://basketball.realgm.com/ncaa/stats/2010/Averages/Qualified/Jr/Season/All/points/desc/9\n",
      "error: https://basketball.realgm.com/ncaa/stats/2010/Averages/Qualified/Jr/Season/All/points/desc/10\n",
      "error: https://basketball.realgm.com/ncaa/stats/2010/Averages/Qualified/Sr/Season/All/points/desc/8\n",
      "error: https://basketball.realgm.com/ncaa/stats/2010/Averages/Qualified/Sr/Season/All/points/desc/9\n"
     ]
    },
    {
     "name": "stderr",
     "output_type": "stream",
     "text": [
      "\r",
      " 36%|█████████████████████████████▊                                                    | 8/22 [17:12<27:36, 118.31s/it]"
     ]
    },
    {
     "name": "stdout",
     "output_type": "stream",
     "text": [
      "error: https://basketball.realgm.com/ncaa/stats/2010/Averages/Qualified/Sr/Season/All/points/desc/10\n",
      "error: https://basketball.realgm.com/ncaa/stats/2011/Averages/Qualified/Fr/Season/All/points/desc/5\n",
      "error: https://basketball.realgm.com/ncaa/stats/2011/Averages/Qualified/Fr/Season/All/points/desc/6\n",
      "error: https://basketball.realgm.com/ncaa/stats/2011/Averages/Qualified/Fr/Season/All/points/desc/7\n",
      "error: https://basketball.realgm.com/ncaa/stats/2011/Averages/Qualified/Fr/Season/All/points/desc/8\n",
      "error: https://basketball.realgm.com/ncaa/stats/2011/Averages/Qualified/Fr/Season/All/points/desc/9\n",
      "error: https://basketball.realgm.com/ncaa/stats/2011/Averages/Qualified/Fr/Season/All/points/desc/10\n",
      "error: https://basketball.realgm.com/ncaa/stats/2011/Averages/Qualified/So/Season/All/points/desc/6\n",
      "error: https://basketball.realgm.com/ncaa/stats/2011/Averages/Qualified/So/Season/All/points/desc/7\n",
      "error: https://basketball.realgm.com/ncaa/stats/2011/Averages/Qualified/So/Season/All/points/desc/8\n",
      "error: https://basketball.realgm.com/ncaa/stats/2011/Averages/Qualified/So/Season/All/points/desc/9\n",
      "error: https://basketball.realgm.com/ncaa/stats/2011/Averages/Qualified/So/Season/All/points/desc/10\n",
      "error: https://basketball.realgm.com/ncaa/stats/2011/Averages/Qualified/Jr/Season/All/points/desc/8\n",
      "error: https://basketball.realgm.com/ncaa/stats/2011/Averages/Qualified/Jr/Season/All/points/desc/9\n",
      "error: https://basketball.realgm.com/ncaa/stats/2011/Averages/Qualified/Jr/Season/All/points/desc/10\n",
      "error: https://basketball.realgm.com/ncaa/stats/2011/Averages/Qualified/Sr/Season/All/points/desc/8\n",
      "error: https://basketball.realgm.com/ncaa/stats/2011/Averages/Qualified/Sr/Season/All/points/desc/9\n"
     ]
    },
    {
     "name": "stderr",
     "output_type": "stream",
     "text": [
      "\r",
      " 41%|█████████████████████████████████▌                                                | 9/22 [19:08<25:28, 117.59s/it]"
     ]
    },
    {
     "name": "stdout",
     "output_type": "stream",
     "text": [
      "error: https://basketball.realgm.com/ncaa/stats/2011/Averages/Qualified/Sr/Season/All/points/desc/10\n",
      "error: https://basketball.realgm.com/ncaa/stats/2012/Averages/Qualified/Fr/Season/All/points/desc/5\n",
      "error: https://basketball.realgm.com/ncaa/stats/2012/Averages/Qualified/Fr/Season/All/points/desc/6\n",
      "error: https://basketball.realgm.com/ncaa/stats/2012/Averages/Qualified/Fr/Season/All/points/desc/7\n",
      "error: https://basketball.realgm.com/ncaa/stats/2012/Averages/Qualified/Fr/Season/All/points/desc/8\n",
      "error: https://basketball.realgm.com/ncaa/stats/2012/Averages/Qualified/Fr/Season/All/points/desc/9\n",
      "error: https://basketball.realgm.com/ncaa/stats/2012/Averages/Qualified/Fr/Season/All/points/desc/10\n",
      "error: https://basketball.realgm.com/ncaa/stats/2012/Averages/Qualified/So/Season/All/points/desc/7\n",
      "error: https://basketball.realgm.com/ncaa/stats/2012/Averages/Qualified/So/Season/All/points/desc/8\n",
      "error: https://basketball.realgm.com/ncaa/stats/2012/Averages/Qualified/So/Season/All/points/desc/9\n",
      "error: https://basketball.realgm.com/ncaa/stats/2012/Averages/Qualified/So/Season/All/points/desc/10\n",
      "error: https://basketball.realgm.com/ncaa/stats/2012/Averages/Qualified/Jr/Season/All/points/desc/8\n",
      "error: https://basketball.realgm.com/ncaa/stats/2012/Averages/Qualified/Jr/Season/All/points/desc/9\n",
      "error: https://basketball.realgm.com/ncaa/stats/2012/Averages/Qualified/Jr/Season/All/points/desc/10\n",
      "error: https://basketball.realgm.com/ncaa/stats/2012/Averages/Qualified/Sr/Season/All/points/desc/8\n",
      "error: https://basketball.realgm.com/ncaa/stats/2012/Averages/Qualified/Sr/Season/All/points/desc/9\n"
     ]
    },
    {
     "name": "stderr",
     "output_type": "stream",
     "text": [
      "\r",
      " 45%|████████████████████████████████████▊                                            | 10/22 [21:09<23:45, 118.76s/it]"
     ]
    },
    {
     "name": "stdout",
     "output_type": "stream",
     "text": [
      "error: https://basketball.realgm.com/ncaa/stats/2012/Averages/Qualified/Sr/Season/All/points/desc/10\n",
      "error: https://basketball.realgm.com/ncaa/stats/2013/Averages/Qualified/Fr/Season/All/points/desc/5\n",
      "error: https://basketball.realgm.com/ncaa/stats/2013/Averages/Qualified/Fr/Season/All/points/desc/6\n",
      "error: https://basketball.realgm.com/ncaa/stats/2013/Averages/Qualified/Fr/Season/All/points/desc/7\n",
      "error: https://basketball.realgm.com/ncaa/stats/2013/Averages/Qualified/Fr/Season/All/points/desc/8\n",
      "error: https://basketball.realgm.com/ncaa/stats/2013/Averages/Qualified/Fr/Season/All/points/desc/9\n",
      "error: https://basketball.realgm.com/ncaa/stats/2013/Averages/Qualified/Fr/Season/All/points/desc/10\n",
      "error: https://basketball.realgm.com/ncaa/stats/2013/Averages/Qualified/So/Season/All/points/desc/6\n",
      "error: https://basketball.realgm.com/ncaa/stats/2013/Averages/Qualified/So/Season/All/points/desc/7\n",
      "error: https://basketball.realgm.com/ncaa/stats/2013/Averages/Qualified/So/Season/All/points/desc/8\n",
      "error: https://basketball.realgm.com/ncaa/stats/2013/Averages/Qualified/So/Season/All/points/desc/9\n",
      "error: https://basketball.realgm.com/ncaa/stats/2013/Averages/Qualified/So/Season/All/points/desc/10\n",
      "error: https://basketball.realgm.com/ncaa/stats/2013/Averages/Qualified/Jr/Season/All/points/desc/9\n",
      "error: https://basketball.realgm.com/ncaa/stats/2013/Averages/Qualified/Jr/Season/All/points/desc/10\n",
      "error: https://basketball.realgm.com/ncaa/stats/2013/Averages/Qualified/Sr/Season/All/points/desc/8\n",
      "error: https://basketball.realgm.com/ncaa/stats/2013/Averages/Qualified/Sr/Season/All/points/desc/9\n"
     ]
    },
    {
     "name": "stderr",
     "output_type": "stream",
     "text": [
      "\r",
      " 50%|████████████████████████████████████████▌                                        | 11/22 [23:31<23:04, 125.91s/it]"
     ]
    },
    {
     "name": "stdout",
     "output_type": "stream",
     "text": [
      "error: https://basketball.realgm.com/ncaa/stats/2013/Averages/Qualified/Sr/Season/All/points/desc/10\n",
      "error: https://basketball.realgm.com/ncaa/stats/2014/Averages/Qualified/Fr/Season/All/points/desc/5\n",
      "error: https://basketball.realgm.com/ncaa/stats/2014/Averages/Qualified/Fr/Season/All/points/desc/6\n",
      "error: https://basketball.realgm.com/ncaa/stats/2014/Averages/Qualified/Fr/Season/All/points/desc/7\n",
      "error: https://basketball.realgm.com/ncaa/stats/2014/Averages/Qualified/Fr/Season/All/points/desc/8\n",
      "error: https://basketball.realgm.com/ncaa/stats/2014/Averages/Qualified/Fr/Season/All/points/desc/9\n",
      "error: https://basketball.realgm.com/ncaa/stats/2014/Averages/Qualified/Fr/Season/All/points/desc/10\n",
      "error: https://basketball.realgm.com/ncaa/stats/2014/Averages/Qualified/So/Season/All/points/desc/7\n",
      "error: https://basketball.realgm.com/ncaa/stats/2014/Averages/Qualified/So/Season/All/points/desc/8\n",
      "error: https://basketball.realgm.com/ncaa/stats/2014/Averages/Qualified/So/Season/All/points/desc/9\n",
      "error: https://basketball.realgm.com/ncaa/stats/2014/Averages/Qualified/So/Season/All/points/desc/10\n",
      "error: https://basketball.realgm.com/ncaa/stats/2014/Averages/Qualified/Jr/Season/All/points/desc/8\n",
      "error: https://basketball.realgm.com/ncaa/stats/2014/Averages/Qualified/Jr/Season/All/points/desc/9\n",
      "error: https://basketball.realgm.com/ncaa/stats/2014/Averages/Qualified/Jr/Season/All/points/desc/10\n",
      "error: https://basketball.realgm.com/ncaa/stats/2014/Averages/Qualified/Sr/Season/All/points/desc/8\n",
      "error: https://basketball.realgm.com/ncaa/stats/2014/Averages/Qualified/Sr/Season/All/points/desc/9\n"
     ]
    },
    {
     "name": "stderr",
     "output_type": "stream",
     "text": [
      "\r",
      " 55%|████████████████████████████████████████████▏                                    | 12/22 [25:56<21:56, 131.65s/it]"
     ]
    },
    {
     "name": "stdout",
     "output_type": "stream",
     "text": [
      "error: https://basketball.realgm.com/ncaa/stats/2014/Averages/Qualified/Sr/Season/All/points/desc/10\n",
      "error: https://basketball.realgm.com/ncaa/stats/2015/Averages/Qualified/Fr/Season/All/points/desc/5\n",
      "error: https://basketball.realgm.com/ncaa/stats/2015/Averages/Qualified/Fr/Season/All/points/desc/6\n",
      "error: https://basketball.realgm.com/ncaa/stats/2015/Averages/Qualified/Fr/Season/All/points/desc/7\n",
      "error: https://basketball.realgm.com/ncaa/stats/2015/Averages/Qualified/Fr/Season/All/points/desc/8\n",
      "error: https://basketball.realgm.com/ncaa/stats/2015/Averages/Qualified/Fr/Season/All/points/desc/9\n",
      "error: https://basketball.realgm.com/ncaa/stats/2015/Averages/Qualified/Fr/Season/All/points/desc/10\n",
      "error: https://basketball.realgm.com/ncaa/stats/2015/Averages/Qualified/So/Season/All/points/desc/6\n",
      "error: https://basketball.realgm.com/ncaa/stats/2015/Averages/Qualified/So/Season/All/points/desc/7\n",
      "error: https://basketball.realgm.com/ncaa/stats/2015/Averages/Qualified/So/Season/All/points/desc/8\n",
      "error: https://basketball.realgm.com/ncaa/stats/2015/Averages/Qualified/So/Season/All/points/desc/9\n",
      "error: https://basketball.realgm.com/ncaa/stats/2015/Averages/Qualified/So/Season/All/points/desc/10\n",
      "error: https://basketball.realgm.com/ncaa/stats/2015/Averages/Qualified/Jr/Season/All/points/desc/9\n",
      "error: https://basketball.realgm.com/ncaa/stats/2015/Averages/Qualified/Jr/Season/All/points/desc/10\n",
      "error: https://basketball.realgm.com/ncaa/stats/2015/Averages/Qualified/Sr/Season/All/points/desc/8\n",
      "error: https://basketball.realgm.com/ncaa/stats/2015/Averages/Qualified/Sr/Season/All/points/desc/9\n"
     ]
    },
    {
     "name": "stderr",
     "output_type": "stream",
     "text": [
      "\r",
      " 59%|███████████████████████████████████████████████▊                                 | 13/22 [28:17<20:10, 134.52s/it]"
     ]
    },
    {
     "name": "stdout",
     "output_type": "stream",
     "text": [
      "error: https://basketball.realgm.com/ncaa/stats/2015/Averages/Qualified/Sr/Season/All/points/desc/10\n",
      "error: https://basketball.realgm.com/ncaa/stats/2016/Averages/Qualified/Fr/Season/All/points/desc/5\n",
      "error: https://basketball.realgm.com/ncaa/stats/2016/Averages/Qualified/Fr/Season/All/points/desc/6\n",
      "error: https://basketball.realgm.com/ncaa/stats/2016/Averages/Qualified/Fr/Season/All/points/desc/7\n",
      "error: https://basketball.realgm.com/ncaa/stats/2016/Averages/Qualified/Fr/Season/All/points/desc/8\n",
      "error: https://basketball.realgm.com/ncaa/stats/2016/Averages/Qualified/Fr/Season/All/points/desc/9\n",
      "error: https://basketball.realgm.com/ncaa/stats/2016/Averages/Qualified/Fr/Season/All/points/desc/10\n",
      "error: https://basketball.realgm.com/ncaa/stats/2016/Averages/Qualified/So/Season/All/points/desc/6\n",
      "error: https://basketball.realgm.com/ncaa/stats/2016/Averages/Qualified/So/Season/All/points/desc/7\n",
      "error: https://basketball.realgm.com/ncaa/stats/2016/Averages/Qualified/So/Season/All/points/desc/8\n",
      "error: https://basketball.realgm.com/ncaa/stats/2016/Averages/Qualified/So/Season/All/points/desc/9\n",
      "error: https://basketball.realgm.com/ncaa/stats/2016/Averages/Qualified/So/Season/All/points/desc/10\n",
      "error: https://basketball.realgm.com/ncaa/stats/2016/Averages/Qualified/Jr/Season/All/points/desc/8\n",
      "error: https://basketball.realgm.com/ncaa/stats/2016/Averages/Qualified/Jr/Season/All/points/desc/9\n",
      "error: https://basketball.realgm.com/ncaa/stats/2016/Averages/Qualified/Jr/Season/All/points/desc/10\n",
      "error: https://basketball.realgm.com/ncaa/stats/2016/Averages/Qualified/Sr/Season/All/points/desc/8\n",
      "error: https://basketball.realgm.com/ncaa/stats/2016/Averages/Qualified/Sr/Season/All/points/desc/9\n"
     ]
    },
    {
     "name": "stderr",
     "output_type": "stream",
     "text": [
      "\r",
      " 64%|███████████████████████████████████████████████████▌                             | 14/22 [30:43<18:24, 138.08s/it]"
     ]
    },
    {
     "name": "stdout",
     "output_type": "stream",
     "text": [
      "error: https://basketball.realgm.com/ncaa/stats/2016/Averages/Qualified/Sr/Season/All/points/desc/10\n",
      "error: https://basketball.realgm.com/ncaa/stats/2017/Averages/Qualified/Fr/Season/All/points/desc/5\n",
      "error: https://basketball.realgm.com/ncaa/stats/2017/Averages/Qualified/Fr/Season/All/points/desc/6\n",
      "error: https://basketball.realgm.com/ncaa/stats/2017/Averages/Qualified/Fr/Season/All/points/desc/7\n",
      "error: https://basketball.realgm.com/ncaa/stats/2017/Averages/Qualified/Fr/Season/All/points/desc/8\n",
      "error: https://basketball.realgm.com/ncaa/stats/2017/Averages/Qualified/Fr/Season/All/points/desc/9\n",
      "error: https://basketball.realgm.com/ncaa/stats/2017/Averages/Qualified/Fr/Season/All/points/desc/10\n",
      "error: https://basketball.realgm.com/ncaa/stats/2017/Averages/Qualified/So/Season/All/points/desc/7\n",
      "error: https://basketball.realgm.com/ncaa/stats/2017/Averages/Qualified/So/Season/All/points/desc/8\n",
      "error: https://basketball.realgm.com/ncaa/stats/2017/Averages/Qualified/So/Season/All/points/desc/9\n",
      "error: https://basketball.realgm.com/ncaa/stats/2017/Averages/Qualified/So/Season/All/points/desc/10\n",
      "error: https://basketball.realgm.com/ncaa/stats/2017/Averages/Qualified/Jr/Season/All/points/desc/8\n",
      "error: https://basketball.realgm.com/ncaa/stats/2017/Averages/Qualified/Jr/Season/All/points/desc/9\n",
      "error: https://basketball.realgm.com/ncaa/stats/2017/Averages/Qualified/Jr/Season/All/points/desc/10\n",
      "error: https://basketball.realgm.com/ncaa/stats/2017/Averages/Qualified/Sr/Season/All/points/desc/8\n",
      "error: https://basketball.realgm.com/ncaa/stats/2017/Averages/Qualified/Sr/Season/All/points/desc/9\n"
     ]
    },
    {
     "name": "stderr",
     "output_type": "stream",
     "text": [
      "\r",
      " 68%|███████████████████████████████████████████████████████▏                         | 15/22 [33:10<16:24, 140.61s/it]"
     ]
    },
    {
     "name": "stdout",
     "output_type": "stream",
     "text": [
      "error: https://basketball.realgm.com/ncaa/stats/2017/Averages/Qualified/Sr/Season/All/points/desc/10\n",
      "error: https://basketball.realgm.com/ncaa/stats/2018/Averages/Qualified/Fr/Season/All/points/desc/5\n",
      "error: https://basketball.realgm.com/ncaa/stats/2018/Averages/Qualified/Fr/Season/All/points/desc/6\n",
      "error: https://basketball.realgm.com/ncaa/stats/2018/Averages/Qualified/Fr/Season/All/points/desc/7\n",
      "error: https://basketball.realgm.com/ncaa/stats/2018/Averages/Qualified/Fr/Season/All/points/desc/8\n",
      "error: https://basketball.realgm.com/ncaa/stats/2018/Averages/Qualified/Fr/Season/All/points/desc/9\n",
      "error: https://basketball.realgm.com/ncaa/stats/2018/Averages/Qualified/Fr/Season/All/points/desc/10\n",
      "error: https://basketball.realgm.com/ncaa/stats/2018/Averages/Qualified/So/Season/All/points/desc/7\n",
      "error: https://basketball.realgm.com/ncaa/stats/2018/Averages/Qualified/So/Season/All/points/desc/8\n",
      "error: https://basketball.realgm.com/ncaa/stats/2018/Averages/Qualified/So/Season/All/points/desc/9\n",
      "error: https://basketball.realgm.com/ncaa/stats/2018/Averages/Qualified/So/Season/All/points/desc/10\n",
      "error: https://basketball.realgm.com/ncaa/stats/2018/Averages/Qualified/Jr/Season/All/points/desc/8\n",
      "error: https://basketball.realgm.com/ncaa/stats/2018/Averages/Qualified/Jr/Season/All/points/desc/9\n",
      "error: https://basketball.realgm.com/ncaa/stats/2018/Averages/Qualified/Jr/Season/All/points/desc/10\n",
      "error: https://basketball.realgm.com/ncaa/stats/2018/Averages/Qualified/Sr/Season/All/points/desc/8\n",
      "error: https://basketball.realgm.com/ncaa/stats/2018/Averages/Qualified/Sr/Season/All/points/desc/9\n"
     ]
    },
    {
     "name": "stderr",
     "output_type": "stream",
     "text": [
      "\r",
      " 73%|██████████████████████████████████████████████████████████▉                      | 16/22 [35:20<13:43, 137.31s/it]"
     ]
    },
    {
     "name": "stdout",
     "output_type": "stream",
     "text": [
      "error: https://basketball.realgm.com/ncaa/stats/2018/Averages/Qualified/Sr/Season/All/points/desc/10\n",
      "error: https://basketball.realgm.com/ncaa/stats/2019/Averages/Qualified/Fr/Season/All/points/desc/6\n",
      "error: https://basketball.realgm.com/ncaa/stats/2019/Averages/Qualified/Fr/Season/All/points/desc/7\n",
      "error: https://basketball.realgm.com/ncaa/stats/2019/Averages/Qualified/Fr/Season/All/points/desc/8\n",
      "error: https://basketball.realgm.com/ncaa/stats/2019/Averages/Qualified/Fr/Season/All/points/desc/9\n",
      "error: https://basketball.realgm.com/ncaa/stats/2019/Averages/Qualified/Fr/Season/All/points/desc/10\n",
      "error: https://basketball.realgm.com/ncaa/stats/2019/Averages/Qualified/So/Season/All/points/desc/7\n",
      "error: https://basketball.realgm.com/ncaa/stats/2019/Averages/Qualified/So/Season/All/points/desc/8\n",
      "error: https://basketball.realgm.com/ncaa/stats/2019/Averages/Qualified/So/Season/All/points/desc/9\n",
      "error: https://basketball.realgm.com/ncaa/stats/2019/Averages/Qualified/So/Season/All/points/desc/10\n",
      "error: https://basketball.realgm.com/ncaa/stats/2019/Averages/Qualified/Jr/Season/All/points/desc/9\n",
      "error: https://basketball.realgm.com/ncaa/stats/2019/Averages/Qualified/Jr/Season/All/points/desc/10\n",
      "error: https://basketball.realgm.com/ncaa/stats/2019/Averages/Qualified/Sr/Season/All/points/desc/8\n",
      "error: https://basketball.realgm.com/ncaa/stats/2019/Averages/Qualified/Sr/Season/All/points/desc/9\n"
     ]
    },
    {
     "name": "stderr",
     "output_type": "stream",
     "text": [
      "\r",
      " 77%|██████████████████████████████████████████████████████████████▌                  | 17/22 [37:48<11:42, 140.58s/it]"
     ]
    },
    {
     "name": "stdout",
     "output_type": "stream",
     "text": [
      "error: https://basketball.realgm.com/ncaa/stats/2019/Averages/Qualified/Sr/Season/All/points/desc/10\n",
      "error: https://basketball.realgm.com/ncaa/stats/2020/Averages/Qualified/Fr/Season/All/points/desc/5\n",
      "error: https://basketball.realgm.com/ncaa/stats/2020/Averages/Qualified/Fr/Season/All/points/desc/6\n",
      "error: https://basketball.realgm.com/ncaa/stats/2020/Averages/Qualified/Fr/Season/All/points/desc/7\n",
      "error: https://basketball.realgm.com/ncaa/stats/2020/Averages/Qualified/Fr/Season/All/points/desc/8\n",
      "error: https://basketball.realgm.com/ncaa/stats/2020/Averages/Qualified/Fr/Season/All/points/desc/9\n",
      "error: https://basketball.realgm.com/ncaa/stats/2020/Averages/Qualified/Fr/Season/All/points/desc/10\n",
      "error: https://basketball.realgm.com/ncaa/stats/2020/Averages/Qualified/So/Season/All/points/desc/7\n",
      "error: https://basketball.realgm.com/ncaa/stats/2020/Averages/Qualified/So/Season/All/points/desc/8\n",
      "error: https://basketball.realgm.com/ncaa/stats/2020/Averages/Qualified/So/Season/All/points/desc/9\n",
      "error: https://basketball.realgm.com/ncaa/stats/2020/Averages/Qualified/So/Season/All/points/desc/10\n",
      "error: https://basketball.realgm.com/ncaa/stats/2020/Averages/Qualified/Jr/Season/All/points/desc/9\n",
      "error: https://basketball.realgm.com/ncaa/stats/2020/Averages/Qualified/Jr/Season/All/points/desc/10\n",
      "error: https://basketball.realgm.com/ncaa/stats/2020/Averages/Qualified/Sr/Season/All/points/desc/8\n",
      "error: https://basketball.realgm.com/ncaa/stats/2020/Averages/Qualified/Sr/Season/All/points/desc/9\n"
     ]
    },
    {
     "name": "stderr",
     "output_type": "stream",
     "text": [
      "\r",
      " 82%|██████████████████████████████████████████████████████████████████▎              | 18/22 [40:26<09:43, 145.78s/it]"
     ]
    },
    {
     "name": "stdout",
     "output_type": "stream",
     "text": [
      "error: https://basketball.realgm.com/ncaa/stats/2020/Averages/Qualified/Sr/Season/All/points/desc/10\n",
      "error: https://basketball.realgm.com/ncaa/stats/2021/Averages/Qualified/Fr/Season/All/points/desc/5\n",
      "error: https://basketball.realgm.com/ncaa/stats/2021/Averages/Qualified/Fr/Season/All/points/desc/6\n",
      "error: https://basketball.realgm.com/ncaa/stats/2021/Averages/Qualified/Fr/Season/All/points/desc/7\n",
      "error: https://basketball.realgm.com/ncaa/stats/2021/Averages/Qualified/Fr/Season/All/points/desc/8\n",
      "error: https://basketball.realgm.com/ncaa/stats/2021/Averages/Qualified/Fr/Season/All/points/desc/9\n",
      "error: https://basketball.realgm.com/ncaa/stats/2021/Averages/Qualified/Fr/Season/All/points/desc/10\n",
      "error: https://basketball.realgm.com/ncaa/stats/2021/Averages/Qualified/So/Season/All/points/desc/7\n",
      "error: https://basketball.realgm.com/ncaa/stats/2021/Averages/Qualified/So/Season/All/points/desc/8\n",
      "error: https://basketball.realgm.com/ncaa/stats/2021/Averages/Qualified/So/Season/All/points/desc/9\n",
      "error: https://basketball.realgm.com/ncaa/stats/2021/Averages/Qualified/So/Season/All/points/desc/10\n",
      "error: https://basketball.realgm.com/ncaa/stats/2021/Averages/Qualified/Jr/Season/All/points/desc/8\n",
      "error: https://basketball.realgm.com/ncaa/stats/2021/Averages/Qualified/Jr/Season/All/points/desc/9\n",
      "error: https://basketball.realgm.com/ncaa/stats/2021/Averages/Qualified/Jr/Season/All/points/desc/10\n",
      "error: https://basketball.realgm.com/ncaa/stats/2021/Averages/Qualified/Sr/Season/All/points/desc/8\n",
      "error: https://basketball.realgm.com/ncaa/stats/2021/Averages/Qualified/Sr/Season/All/points/desc/9\n"
     ]
    },
    {
     "name": "stderr",
     "output_type": "stream",
     "text": [
      "\r",
      " 86%|█████████████████████████████████████████████████████████████████████▉           | 19/22 [42:49<07:15, 145.07s/it]"
     ]
    },
    {
     "name": "stdout",
     "output_type": "stream",
     "text": [
      "error: https://basketball.realgm.com/ncaa/stats/2021/Averages/Qualified/Sr/Season/All/points/desc/10\n",
      "error: https://basketball.realgm.com/ncaa/stats/2022/Averages/Qualified/Fr/Season/All/points/desc/4\n",
      "error: https://basketball.realgm.com/ncaa/stats/2022/Averages/Qualified/Fr/Season/All/points/desc/5\n",
      "error: https://basketball.realgm.com/ncaa/stats/2022/Averages/Qualified/Fr/Season/All/points/desc/6\n",
      "error: https://basketball.realgm.com/ncaa/stats/2022/Averages/Qualified/Fr/Season/All/points/desc/7\n",
      "error: https://basketball.realgm.com/ncaa/stats/2022/Averages/Qualified/Fr/Season/All/points/desc/8\n",
      "error: https://basketball.realgm.com/ncaa/stats/2022/Averages/Qualified/Fr/Season/All/points/desc/9\n",
      "error: https://basketball.realgm.com/ncaa/stats/2022/Averages/Qualified/Fr/Season/All/points/desc/10\n",
      "error: https://basketball.realgm.com/ncaa/stats/2022/Averages/Qualified/So/Season/All/points/desc/6\n",
      "error: https://basketball.realgm.com/ncaa/stats/2022/Averages/Qualified/So/Season/All/points/desc/7\n",
      "error: https://basketball.realgm.com/ncaa/stats/2022/Averages/Qualified/So/Season/All/points/desc/8\n",
      "error: https://basketball.realgm.com/ncaa/stats/2022/Averages/Qualified/So/Season/All/points/desc/9\n",
      "error: https://basketball.realgm.com/ncaa/stats/2022/Averages/Qualified/So/Season/All/points/desc/10\n",
      "error: https://basketball.realgm.com/ncaa/stats/2022/Averages/Qualified/Jr/Season/All/points/desc/8\n",
      "error: https://basketball.realgm.com/ncaa/stats/2022/Averages/Qualified/Jr/Season/All/points/desc/9\n",
      "error: https://basketball.realgm.com/ncaa/stats/2022/Averages/Qualified/Jr/Season/All/points/desc/10\n"
     ]
    },
    {
     "name": "stderr",
     "output_type": "stream",
     "text": [
      "\r",
      " 91%|█████████████████████████████████████████████████████████████████████████▋       | 20/22 [45:30<04:59, 149.82s/it]"
     ]
    },
    {
     "name": "stdout",
     "output_type": "stream",
     "text": [
      "error: https://basketball.realgm.com/ncaa/stats/2023/Averages/Qualified/Fr/Season/All/points/desc/4\n",
      "error: https://basketball.realgm.com/ncaa/stats/2023/Averages/Qualified/Fr/Season/All/points/desc/5\n",
      "error: https://basketball.realgm.com/ncaa/stats/2023/Averages/Qualified/Fr/Season/All/points/desc/6\n",
      "error: https://basketball.realgm.com/ncaa/stats/2023/Averages/Qualified/Fr/Season/All/points/desc/7\n",
      "error: https://basketball.realgm.com/ncaa/stats/2023/Averages/Qualified/Fr/Season/All/points/desc/8\n",
      "error: https://basketball.realgm.com/ncaa/stats/2023/Averages/Qualified/Fr/Season/All/points/desc/9\n",
      "error: https://basketball.realgm.com/ncaa/stats/2023/Averages/Qualified/Fr/Season/All/points/desc/10\n",
      "error: https://basketball.realgm.com/ncaa/stats/2023/Averages/Qualified/So/Season/All/points/desc/6\n",
      "error: https://basketball.realgm.com/ncaa/stats/2023/Averages/Qualified/So/Season/All/points/desc/7\n",
      "error: https://basketball.realgm.com/ncaa/stats/2023/Averages/Qualified/So/Season/All/points/desc/8\n",
      "error: https://basketball.realgm.com/ncaa/stats/2023/Averages/Qualified/So/Season/All/points/desc/9\n",
      "error: https://basketball.realgm.com/ncaa/stats/2023/Averages/Qualified/So/Season/All/points/desc/10\n",
      "error: https://basketball.realgm.com/ncaa/stats/2023/Averages/Qualified/Jr/Season/All/points/desc/7\n",
      "error: https://basketball.realgm.com/ncaa/stats/2023/Averages/Qualified/Jr/Season/All/points/desc/8\n",
      "error: https://basketball.realgm.com/ncaa/stats/2023/Averages/Qualified/Jr/Season/All/points/desc/9\n",
      "error: https://basketball.realgm.com/ncaa/stats/2023/Averages/Qualified/Jr/Season/All/points/desc/10\n"
     ]
    },
    {
     "name": "stderr",
     "output_type": "stream",
     "text": [
      "\r",
      " 95%|█████████████████████████████████████████████████████████████████████████████▎   | 21/22 [48:05<02:31, 151.27s/it]"
     ]
    },
    {
     "name": "stdout",
     "output_type": "stream",
     "text": [
      "error: https://basketball.realgm.com/ncaa/stats/2024/Averages/Qualified/Fr/Season/All/points/desc/4\n",
      "error: https://basketball.realgm.com/ncaa/stats/2024/Averages/Qualified/Fr/Season/All/points/desc/5\n",
      "error: https://basketball.realgm.com/ncaa/stats/2024/Averages/Qualified/Fr/Season/All/points/desc/6\n",
      "error: https://basketball.realgm.com/ncaa/stats/2024/Averages/Qualified/Fr/Season/All/points/desc/7\n",
      "error: https://basketball.realgm.com/ncaa/stats/2024/Averages/Qualified/Fr/Season/All/points/desc/8\n",
      "error: https://basketball.realgm.com/ncaa/stats/2024/Averages/Qualified/Fr/Season/All/points/desc/9\n",
      "error: https://basketball.realgm.com/ncaa/stats/2024/Averages/Qualified/Fr/Season/All/points/desc/10\n",
      "error: https://basketball.realgm.com/ncaa/stats/2024/Averages/Qualified/So/Season/All/points/desc/6\n",
      "error: https://basketball.realgm.com/ncaa/stats/2024/Averages/Qualified/So/Season/All/points/desc/7\n",
      "error: https://basketball.realgm.com/ncaa/stats/2024/Averages/Qualified/So/Season/All/points/desc/8\n",
      "error: https://basketball.realgm.com/ncaa/stats/2024/Averages/Qualified/So/Season/All/points/desc/9\n",
      "error: https://basketball.realgm.com/ncaa/stats/2024/Averages/Qualified/So/Season/All/points/desc/10\n",
      "error: https://basketball.realgm.com/ncaa/stats/2024/Averages/Qualified/Jr/Season/All/points/desc/8\n",
      "error: https://basketball.realgm.com/ncaa/stats/2024/Averages/Qualified/Jr/Season/All/points/desc/9\n",
      "error: https://basketball.realgm.com/ncaa/stats/2024/Averages/Qualified/Jr/Season/All/points/desc/10\n"
     ]
    },
    {
     "name": "stderr",
     "output_type": "stream",
     "text": [
      "100%|█████████████████████████████████████████████████████████████████████████████████| 22/22 [50:18<00:00, 137.22s/it]\n"
     ]
    }
   ],
   "source": [
    "table=[]\n",
    "for year in tqdm(years):\n",
    "    for cls in classes:\n",
    "        for page in range(1,11):\n",
    "            try:\n",
    "                url=f'https://basketball.realgm.com/ncaa/stats/{year}/Averages/Qualified/{cls}/Season/All/points/desc/{page}'\n",
    "                r=req.get(url)\n",
    "                soup=BeautifulSoup(r.text)\n",
    "                for i in range(1,31):\n",
    "                    row=[str(soup.find_all('tr')[i]).split('</td>')[1].split('>')[-2][:-3],cls,year]\n",
    "                    for j in range(3,23):\n",
    "                        row.append(str(soup.find_all('tr')[i]).split('</td>')[j][4:])\n",
    "                    table.append(row)\n",
    "            except:\n",
    "                print('error: '+url)\n",
    "                pass"
   ]
  },
  {
   "cell_type": "code",
   "execution_count": 4,
   "id": "f64f0cf9",
   "metadata": {},
   "outputs": [],
   "source": [
    "df=pd.DataFrame(table,columns=columns)"
   ]
  },
  {
   "cell_type": "code",
   "execution_count": 7,
   "id": "cad5a44f",
   "metadata": {},
   "outputs": [],
   "source": [
    "df.to_excel('ncaa-stats-complete.xlsx',index=False)"
   ]
  },
  {
   "cell_type": "code",
   "execution_count": 8,
   "id": "275b394d",
   "metadata": {},
   "outputs": [
    {
     "data": {
      "text/html": [
       "<div>\n",
       "<style scoped>\n",
       "    .dataframe tbody tr th:only-of-type {\n",
       "        vertical-align: middle;\n",
       "    }\n",
       "\n",
       "    .dataframe tbody tr th {\n",
       "        vertical-align: top;\n",
       "    }\n",
       "\n",
       "    .dataframe thead th {\n",
       "        text-align: right;\n",
       "    }\n",
       "</style>\n",
       "<table border=\"1\" class=\"dataframe\">\n",
       "  <thead>\n",
       "    <tr style=\"text-align: right;\">\n",
       "      <th></th>\n",
       "      <th>player</th>\n",
       "      <th>cls</th>\n",
       "      <th>year</th>\n",
       "      <th>gp</th>\n",
       "      <th>mpg</th>\n",
       "      <th>ppg</th>\n",
       "      <th>fgm</th>\n",
       "      <th>fga</th>\n",
       "      <th>fg%</th>\n",
       "      <th>3pm</th>\n",
       "      <th>...</th>\n",
       "      <th>fta</th>\n",
       "      <th>ft%</th>\n",
       "      <th>orb</th>\n",
       "      <th>drb</th>\n",
       "      <th>rpg</th>\n",
       "      <th>apg</th>\n",
       "      <th>spg</th>\n",
       "      <th>bpg</th>\n",
       "      <th>tov</th>\n",
       "      <th>pf</th>\n",
       "    </tr>\n",
       "  </thead>\n",
       "  <tbody>\n",
       "    <tr>\n",
       "      <th>0</th>\n",
       "      <td>Kee-Kee Clark</td>\n",
       "      <td>Fr</td>\n",
       "      <td>2003</td>\n",
       "      <td>29</td>\n",
       "      <td>38.2</td>\n",
       "      <td>24.9</td>\n",
       "      <td>8.0</td>\n",
       "      <td>20.1</td>\n",
       "      <td>.396</td>\n",
       "      <td>3.8</td>\n",
       "      <td>...</td>\n",
       "      <td>6.1</td>\n",
       "      <td>.853</td>\n",
       "      <td>0.8</td>\n",
       "      <td>2.4</td>\n",
       "      <td>3.3</td>\n",
       "      <td>4.2</td>\n",
       "      <td>1.4</td>\n",
       "      <td>0.2</td>\n",
       "      <td>4.0</td>\n",
       "      <td>1.9</td>\n",
       "    </tr>\n",
       "    <tr>\n",
       "      <th>1</th>\n",
       "      <td>Carmelo Anthony</td>\n",
       "      <td>Fr</td>\n",
       "      <td>2003</td>\n",
       "      <td>35</td>\n",
       "      <td>36.4</td>\n",
       "      <td>22.2</td>\n",
       "      <td>7.9</td>\n",
       "      <td>17.5</td>\n",
       "      <td>.453</td>\n",
       "      <td>1.6</td>\n",
       "      <td>...</td>\n",
       "      <td>6.8</td>\n",
       "      <td>.706</td>\n",
       "      <td>2.9</td>\n",
       "      <td>6.9</td>\n",
       "      <td>9.7</td>\n",
       "      <td>2.2</td>\n",
       "      <td>1.5</td>\n",
       "      <td>0.9</td>\n",
       "      <td>2.2</td>\n",
       "      <td>2.2</td>\n",
       "    </tr>\n",
       "    <tr>\n",
       "      <th>2</th>\n",
       "      <td>Darshan Luckey</td>\n",
       "      <td>Fr</td>\n",
       "      <td>2003</td>\n",
       "      <td>28</td>\n",
       "      <td>37.5</td>\n",
       "      <td>21.6</td>\n",
       "      <td>7.2</td>\n",
       "      <td>18.8</td>\n",
       "      <td>.383</td>\n",
       "      <td>1.6</td>\n",
       "      <td>...</td>\n",
       "      <td>7.2</td>\n",
       "      <td>.777</td>\n",
       "      <td>0.8</td>\n",
       "      <td>4.4</td>\n",
       "      <td>5.1</td>\n",
       "      <td>1.6</td>\n",
       "      <td>1.7</td>\n",
       "      <td>0.3</td>\n",
       "      <td>4.1</td>\n",
       "      <td>2.3</td>\n",
       "    </tr>\n",
       "    <tr>\n",
       "      <th>3</th>\n",
       "      <td>Craig Smith</td>\n",
       "      <td>Fr</td>\n",
       "      <td>2003</td>\n",
       "      <td>31</td>\n",
       "      <td>31.9</td>\n",
       "      <td>19.9</td>\n",
       "      <td>7.8</td>\n",
       "      <td>12.9</td>\n",
       "      <td>.603</td>\n",
       "      <td>0.1</td>\n",
       "      <td>...</td>\n",
       "      <td>6.3</td>\n",
       "      <td>.677</td>\n",
       "      <td>3.2</td>\n",
       "      <td>4.7</td>\n",
       "      <td>7.9</td>\n",
       "      <td>1.3</td>\n",
       "      <td>0.9</td>\n",
       "      <td>0.9</td>\n",
       "      <td>2.4</td>\n",
       "      <td>3.4</td>\n",
       "    </tr>\n",
       "    <tr>\n",
       "      <th>4</th>\n",
       "      <td>Ike Diogu</td>\n",
       "      <td>Fr</td>\n",
       "      <td>2003</td>\n",
       "      <td>32</td>\n",
       "      <td>32.2</td>\n",
       "      <td>19.0</td>\n",
       "      <td>6.6</td>\n",
       "      <td>10.8</td>\n",
       "      <td>.609</td>\n",
       "      <td>0.3</td>\n",
       "      <td>...</td>\n",
       "      <td>7.7</td>\n",
       "      <td>.735</td>\n",
       "      <td>3.1</td>\n",
       "      <td>4.8</td>\n",
       "      <td>7.8</td>\n",
       "      <td>0.8</td>\n",
       "      <td>0.3</td>\n",
       "      <td>1.0</td>\n",
       "      <td>2.8</td>\n",
       "      <td>2.9</td>\n",
       "    </tr>\n",
       "    <tr>\n",
       "      <th>...</th>\n",
       "      <td>...</td>\n",
       "      <td>...</td>\n",
       "      <td>...</td>\n",
       "      <td>...</td>\n",
       "      <td>...</td>\n",
       "      <td>...</td>\n",
       "      <td>...</td>\n",
       "      <td>...</td>\n",
       "      <td>...</td>\n",
       "      <td>...</td>\n",
       "      <td>...</td>\n",
       "      <td>...</td>\n",
       "      <td>...</td>\n",
       "      <td>...</td>\n",
       "      <td>...</td>\n",
       "      <td>...</td>\n",
       "      <td>...</td>\n",
       "      <td>...</td>\n",
       "      <td>...</td>\n",
       "      <td>...</td>\n",
       "      <td>...</td>\n",
       "    </tr>\n",
       "    <tr>\n",
       "      <th>15942</th>\n",
       "      <td>Ja'Shonte' Wright-McLeish</td>\n",
       "      <td>Sr</td>\n",
       "      <td>2024</td>\n",
       "      <td>32</td>\n",
       "      <td>28.2</td>\n",
       "      <td>6.3</td>\n",
       "      <td>2.3</td>\n",
       "      <td>6.2</td>\n",
       "      <td>.365</td>\n",
       "      <td>1.3</td>\n",
       "      <td>...</td>\n",
       "      <td>0.8</td>\n",
       "      <td>.654</td>\n",
       "      <td>0.5</td>\n",
       "      <td>1.2</td>\n",
       "      <td>1.7</td>\n",
       "      <td>0.9</td>\n",
       "      <td>1.3</td>\n",
       "      <td>0.3</td>\n",
       "      <td>0.9</td>\n",
       "      <td>2.5</td>\n",
       "    </tr>\n",
       "    <tr>\n",
       "      <th>15943</th>\n",
       "      <td>Santiago Vescovi</td>\n",
       "      <td>Sr</td>\n",
       "      <td>2024</td>\n",
       "      <td>35</td>\n",
       "      <td>25.4</td>\n",
       "      <td>6.3</td>\n",
       "      <td>1.9</td>\n",
       "      <td>5.3</td>\n",
       "      <td>.368</td>\n",
       "      <td>1.2</td>\n",
       "      <td>...</td>\n",
       "      <td>1.5</td>\n",
       "      <td>.796</td>\n",
       "      <td>0.7</td>\n",
       "      <td>2.9</td>\n",
       "      <td>3.7</td>\n",
       "      <td>2.5</td>\n",
       "      <td>1.1</td>\n",
       "      <td>0.0</td>\n",
       "      <td>1.0</td>\n",
       "      <td>2.6</td>\n",
       "    </tr>\n",
       "    <tr>\n",
       "      <th>15944</th>\n",
       "      <td>Robert Braswell IV</td>\n",
       "      <td>Sr</td>\n",
       "      <td>2024</td>\n",
       "      <td>27</td>\n",
       "      <td>16.7</td>\n",
       "      <td>6.3</td>\n",
       "      <td>2.3</td>\n",
       "      <td>5.2</td>\n",
       "      <td>.433</td>\n",
       "      <td>1.2</td>\n",
       "      <td>...</td>\n",
       "      <td>0.9</td>\n",
       "      <td>.667</td>\n",
       "      <td>0.9</td>\n",
       "      <td>0.9</td>\n",
       "      <td>1.7</td>\n",
       "      <td>0.3</td>\n",
       "      <td>0.3</td>\n",
       "      <td>0.3</td>\n",
       "      <td>0.5</td>\n",
       "      <td>1.0</td>\n",
       "    </tr>\n",
       "    <tr>\n",
       "      <th>15945</th>\n",
       "      <td>Akol Mawein</td>\n",
       "      <td>Sr</td>\n",
       "      <td>2024</td>\n",
       "      <td>34</td>\n",
       "      <td>18.5</td>\n",
       "      <td>6.3</td>\n",
       "      <td>2.2</td>\n",
       "      <td>4.3</td>\n",
       "      <td>.503</td>\n",
       "      <td>0.3</td>\n",
       "      <td>...</td>\n",
       "      <td>2.2</td>\n",
       "      <td>.773</td>\n",
       "      <td>0.9</td>\n",
       "      <td>2.4</td>\n",
       "      <td>3.3</td>\n",
       "      <td>0.9</td>\n",
       "      <td>0.6</td>\n",
       "      <td>0.5</td>\n",
       "      <td>1.2</td>\n",
       "      <td>2.2</td>\n",
       "    </tr>\n",
       "    <tr>\n",
       "      <th>15946</th>\n",
       "      <td>Gediminas Mokseckas</td>\n",
       "      <td>Sr</td>\n",
       "      <td>2024</td>\n",
       "      <td>32</td>\n",
       "      <td>27.9</td>\n",
       "      <td>6.3</td>\n",
       "      <td>2.1</td>\n",
       "      <td>5.8</td>\n",
       "      <td>.364</td>\n",
       "      <td>1.1</td>\n",
       "      <td>...</td>\n",
       "      <td>1.6</td>\n",
       "      <td>.627</td>\n",
       "      <td>0.3</td>\n",
       "      <td>2.1</td>\n",
       "      <td>2.4</td>\n",
       "      <td>2.0</td>\n",
       "      <td>0.4</td>\n",
       "      <td>0.2</td>\n",
       "      <td>1.7</td>\n",
       "      <td>1.7</td>\n",
       "    </tr>\n",
       "  </tbody>\n",
       "</table>\n",
       "<p>15947 rows × 23 columns</p>\n",
       "</div>"
      ],
      "text/plain": [
       "                          player cls  year  gp   mpg   ppg  fgm   fga   fg%  \\\n",
       "0                  Kee-Kee Clark  Fr  2003  29  38.2  24.9  8.0  20.1  .396   \n",
       "1                Carmelo Anthony  Fr  2003  35  36.4  22.2  7.9  17.5  .453   \n",
       "2                 Darshan Luckey  Fr  2003  28  37.5  21.6  7.2  18.8  .383   \n",
       "3                    Craig Smith  Fr  2003  31  31.9  19.9  7.8  12.9  .603   \n",
       "4                      Ike Diogu  Fr  2003  32  32.2  19.0  6.6  10.8  .609   \n",
       "...                          ...  ..   ...  ..   ...   ...  ...   ...   ...   \n",
       "15942  Ja'Shonte' Wright-McLeish  Sr  2024  32  28.2   6.3  2.3   6.2  .365   \n",
       "15943           Santiago Vescovi  Sr  2024  35  25.4   6.3  1.9   5.3  .368   \n",
       "15944         Robert Braswell IV  Sr  2024  27  16.7   6.3  2.3   5.2  .433   \n",
       "15945                Akol Mawein  Sr  2024  34  18.5   6.3  2.2   4.3  .503   \n",
       "15946        Gediminas Mokseckas  Sr  2024  32  27.9   6.3  2.1   5.8  .364   \n",
       "\n",
       "       3pm  ...  fta   ft%  orb  drb  rpg  apg  spg  bpg  tov   pf  \n",
       "0      3.8  ...  6.1  .853  0.8  2.4  3.3  4.2  1.4  0.2  4.0  1.9  \n",
       "1      1.6  ...  6.8  .706  2.9  6.9  9.7  2.2  1.5  0.9  2.2  2.2  \n",
       "2      1.6  ...  7.2  .777  0.8  4.4  5.1  1.6  1.7  0.3  4.1  2.3  \n",
       "3      0.1  ...  6.3  .677  3.2  4.7  7.9  1.3  0.9  0.9  2.4  3.4  \n",
       "4      0.3  ...  7.7  .735  3.1  4.8  7.8  0.8  0.3  1.0  2.8  2.9  \n",
       "...    ...  ...  ...   ...  ...  ...  ...  ...  ...  ...  ...  ...  \n",
       "15942  1.3  ...  0.8  .654  0.5  1.2  1.7  0.9  1.3  0.3  0.9  2.5  \n",
       "15943  1.2  ...  1.5  .796  0.7  2.9  3.7  2.5  1.1  0.0  1.0  2.6  \n",
       "15944  1.2  ...  0.9  .667  0.9  0.9  1.7  0.3  0.3  0.3  0.5  1.0  \n",
       "15945  0.3  ...  2.2  .773  0.9  2.4  3.3  0.9  0.6  0.5  1.2  2.2  \n",
       "15946  1.1  ...  1.6  .627  0.3  2.1  2.4  2.0  0.4  0.2  1.7  1.7  \n",
       "\n",
       "[15947 rows x 23 columns]"
      ]
     },
     "execution_count": 8,
     "metadata": {},
     "output_type": "execute_result"
    }
   ],
   "source": [
    "df"
   ]
  },
  {
   "cell_type": "markdown",
   "id": "3318ea13",
   "metadata": {},
   "source": [
    "### Creating Advanced Stats Dataset"
   ]
  },
  {
   "cell_type": "code",
   "execution_count": 9,
   "id": "fd309ca0",
   "metadata": {},
   "outputs": [],
   "source": [
    "classes=['Fr','So','Jr','Sr']\n",
    "years=np.arange(2003,2025,1)\n",
    "columns=['player','cls','year','TS%','eFG%','totalS%','orb%','drb%','trb%','ast%','tov%','stl%','blk%',\n",
    "        'usg%','ppr','pps','ORtg','DRtg','eDiff','FIC','PER']"
   ]
  },
  {
   "cell_type": "code",
   "execution_count": 10,
   "id": "7b7bd37d",
   "metadata": {},
   "outputs": [
    {
     "name": "stderr",
     "output_type": "stream",
     "text": [
      "\r",
      "  0%|                                                                                           | 0/22 [00:00<?, ?it/s]"
     ]
    },
    {
     "name": "stdout",
     "output_type": "stream",
     "text": [
      "error: https://basketball.realgm.com/ncaa/stats/2003/Advanced_Stats/Qualified/Fr/Season/All/per/desc/5\n",
      "error: https://basketball.realgm.com/ncaa/stats/2003/Advanced_Stats/Qualified/Fr/Season/All/per/desc/6\n",
      "error: https://basketball.realgm.com/ncaa/stats/2003/Advanced_Stats/Qualified/Fr/Season/All/per/desc/7\n",
      "error: https://basketball.realgm.com/ncaa/stats/2003/Advanced_Stats/Qualified/Fr/Season/All/per/desc/8\n",
      "error: https://basketball.realgm.com/ncaa/stats/2003/Advanced_Stats/Qualified/Fr/Season/All/per/desc/9\n",
      "error: https://basketball.realgm.com/ncaa/stats/2003/Advanced_Stats/Qualified/Fr/Season/All/per/desc/10\n",
      "error: https://basketball.realgm.com/ncaa/stats/2003/Advanced_Stats/Qualified/So/Season/All/per/desc/7\n",
      "error: https://basketball.realgm.com/ncaa/stats/2003/Advanced_Stats/Qualified/So/Season/All/per/desc/8\n",
      "error: https://basketball.realgm.com/ncaa/stats/2003/Advanced_Stats/Qualified/So/Season/All/per/desc/9\n",
      "error: https://basketball.realgm.com/ncaa/stats/2003/Advanced_Stats/Qualified/So/Season/All/per/desc/10\n",
      "error: https://basketball.realgm.com/ncaa/stats/2003/Advanced_Stats/Qualified/Jr/Season/All/per/desc/8\n",
      "error: https://basketball.realgm.com/ncaa/stats/2003/Advanced_Stats/Qualified/Jr/Season/All/per/desc/9\n",
      "error: https://basketball.realgm.com/ncaa/stats/2003/Advanced_Stats/Qualified/Jr/Season/All/per/desc/10\n",
      "error: https://basketball.realgm.com/ncaa/stats/2003/Advanced_Stats/Qualified/Sr/Season/All/per/desc/6\n",
      "error: https://basketball.realgm.com/ncaa/stats/2003/Advanced_Stats/Qualified/Sr/Season/All/per/desc/7\n",
      "error: https://basketball.realgm.com/ncaa/stats/2003/Advanced_Stats/Qualified/Sr/Season/All/per/desc/8\n",
      "error: https://basketball.realgm.com/ncaa/stats/2003/Advanced_Stats/Qualified/Sr/Season/All/per/desc/9\n"
     ]
    },
    {
     "name": "stderr",
     "output_type": "stream",
     "text": [
      "\r",
      "  5%|███▋                                                                              | 1/22 [02:28<51:54, 148.32s/it]"
     ]
    },
    {
     "name": "stdout",
     "output_type": "stream",
     "text": [
      "error: https://basketball.realgm.com/ncaa/stats/2003/Advanced_Stats/Qualified/Sr/Season/All/per/desc/10\n",
      "error: https://basketball.realgm.com/ncaa/stats/2004/Advanced_Stats/Qualified/Fr/Season/All/per/desc/5\n",
      "error: https://basketball.realgm.com/ncaa/stats/2004/Advanced_Stats/Qualified/Fr/Season/All/per/desc/6\n",
      "error: https://basketball.realgm.com/ncaa/stats/2004/Advanced_Stats/Qualified/Fr/Season/All/per/desc/7\n",
      "error: https://basketball.realgm.com/ncaa/stats/2004/Advanced_Stats/Qualified/Fr/Season/All/per/desc/8\n",
      "error: https://basketball.realgm.com/ncaa/stats/2004/Advanced_Stats/Qualified/Fr/Season/All/per/desc/9\n",
      "error: https://basketball.realgm.com/ncaa/stats/2004/Advanced_Stats/Qualified/Fr/Season/All/per/desc/10\n",
      "error: https://basketball.realgm.com/ncaa/stats/2004/Advanced_Stats/Qualified/So/Season/All/per/desc/7\n",
      "error: https://basketball.realgm.com/ncaa/stats/2004/Advanced_Stats/Qualified/So/Season/All/per/desc/8\n",
      "error: https://basketball.realgm.com/ncaa/stats/2004/Advanced_Stats/Qualified/So/Season/All/per/desc/9\n",
      "error: https://basketball.realgm.com/ncaa/stats/2004/Advanced_Stats/Qualified/So/Season/All/per/desc/10\n",
      "error: https://basketball.realgm.com/ncaa/stats/2004/Advanced_Stats/Qualified/Jr/Season/All/per/desc/8\n",
      "error: https://basketball.realgm.com/ncaa/stats/2004/Advanced_Stats/Qualified/Jr/Season/All/per/desc/9\n",
      "error: https://basketball.realgm.com/ncaa/stats/2004/Advanced_Stats/Qualified/Jr/Season/All/per/desc/10\n",
      "error: https://basketball.realgm.com/ncaa/stats/2004/Advanced_Stats/Qualified/Sr/Season/All/per/desc/7\n",
      "error: https://basketball.realgm.com/ncaa/stats/2004/Advanced_Stats/Qualified/Sr/Season/All/per/desc/8\n",
      "error: https://basketball.realgm.com/ncaa/stats/2004/Advanced_Stats/Qualified/Sr/Season/All/per/desc/9\n"
     ]
    },
    {
     "name": "stderr",
     "output_type": "stream",
     "text": [
      "\r",
      "  9%|███████▍                                                                          | 2/22 [05:33<56:42, 170.12s/it]"
     ]
    },
    {
     "name": "stdout",
     "output_type": "stream",
     "text": [
      "error: https://basketball.realgm.com/ncaa/stats/2004/Advanced_Stats/Qualified/Sr/Season/All/per/desc/10\n",
      "error: https://basketball.realgm.com/ncaa/stats/2005/Advanced_Stats/Qualified/Fr/Season/All/per/desc/5\n",
      "error: https://basketball.realgm.com/ncaa/stats/2005/Advanced_Stats/Qualified/Fr/Season/All/per/desc/6\n",
      "error: https://basketball.realgm.com/ncaa/stats/2005/Advanced_Stats/Qualified/Fr/Season/All/per/desc/7\n",
      "error: https://basketball.realgm.com/ncaa/stats/2005/Advanced_Stats/Qualified/Fr/Season/All/per/desc/8\n",
      "error: https://basketball.realgm.com/ncaa/stats/2005/Advanced_Stats/Qualified/Fr/Season/All/per/desc/9\n",
      "error: https://basketball.realgm.com/ncaa/stats/2005/Advanced_Stats/Qualified/Fr/Season/All/per/desc/10\n",
      "error: https://basketball.realgm.com/ncaa/stats/2005/Advanced_Stats/Qualified/So/Season/All/per/desc/6\n",
      "error: https://basketball.realgm.com/ncaa/stats/2005/Advanced_Stats/Qualified/So/Season/All/per/desc/7\n",
      "error: https://basketball.realgm.com/ncaa/stats/2005/Advanced_Stats/Qualified/So/Season/All/per/desc/8\n",
      "error: https://basketball.realgm.com/ncaa/stats/2005/Advanced_Stats/Qualified/So/Season/All/per/desc/9\n",
      "error: https://basketball.realgm.com/ncaa/stats/2005/Advanced_Stats/Qualified/So/Season/All/per/desc/10\n",
      "error: https://basketball.realgm.com/ncaa/stats/2005/Advanced_Stats/Qualified/Jr/Season/All/per/desc/8\n",
      "error: https://basketball.realgm.com/ncaa/stats/2005/Advanced_Stats/Qualified/Jr/Season/All/per/desc/9\n",
      "error: https://basketball.realgm.com/ncaa/stats/2005/Advanced_Stats/Qualified/Jr/Season/All/per/desc/10\n",
      "error: https://basketball.realgm.com/ncaa/stats/2005/Advanced_Stats/Qualified/Sr/Season/All/per/desc/7\n",
      "error: https://basketball.realgm.com/ncaa/stats/2005/Advanced_Stats/Qualified/Sr/Season/All/per/desc/8\n",
      "error: https://basketball.realgm.com/ncaa/stats/2005/Advanced_Stats/Qualified/Sr/Season/All/per/desc/9\n"
     ]
    },
    {
     "name": "stderr",
     "output_type": "stream",
     "text": [
      "\r",
      " 14%|███████████▏                                                                      | 3/22 [08:37<55:46, 176.15s/it]"
     ]
    },
    {
     "name": "stdout",
     "output_type": "stream",
     "text": [
      "error: https://basketball.realgm.com/ncaa/stats/2005/Advanced_Stats/Qualified/Sr/Season/All/per/desc/10\n",
      "error: https://basketball.realgm.com/ncaa/stats/2006/Advanced_Stats/Qualified/Fr/Season/All/per/desc/5\n",
      "error: https://basketball.realgm.com/ncaa/stats/2006/Advanced_Stats/Qualified/Fr/Season/All/per/desc/6\n",
      "error: https://basketball.realgm.com/ncaa/stats/2006/Advanced_Stats/Qualified/Fr/Season/All/per/desc/7\n",
      "error: https://basketball.realgm.com/ncaa/stats/2006/Advanced_Stats/Qualified/Fr/Season/All/per/desc/8\n",
      "error: https://basketball.realgm.com/ncaa/stats/2006/Advanced_Stats/Qualified/Fr/Season/All/per/desc/9\n",
      "error: https://basketball.realgm.com/ncaa/stats/2006/Advanced_Stats/Qualified/Fr/Season/All/per/desc/10\n",
      "error: https://basketball.realgm.com/ncaa/stats/2006/Advanced_Stats/Qualified/So/Season/All/per/desc/7\n",
      "error: https://basketball.realgm.com/ncaa/stats/2006/Advanced_Stats/Qualified/So/Season/All/per/desc/8\n",
      "error: https://basketball.realgm.com/ncaa/stats/2006/Advanced_Stats/Qualified/So/Season/All/per/desc/9\n",
      "error: https://basketball.realgm.com/ncaa/stats/2006/Advanced_Stats/Qualified/So/Season/All/per/desc/10\n",
      "error: https://basketball.realgm.com/ncaa/stats/2006/Advanced_Stats/Qualified/Jr/Season/All/per/desc/8\n",
      "error: https://basketball.realgm.com/ncaa/stats/2006/Advanced_Stats/Qualified/Jr/Season/All/per/desc/9\n",
      "error: https://basketball.realgm.com/ncaa/stats/2006/Advanced_Stats/Qualified/Jr/Season/All/per/desc/10\n",
      "error: https://basketball.realgm.com/ncaa/stats/2006/Advanced_Stats/Qualified/Sr/Season/All/per/desc/7\n",
      "error: https://basketball.realgm.com/ncaa/stats/2006/Advanced_Stats/Qualified/Sr/Season/All/per/desc/8\n",
      "error: https://basketball.realgm.com/ncaa/stats/2006/Advanced_Stats/Qualified/Sr/Season/All/per/desc/9\n"
     ]
    },
    {
     "name": "stderr",
     "output_type": "stream",
     "text": [
      "\r",
      " 18%|██████████████▉                                                                   | 4/22 [11:40<53:40, 178.91s/it]"
     ]
    },
    {
     "name": "stdout",
     "output_type": "stream",
     "text": [
      "error: https://basketball.realgm.com/ncaa/stats/2006/Advanced_Stats/Qualified/Sr/Season/All/per/desc/10\n",
      "error: https://basketball.realgm.com/ncaa/stats/2007/Advanced_Stats/Qualified/Fr/Season/All/per/desc/5\n",
      "error: https://basketball.realgm.com/ncaa/stats/2007/Advanced_Stats/Qualified/Fr/Season/All/per/desc/6\n",
      "error: https://basketball.realgm.com/ncaa/stats/2007/Advanced_Stats/Qualified/Fr/Season/All/per/desc/7\n",
      "error: https://basketball.realgm.com/ncaa/stats/2007/Advanced_Stats/Qualified/Fr/Season/All/per/desc/8\n",
      "error: https://basketball.realgm.com/ncaa/stats/2007/Advanced_Stats/Qualified/Fr/Season/All/per/desc/9\n",
      "error: https://basketball.realgm.com/ncaa/stats/2007/Advanced_Stats/Qualified/Fr/Season/All/per/desc/10\n",
      "error: https://basketball.realgm.com/ncaa/stats/2007/Advanced_Stats/Qualified/So/Season/All/per/desc/6\n",
      "error: https://basketball.realgm.com/ncaa/stats/2007/Advanced_Stats/Qualified/So/Season/All/per/desc/7\n",
      "error: https://basketball.realgm.com/ncaa/stats/2007/Advanced_Stats/Qualified/So/Season/All/per/desc/8\n",
      "error: https://basketball.realgm.com/ncaa/stats/2007/Advanced_Stats/Qualified/So/Season/All/per/desc/9\n",
      "error: https://basketball.realgm.com/ncaa/stats/2007/Advanced_Stats/Qualified/So/Season/All/per/desc/10\n",
      "error: https://basketball.realgm.com/ncaa/stats/2007/Advanced_Stats/Qualified/Jr/Season/All/per/desc/8\n",
      "error: https://basketball.realgm.com/ncaa/stats/2007/Advanced_Stats/Qualified/Jr/Season/All/per/desc/9\n",
      "error: https://basketball.realgm.com/ncaa/stats/2007/Advanced_Stats/Qualified/Jr/Season/All/per/desc/10\n",
      "error: https://basketball.realgm.com/ncaa/stats/2007/Advanced_Stats/Qualified/Sr/Season/All/per/desc/7\n",
      "error: https://basketball.realgm.com/ncaa/stats/2007/Advanced_Stats/Qualified/Sr/Season/All/per/desc/8\n",
      "error: https://basketball.realgm.com/ncaa/stats/2007/Advanced_Stats/Qualified/Sr/Season/All/per/desc/9\n"
     ]
    },
    {
     "name": "stderr",
     "output_type": "stream",
     "text": [
      "\r",
      " 23%|██████████████████▋                                                               | 5/22 [14:47<51:34, 182.04s/it]"
     ]
    },
    {
     "name": "stdout",
     "output_type": "stream",
     "text": [
      "error: https://basketball.realgm.com/ncaa/stats/2007/Advanced_Stats/Qualified/Sr/Season/All/per/desc/10\n",
      "error: https://basketball.realgm.com/ncaa/stats/2008/Advanced_Stats/Qualified/Fr/Season/All/per/desc/5\n",
      "error: https://basketball.realgm.com/ncaa/stats/2008/Advanced_Stats/Qualified/Fr/Season/All/per/desc/6\n",
      "error: https://basketball.realgm.com/ncaa/stats/2008/Advanced_Stats/Qualified/Fr/Season/All/per/desc/7\n",
      "error: https://basketball.realgm.com/ncaa/stats/2008/Advanced_Stats/Qualified/Fr/Season/All/per/desc/8\n",
      "error: https://basketball.realgm.com/ncaa/stats/2008/Advanced_Stats/Qualified/Fr/Season/All/per/desc/9\n",
      "error: https://basketball.realgm.com/ncaa/stats/2008/Advanced_Stats/Qualified/Fr/Season/All/per/desc/10\n",
      "error: https://basketball.realgm.com/ncaa/stats/2008/Advanced_Stats/Qualified/So/Season/All/per/desc/6\n",
      "error: https://basketball.realgm.com/ncaa/stats/2008/Advanced_Stats/Qualified/So/Season/All/per/desc/7\n",
      "error: https://basketball.realgm.com/ncaa/stats/2008/Advanced_Stats/Qualified/So/Season/All/per/desc/8\n",
      "error: https://basketball.realgm.com/ncaa/stats/2008/Advanced_Stats/Qualified/So/Season/All/per/desc/9\n",
      "error: https://basketball.realgm.com/ncaa/stats/2008/Advanced_Stats/Qualified/So/Season/All/per/desc/10\n",
      "error: https://basketball.realgm.com/ncaa/stats/2008/Advanced_Stats/Qualified/Jr/Season/All/per/desc/8\n",
      "error: https://basketball.realgm.com/ncaa/stats/2008/Advanced_Stats/Qualified/Jr/Season/All/per/desc/9\n",
      "error: https://basketball.realgm.com/ncaa/stats/2008/Advanced_Stats/Qualified/Jr/Season/All/per/desc/10\n",
      "error: https://basketball.realgm.com/ncaa/stats/2008/Advanced_Stats/Qualified/Sr/Season/All/per/desc/8\n",
      "error: https://basketball.realgm.com/ncaa/stats/2008/Advanced_Stats/Qualified/Sr/Season/All/per/desc/9\n"
     ]
    },
    {
     "name": "stderr",
     "output_type": "stream",
     "text": [
      "\r",
      " 27%|██████████████████████▎                                                           | 6/22 [17:42<47:54, 179.68s/it]"
     ]
    },
    {
     "name": "stdout",
     "output_type": "stream",
     "text": [
      "error: https://basketball.realgm.com/ncaa/stats/2008/Advanced_Stats/Qualified/Sr/Season/All/per/desc/10\n",
      "error: https://basketball.realgm.com/ncaa/stats/2009/Advanced_Stats/Qualified/Fr/Season/All/per/desc/5\n",
      "error: https://basketball.realgm.com/ncaa/stats/2009/Advanced_Stats/Qualified/Fr/Season/All/per/desc/6\n",
      "error: https://basketball.realgm.com/ncaa/stats/2009/Advanced_Stats/Qualified/Fr/Season/All/per/desc/7\n",
      "error: https://basketball.realgm.com/ncaa/stats/2009/Advanced_Stats/Qualified/Fr/Season/All/per/desc/8\n",
      "error: https://basketball.realgm.com/ncaa/stats/2009/Advanced_Stats/Qualified/Fr/Season/All/per/desc/9\n",
      "error: https://basketball.realgm.com/ncaa/stats/2009/Advanced_Stats/Qualified/Fr/Season/All/per/desc/10\n",
      "error: https://basketball.realgm.com/ncaa/stats/2009/Advanced_Stats/Qualified/So/Season/All/per/desc/7\n",
      "error: https://basketball.realgm.com/ncaa/stats/2009/Advanced_Stats/Qualified/So/Season/All/per/desc/8\n",
      "error: https://basketball.realgm.com/ncaa/stats/2009/Advanced_Stats/Qualified/So/Season/All/per/desc/9\n",
      "error: https://basketball.realgm.com/ncaa/stats/2009/Advanced_Stats/Qualified/So/Season/All/per/desc/10\n",
      "error: https://basketball.realgm.com/ncaa/stats/2009/Advanced_Stats/Qualified/Jr/Season/All/per/desc/8\n",
      "error: https://basketball.realgm.com/ncaa/stats/2009/Advanced_Stats/Qualified/Jr/Season/All/per/desc/9\n",
      "error: https://basketball.realgm.com/ncaa/stats/2009/Advanced_Stats/Qualified/Jr/Season/All/per/desc/10\n",
      "error: https://basketball.realgm.com/ncaa/stats/2009/Advanced_Stats/Qualified/Sr/Season/All/per/desc/8\n",
      "error: https://basketball.realgm.com/ncaa/stats/2009/Advanced_Stats/Qualified/Sr/Season/All/per/desc/9\n"
     ]
    },
    {
     "name": "stderr",
     "output_type": "stream",
     "text": [
      "\r",
      " 32%|██████████████████████████                                                        | 7/22 [20:42<44:54, 179.60s/it]"
     ]
    },
    {
     "name": "stdout",
     "output_type": "stream",
     "text": [
      "error: https://basketball.realgm.com/ncaa/stats/2009/Advanced_Stats/Qualified/Sr/Season/All/per/desc/10\n",
      "error: https://basketball.realgm.com/ncaa/stats/2010/Advanced_Stats/Qualified/Fr/Season/All/per/desc/5\n",
      "error: https://basketball.realgm.com/ncaa/stats/2010/Advanced_Stats/Qualified/Fr/Season/All/per/desc/6\n",
      "error: https://basketball.realgm.com/ncaa/stats/2010/Advanced_Stats/Qualified/Fr/Season/All/per/desc/7\n",
      "error: https://basketball.realgm.com/ncaa/stats/2010/Advanced_Stats/Qualified/Fr/Season/All/per/desc/8\n",
      "error: https://basketball.realgm.com/ncaa/stats/2010/Advanced_Stats/Qualified/Fr/Season/All/per/desc/9\n",
      "error: https://basketball.realgm.com/ncaa/stats/2010/Advanced_Stats/Qualified/Fr/Season/All/per/desc/10\n",
      "error: https://basketball.realgm.com/ncaa/stats/2010/Advanced_Stats/Qualified/So/Season/All/per/desc/6\n",
      "error: https://basketball.realgm.com/ncaa/stats/2010/Advanced_Stats/Qualified/So/Season/All/per/desc/7\n",
      "error: https://basketball.realgm.com/ncaa/stats/2010/Advanced_Stats/Qualified/So/Season/All/per/desc/8\n",
      "error: https://basketball.realgm.com/ncaa/stats/2010/Advanced_Stats/Qualified/So/Season/All/per/desc/9\n",
      "error: https://basketball.realgm.com/ncaa/stats/2010/Advanced_Stats/Qualified/So/Season/All/per/desc/10\n",
      "error: https://basketball.realgm.com/ncaa/stats/2010/Advanced_Stats/Qualified/Jr/Season/All/per/desc/9\n",
      "error: https://basketball.realgm.com/ncaa/stats/2010/Advanced_Stats/Qualified/Jr/Season/All/per/desc/10\n",
      "error: https://basketball.realgm.com/ncaa/stats/2010/Advanced_Stats/Qualified/Sr/Season/All/per/desc/8\n",
      "error: https://basketball.realgm.com/ncaa/stats/2010/Advanced_Stats/Qualified/Sr/Season/All/per/desc/9\n"
     ]
    },
    {
     "name": "stderr",
     "output_type": "stream",
     "text": [
      "\r",
      " 36%|█████████████████████████████▊                                                    | 8/22 [23:22<40:26, 173.33s/it]"
     ]
    },
    {
     "name": "stdout",
     "output_type": "stream",
     "text": [
      "error: https://basketball.realgm.com/ncaa/stats/2010/Advanced_Stats/Qualified/Sr/Season/All/per/desc/10\n",
      "error: https://basketball.realgm.com/ncaa/stats/2011/Advanced_Stats/Qualified/Fr/Season/All/per/desc/5\n",
      "error: https://basketball.realgm.com/ncaa/stats/2011/Advanced_Stats/Qualified/Fr/Season/All/per/desc/6\n",
      "error: https://basketball.realgm.com/ncaa/stats/2011/Advanced_Stats/Qualified/Fr/Season/All/per/desc/7\n",
      "error: https://basketball.realgm.com/ncaa/stats/2011/Advanced_Stats/Qualified/Fr/Season/All/per/desc/8\n",
      "error: https://basketball.realgm.com/ncaa/stats/2011/Advanced_Stats/Qualified/Fr/Season/All/per/desc/9\n",
      "error: https://basketball.realgm.com/ncaa/stats/2011/Advanced_Stats/Qualified/Fr/Season/All/per/desc/10\n",
      "error: https://basketball.realgm.com/ncaa/stats/2011/Advanced_Stats/Qualified/So/Season/All/per/desc/6\n",
      "error: https://basketball.realgm.com/ncaa/stats/2011/Advanced_Stats/Qualified/So/Season/All/per/desc/7\n",
      "error: https://basketball.realgm.com/ncaa/stats/2011/Advanced_Stats/Qualified/So/Season/All/per/desc/8\n",
      "error: https://basketball.realgm.com/ncaa/stats/2011/Advanced_Stats/Qualified/So/Season/All/per/desc/9\n",
      "error: https://basketball.realgm.com/ncaa/stats/2011/Advanced_Stats/Qualified/So/Season/All/per/desc/10\n",
      "error: https://basketball.realgm.com/ncaa/stats/2011/Advanced_Stats/Qualified/Jr/Season/All/per/desc/8\n",
      "error: https://basketball.realgm.com/ncaa/stats/2011/Advanced_Stats/Qualified/Jr/Season/All/per/desc/9\n",
      "error: https://basketball.realgm.com/ncaa/stats/2011/Advanced_Stats/Qualified/Jr/Season/All/per/desc/10\n",
      "error: https://basketball.realgm.com/ncaa/stats/2011/Advanced_Stats/Qualified/Sr/Season/All/per/desc/8\n",
      "error: https://basketball.realgm.com/ncaa/stats/2011/Advanced_Stats/Qualified/Sr/Season/All/per/desc/9\n"
     ]
    },
    {
     "name": "stderr",
     "output_type": "stream",
     "text": [
      "\r",
      " 41%|█████████████████████████████████▌                                                | 9/22 [26:23<38:05, 175.81s/it]"
     ]
    },
    {
     "name": "stdout",
     "output_type": "stream",
     "text": [
      "error: https://basketball.realgm.com/ncaa/stats/2011/Advanced_Stats/Qualified/Sr/Season/All/per/desc/10\n",
      "error: https://basketball.realgm.com/ncaa/stats/2012/Advanced_Stats/Qualified/Fr/Season/All/per/desc/5\n",
      "error: https://basketball.realgm.com/ncaa/stats/2012/Advanced_Stats/Qualified/Fr/Season/All/per/desc/6\n",
      "error: https://basketball.realgm.com/ncaa/stats/2012/Advanced_Stats/Qualified/Fr/Season/All/per/desc/7\n",
      "error: https://basketball.realgm.com/ncaa/stats/2012/Advanced_Stats/Qualified/Fr/Season/All/per/desc/8\n",
      "error: https://basketball.realgm.com/ncaa/stats/2012/Advanced_Stats/Qualified/Fr/Season/All/per/desc/9\n",
      "error: https://basketball.realgm.com/ncaa/stats/2012/Advanced_Stats/Qualified/Fr/Season/All/per/desc/10\n",
      "error: https://basketball.realgm.com/ncaa/stats/2012/Advanced_Stats/Qualified/So/Season/All/per/desc/7\n",
      "error: https://basketball.realgm.com/ncaa/stats/2012/Advanced_Stats/Qualified/So/Season/All/per/desc/8\n",
      "error: https://basketball.realgm.com/ncaa/stats/2012/Advanced_Stats/Qualified/So/Season/All/per/desc/9\n",
      "error: https://basketball.realgm.com/ncaa/stats/2012/Advanced_Stats/Qualified/So/Season/All/per/desc/10\n",
      "error: https://basketball.realgm.com/ncaa/stats/2012/Advanced_Stats/Qualified/Jr/Season/All/per/desc/8\n",
      "error: https://basketball.realgm.com/ncaa/stats/2012/Advanced_Stats/Qualified/Jr/Season/All/per/desc/9\n",
      "error: https://basketball.realgm.com/ncaa/stats/2012/Advanced_Stats/Qualified/Jr/Season/All/per/desc/10\n",
      "error: https://basketball.realgm.com/ncaa/stats/2012/Advanced_Stats/Qualified/Sr/Season/All/per/desc/8\n",
      "error: https://basketball.realgm.com/ncaa/stats/2012/Advanced_Stats/Qualified/Sr/Season/All/per/desc/9\n"
     ]
    },
    {
     "name": "stderr",
     "output_type": "stream",
     "text": [
      "\r",
      " 45%|████████████████████████████████████▊                                            | 10/22 [29:33<36:01, 180.09s/it]"
     ]
    },
    {
     "name": "stdout",
     "output_type": "stream",
     "text": [
      "error: https://basketball.realgm.com/ncaa/stats/2012/Advanced_Stats/Qualified/Sr/Season/All/per/desc/10\n",
      "error: https://basketball.realgm.com/ncaa/stats/2013/Advanced_Stats/Qualified/Fr/Season/All/per/desc/5\n",
      "error: https://basketball.realgm.com/ncaa/stats/2013/Advanced_Stats/Qualified/Fr/Season/All/per/desc/6\n",
      "error: https://basketball.realgm.com/ncaa/stats/2013/Advanced_Stats/Qualified/Fr/Season/All/per/desc/7\n",
      "error: https://basketball.realgm.com/ncaa/stats/2013/Advanced_Stats/Qualified/Fr/Season/All/per/desc/8\n",
      "error: https://basketball.realgm.com/ncaa/stats/2013/Advanced_Stats/Qualified/Fr/Season/All/per/desc/9\n",
      "error: https://basketball.realgm.com/ncaa/stats/2013/Advanced_Stats/Qualified/Fr/Season/All/per/desc/10\n",
      "error: https://basketball.realgm.com/ncaa/stats/2013/Advanced_Stats/Qualified/So/Season/All/per/desc/6\n",
      "error: https://basketball.realgm.com/ncaa/stats/2013/Advanced_Stats/Qualified/So/Season/All/per/desc/7\n",
      "error: https://basketball.realgm.com/ncaa/stats/2013/Advanced_Stats/Qualified/So/Season/All/per/desc/8\n",
      "error: https://basketball.realgm.com/ncaa/stats/2013/Advanced_Stats/Qualified/So/Season/All/per/desc/9\n",
      "error: https://basketball.realgm.com/ncaa/stats/2013/Advanced_Stats/Qualified/So/Season/All/per/desc/10\n",
      "error: https://basketball.realgm.com/ncaa/stats/2013/Advanced_Stats/Qualified/Jr/Season/All/per/desc/9\n",
      "error: https://basketball.realgm.com/ncaa/stats/2013/Advanced_Stats/Qualified/Jr/Season/All/per/desc/10\n",
      "error: https://basketball.realgm.com/ncaa/stats/2013/Advanced_Stats/Qualified/Sr/Season/All/per/desc/8\n",
      "error: https://basketball.realgm.com/ncaa/stats/2013/Advanced_Stats/Qualified/Sr/Season/All/per/desc/9\n"
     ]
    },
    {
     "name": "stderr",
     "output_type": "stream",
     "text": [
      "\r",
      " 50%|████████████████████████████████████████▌                                        | 11/22 [32:41<33:27, 182.50s/it]"
     ]
    },
    {
     "name": "stdout",
     "output_type": "stream",
     "text": [
      "error: https://basketball.realgm.com/ncaa/stats/2013/Advanced_Stats/Qualified/Sr/Season/All/per/desc/10\n",
      "error: https://basketball.realgm.com/ncaa/stats/2014/Advanced_Stats/Qualified/Fr/Season/All/per/desc/5\n",
      "error: https://basketball.realgm.com/ncaa/stats/2014/Advanced_Stats/Qualified/Fr/Season/All/per/desc/6\n",
      "error: https://basketball.realgm.com/ncaa/stats/2014/Advanced_Stats/Qualified/Fr/Season/All/per/desc/7\n",
      "error: https://basketball.realgm.com/ncaa/stats/2014/Advanced_Stats/Qualified/Fr/Season/All/per/desc/8\n",
      "error: https://basketball.realgm.com/ncaa/stats/2014/Advanced_Stats/Qualified/Fr/Season/All/per/desc/9\n",
      "error: https://basketball.realgm.com/ncaa/stats/2014/Advanced_Stats/Qualified/Fr/Season/All/per/desc/10\n",
      "error: https://basketball.realgm.com/ncaa/stats/2014/Advanced_Stats/Qualified/So/Season/All/per/desc/7\n",
      "error: https://basketball.realgm.com/ncaa/stats/2014/Advanced_Stats/Qualified/So/Season/All/per/desc/8\n",
      "error: https://basketball.realgm.com/ncaa/stats/2014/Advanced_Stats/Qualified/So/Season/All/per/desc/9\n",
      "error: https://basketball.realgm.com/ncaa/stats/2014/Advanced_Stats/Qualified/So/Season/All/per/desc/10\n",
      "error: https://basketball.realgm.com/ncaa/stats/2014/Advanced_Stats/Qualified/Jr/Season/All/per/desc/8\n",
      "error: https://basketball.realgm.com/ncaa/stats/2014/Advanced_Stats/Qualified/Jr/Season/All/per/desc/9\n",
      "error: https://basketball.realgm.com/ncaa/stats/2014/Advanced_Stats/Qualified/Jr/Season/All/per/desc/10\n",
      "error: https://basketball.realgm.com/ncaa/stats/2014/Advanced_Stats/Qualified/Sr/Season/All/per/desc/8\n",
      "error: https://basketball.realgm.com/ncaa/stats/2014/Advanced_Stats/Qualified/Sr/Season/All/per/desc/9\n"
     ]
    },
    {
     "name": "stderr",
     "output_type": "stream",
     "text": [
      "\r",
      " 55%|████████████████████████████████████████████▏                                    | 12/22 [36:07<31:38, 189.82s/it]"
     ]
    },
    {
     "name": "stdout",
     "output_type": "stream",
     "text": [
      "error: https://basketball.realgm.com/ncaa/stats/2014/Advanced_Stats/Qualified/Sr/Season/All/per/desc/10\n",
      "error: https://basketball.realgm.com/ncaa/stats/2015/Advanced_Stats/Qualified/Fr/Season/All/per/desc/5\n",
      "error: https://basketball.realgm.com/ncaa/stats/2015/Advanced_Stats/Qualified/Fr/Season/All/per/desc/6\n",
      "error: https://basketball.realgm.com/ncaa/stats/2015/Advanced_Stats/Qualified/Fr/Season/All/per/desc/7\n",
      "error: https://basketball.realgm.com/ncaa/stats/2015/Advanced_Stats/Qualified/Fr/Season/All/per/desc/8\n",
      "error: https://basketball.realgm.com/ncaa/stats/2015/Advanced_Stats/Qualified/Fr/Season/All/per/desc/9\n",
      "error: https://basketball.realgm.com/ncaa/stats/2015/Advanced_Stats/Qualified/Fr/Season/All/per/desc/10\n",
      "error: https://basketball.realgm.com/ncaa/stats/2015/Advanced_Stats/Qualified/So/Season/All/per/desc/6\n",
      "error: https://basketball.realgm.com/ncaa/stats/2015/Advanced_Stats/Qualified/So/Season/All/per/desc/7\n",
      "error: https://basketball.realgm.com/ncaa/stats/2015/Advanced_Stats/Qualified/So/Season/All/per/desc/8\n",
      "error: https://basketball.realgm.com/ncaa/stats/2015/Advanced_Stats/Qualified/So/Season/All/per/desc/9\n",
      "error: https://basketball.realgm.com/ncaa/stats/2015/Advanced_Stats/Qualified/So/Season/All/per/desc/10\n",
      "error: https://basketball.realgm.com/ncaa/stats/2015/Advanced_Stats/Qualified/Jr/Season/All/per/desc/9\n",
      "error: https://basketball.realgm.com/ncaa/stats/2015/Advanced_Stats/Qualified/Jr/Season/All/per/desc/10\n",
      "error: https://basketball.realgm.com/ncaa/stats/2015/Advanced_Stats/Qualified/Sr/Season/All/per/desc/8\n",
      "error: https://basketball.realgm.com/ncaa/stats/2015/Advanced_Stats/Qualified/Sr/Season/All/per/desc/9\n"
     ]
    },
    {
     "name": "stderr",
     "output_type": "stream",
     "text": [
      "\r",
      " 59%|███████████████████████████████████████████████▊                                 | 13/22 [39:36<29:19, 195.47s/it]"
     ]
    },
    {
     "name": "stdout",
     "output_type": "stream",
     "text": [
      "error: https://basketball.realgm.com/ncaa/stats/2015/Advanced_Stats/Qualified/Sr/Season/All/per/desc/10\n",
      "error: https://basketball.realgm.com/ncaa/stats/2016/Advanced_Stats/Qualified/Fr/Season/All/per/desc/5\n",
      "error: https://basketball.realgm.com/ncaa/stats/2016/Advanced_Stats/Qualified/Fr/Season/All/per/desc/6\n",
      "error: https://basketball.realgm.com/ncaa/stats/2016/Advanced_Stats/Qualified/Fr/Season/All/per/desc/7\n",
      "error: https://basketball.realgm.com/ncaa/stats/2016/Advanced_Stats/Qualified/Fr/Season/All/per/desc/8\n",
      "error: https://basketball.realgm.com/ncaa/stats/2016/Advanced_Stats/Qualified/Fr/Season/All/per/desc/9\n",
      "error: https://basketball.realgm.com/ncaa/stats/2016/Advanced_Stats/Qualified/Fr/Season/All/per/desc/10\n",
      "error: https://basketball.realgm.com/ncaa/stats/2016/Advanced_Stats/Qualified/So/Season/All/per/desc/6\n",
      "error: https://basketball.realgm.com/ncaa/stats/2016/Advanced_Stats/Qualified/So/Season/All/per/desc/7\n",
      "error: https://basketball.realgm.com/ncaa/stats/2016/Advanced_Stats/Qualified/So/Season/All/per/desc/8\n",
      "error: https://basketball.realgm.com/ncaa/stats/2016/Advanced_Stats/Qualified/So/Season/All/per/desc/9\n",
      "error: https://basketball.realgm.com/ncaa/stats/2016/Advanced_Stats/Qualified/So/Season/All/per/desc/10\n",
      "error: https://basketball.realgm.com/ncaa/stats/2016/Advanced_Stats/Qualified/Jr/Season/All/per/desc/8\n",
      "error: https://basketball.realgm.com/ncaa/stats/2016/Advanced_Stats/Qualified/Jr/Season/All/per/desc/9\n",
      "error: https://basketball.realgm.com/ncaa/stats/2016/Advanced_Stats/Qualified/Jr/Season/All/per/desc/10\n",
      "error: https://basketball.realgm.com/ncaa/stats/2016/Advanced_Stats/Qualified/Sr/Season/All/per/desc/8\n",
      "error: https://basketball.realgm.com/ncaa/stats/2016/Advanced_Stats/Qualified/Sr/Season/All/per/desc/9\n"
     ]
    },
    {
     "name": "stderr",
     "output_type": "stream",
     "text": [
      "\r",
      " 64%|███████████████████████████████████████████████████▌                             | 14/22 [43:06<26:40, 200.05s/it]"
     ]
    },
    {
     "name": "stdout",
     "output_type": "stream",
     "text": [
      "error: https://basketball.realgm.com/ncaa/stats/2016/Advanced_Stats/Qualified/Sr/Season/All/per/desc/10\n",
      "error: https://basketball.realgm.com/ncaa/stats/2017/Advanced_Stats/Qualified/Fr/Season/All/per/desc/5\n",
      "error: https://basketball.realgm.com/ncaa/stats/2017/Advanced_Stats/Qualified/Fr/Season/All/per/desc/6\n",
      "error: https://basketball.realgm.com/ncaa/stats/2017/Advanced_Stats/Qualified/Fr/Season/All/per/desc/7\n",
      "error: https://basketball.realgm.com/ncaa/stats/2017/Advanced_Stats/Qualified/Fr/Season/All/per/desc/8\n",
      "error: https://basketball.realgm.com/ncaa/stats/2017/Advanced_Stats/Qualified/Fr/Season/All/per/desc/9\n",
      "error: https://basketball.realgm.com/ncaa/stats/2017/Advanced_Stats/Qualified/Fr/Season/All/per/desc/10\n",
      "error: https://basketball.realgm.com/ncaa/stats/2017/Advanced_Stats/Qualified/So/Season/All/per/desc/7\n",
      "error: https://basketball.realgm.com/ncaa/stats/2017/Advanced_Stats/Qualified/So/Season/All/per/desc/8\n",
      "error: https://basketball.realgm.com/ncaa/stats/2017/Advanced_Stats/Qualified/So/Season/All/per/desc/9\n",
      "error: https://basketball.realgm.com/ncaa/stats/2017/Advanced_Stats/Qualified/So/Season/All/per/desc/10\n",
      "error: https://basketball.realgm.com/ncaa/stats/2017/Advanced_Stats/Qualified/Jr/Season/All/per/desc/8\n",
      "error: https://basketball.realgm.com/ncaa/stats/2017/Advanced_Stats/Qualified/Jr/Season/All/per/desc/9\n",
      "error: https://basketball.realgm.com/ncaa/stats/2017/Advanced_Stats/Qualified/Jr/Season/All/per/desc/10\n",
      "error: https://basketball.realgm.com/ncaa/stats/2017/Advanced_Stats/Qualified/Sr/Season/All/per/desc/8\n",
      "error: https://basketball.realgm.com/ncaa/stats/2017/Advanced_Stats/Qualified/Sr/Season/All/per/desc/9\n"
     ]
    },
    {
     "name": "stderr",
     "output_type": "stream",
     "text": [
      "\r",
      " 68%|███████████████████████████████████████████████████████▏                         | 15/22 [46:44<23:57, 205.31s/it]"
     ]
    },
    {
     "name": "stdout",
     "output_type": "stream",
     "text": [
      "error: https://basketball.realgm.com/ncaa/stats/2017/Advanced_Stats/Qualified/Sr/Season/All/per/desc/10\n",
      "error: https://basketball.realgm.com/ncaa/stats/2018/Advanced_Stats/Qualified/Fr/Season/All/per/desc/5\n",
      "error: https://basketball.realgm.com/ncaa/stats/2018/Advanced_Stats/Qualified/Fr/Season/All/per/desc/6\n",
      "error: https://basketball.realgm.com/ncaa/stats/2018/Advanced_Stats/Qualified/Fr/Season/All/per/desc/7\n",
      "error: https://basketball.realgm.com/ncaa/stats/2018/Advanced_Stats/Qualified/Fr/Season/All/per/desc/8\n",
      "error: https://basketball.realgm.com/ncaa/stats/2018/Advanced_Stats/Qualified/Fr/Season/All/per/desc/9\n",
      "error: https://basketball.realgm.com/ncaa/stats/2018/Advanced_Stats/Qualified/Fr/Season/All/per/desc/10\n",
      "error: https://basketball.realgm.com/ncaa/stats/2018/Advanced_Stats/Qualified/So/Season/All/per/desc/7\n",
      "error: https://basketball.realgm.com/ncaa/stats/2018/Advanced_Stats/Qualified/So/Season/All/per/desc/8\n",
      "error: https://basketball.realgm.com/ncaa/stats/2018/Advanced_Stats/Qualified/So/Season/All/per/desc/9\n",
      "error: https://basketball.realgm.com/ncaa/stats/2018/Advanced_Stats/Qualified/So/Season/All/per/desc/10\n",
      "error: https://basketball.realgm.com/ncaa/stats/2018/Advanced_Stats/Qualified/Jr/Season/All/per/desc/8\n",
      "error: https://basketball.realgm.com/ncaa/stats/2018/Advanced_Stats/Qualified/Jr/Season/All/per/desc/9\n",
      "error: https://basketball.realgm.com/ncaa/stats/2018/Advanced_Stats/Qualified/Jr/Season/All/per/desc/10\n",
      "error: https://basketball.realgm.com/ncaa/stats/2018/Advanced_Stats/Qualified/Sr/Season/All/per/desc/8\n",
      "error: https://basketball.realgm.com/ncaa/stats/2018/Advanced_Stats/Qualified/Sr/Season/All/per/desc/9\n"
     ]
    },
    {
     "name": "stderr",
     "output_type": "stream",
     "text": [
      "\r",
      " 73%|██████████████████████████████████████████████████████████▉                      | 16/22 [50:08<20:29, 204.85s/it]"
     ]
    },
    {
     "name": "stdout",
     "output_type": "stream",
     "text": [
      "error: https://basketball.realgm.com/ncaa/stats/2018/Advanced_Stats/Qualified/Sr/Season/All/per/desc/10\n",
      "error: https://basketball.realgm.com/ncaa/stats/2019/Advanced_Stats/Qualified/Fr/Season/All/per/desc/6\n",
      "error: https://basketball.realgm.com/ncaa/stats/2019/Advanced_Stats/Qualified/Fr/Season/All/per/desc/7\n",
      "error: https://basketball.realgm.com/ncaa/stats/2019/Advanced_Stats/Qualified/Fr/Season/All/per/desc/8\n",
      "error: https://basketball.realgm.com/ncaa/stats/2019/Advanced_Stats/Qualified/Fr/Season/All/per/desc/9\n",
      "error: https://basketball.realgm.com/ncaa/stats/2019/Advanced_Stats/Qualified/Fr/Season/All/per/desc/10\n",
      "error: https://basketball.realgm.com/ncaa/stats/2019/Advanced_Stats/Qualified/So/Season/All/per/desc/7\n",
      "error: https://basketball.realgm.com/ncaa/stats/2019/Advanced_Stats/Qualified/So/Season/All/per/desc/8\n",
      "error: https://basketball.realgm.com/ncaa/stats/2019/Advanced_Stats/Qualified/So/Season/All/per/desc/9\n",
      "error: https://basketball.realgm.com/ncaa/stats/2019/Advanced_Stats/Qualified/So/Season/All/per/desc/10\n",
      "error: https://basketball.realgm.com/ncaa/stats/2019/Advanced_Stats/Qualified/Jr/Season/All/per/desc/9\n",
      "error: https://basketball.realgm.com/ncaa/stats/2019/Advanced_Stats/Qualified/Jr/Season/All/per/desc/10\n",
      "error: https://basketball.realgm.com/ncaa/stats/2019/Advanced_Stats/Qualified/Sr/Season/All/per/desc/8\n",
      "error: https://basketball.realgm.com/ncaa/stats/2019/Advanced_Stats/Qualified/Sr/Season/All/per/desc/9\n"
     ]
    },
    {
     "name": "stderr",
     "output_type": "stream",
     "text": [
      "\r",
      " 77%|██████████████████████████████████████████████████████████████▌                  | 17/22 [53:49<17:29, 209.82s/it]"
     ]
    },
    {
     "name": "stdout",
     "output_type": "stream",
     "text": [
      "error: https://basketball.realgm.com/ncaa/stats/2019/Advanced_Stats/Qualified/Sr/Season/All/per/desc/10\n",
      "error: https://basketball.realgm.com/ncaa/stats/2020/Advanced_Stats/Qualified/Fr/Season/All/per/desc/5\n",
      "error: https://basketball.realgm.com/ncaa/stats/2020/Advanced_Stats/Qualified/Fr/Season/All/per/desc/6\n",
      "error: https://basketball.realgm.com/ncaa/stats/2020/Advanced_Stats/Qualified/Fr/Season/All/per/desc/7\n",
      "error: https://basketball.realgm.com/ncaa/stats/2020/Advanced_Stats/Qualified/Fr/Season/All/per/desc/8\n",
      "error: https://basketball.realgm.com/ncaa/stats/2020/Advanced_Stats/Qualified/Fr/Season/All/per/desc/9\n",
      "error: https://basketball.realgm.com/ncaa/stats/2020/Advanced_Stats/Qualified/Fr/Season/All/per/desc/10\n",
      "error: https://basketball.realgm.com/ncaa/stats/2020/Advanced_Stats/Qualified/So/Season/All/per/desc/7\n",
      "error: https://basketball.realgm.com/ncaa/stats/2020/Advanced_Stats/Qualified/So/Season/All/per/desc/8\n",
      "error: https://basketball.realgm.com/ncaa/stats/2020/Advanced_Stats/Qualified/So/Season/All/per/desc/9\n",
      "error: https://basketball.realgm.com/ncaa/stats/2020/Advanced_Stats/Qualified/So/Season/All/per/desc/10\n",
      "error: https://basketball.realgm.com/ncaa/stats/2020/Advanced_Stats/Qualified/Jr/Season/All/per/desc/9\n",
      "error: https://basketball.realgm.com/ncaa/stats/2020/Advanced_Stats/Qualified/Jr/Season/All/per/desc/10\n",
      "error: https://basketball.realgm.com/ncaa/stats/2020/Advanced_Stats/Qualified/Sr/Season/All/per/desc/8\n",
      "error: https://basketball.realgm.com/ncaa/stats/2020/Advanced_Stats/Qualified/Sr/Season/All/per/desc/9\n"
     ]
    },
    {
     "name": "stderr",
     "output_type": "stream",
     "text": [
      "\r",
      " 82%|██████████████████████████████████████████████████████████████████▎              | 18/22 [57:41<14:25, 216.37s/it]"
     ]
    },
    {
     "name": "stdout",
     "output_type": "stream",
     "text": [
      "error: https://basketball.realgm.com/ncaa/stats/2020/Advanced_Stats/Qualified/Sr/Season/All/per/desc/10\n",
      "error: https://basketball.realgm.com/ncaa/stats/2021/Advanced_Stats/Qualified/Fr/Season/All/per/desc/5\n",
      "error: https://basketball.realgm.com/ncaa/stats/2021/Advanced_Stats/Qualified/Fr/Season/All/per/desc/6\n",
      "error: https://basketball.realgm.com/ncaa/stats/2021/Advanced_Stats/Qualified/Fr/Season/All/per/desc/7\n",
      "error: https://basketball.realgm.com/ncaa/stats/2021/Advanced_Stats/Qualified/Fr/Season/All/per/desc/8\n",
      "error: https://basketball.realgm.com/ncaa/stats/2021/Advanced_Stats/Qualified/Fr/Season/All/per/desc/9\n",
      "error: https://basketball.realgm.com/ncaa/stats/2021/Advanced_Stats/Qualified/Fr/Season/All/per/desc/10\n",
      "error: https://basketball.realgm.com/ncaa/stats/2021/Advanced_Stats/Qualified/So/Season/All/per/desc/7\n",
      "error: https://basketball.realgm.com/ncaa/stats/2021/Advanced_Stats/Qualified/So/Season/All/per/desc/8\n",
      "error: https://basketball.realgm.com/ncaa/stats/2021/Advanced_Stats/Qualified/So/Season/All/per/desc/9\n",
      "error: https://basketball.realgm.com/ncaa/stats/2021/Advanced_Stats/Qualified/So/Season/All/per/desc/10\n",
      "error: https://basketball.realgm.com/ncaa/stats/2021/Advanced_Stats/Qualified/Jr/Season/All/per/desc/8\n",
      "error: https://basketball.realgm.com/ncaa/stats/2021/Advanced_Stats/Qualified/Jr/Season/All/per/desc/9\n",
      "error: https://basketball.realgm.com/ncaa/stats/2021/Advanced_Stats/Qualified/Jr/Season/All/per/desc/10\n",
      "error: https://basketball.realgm.com/ncaa/stats/2021/Advanced_Stats/Qualified/Sr/Season/All/per/desc/8\n",
      "error: https://basketball.realgm.com/ncaa/stats/2021/Advanced_Stats/Qualified/Sr/Season/All/per/desc/9\n"
     ]
    },
    {
     "name": "stderr",
     "output_type": "stream",
     "text": [
      "\r",
      " 86%|████████████████████████████████████████████████████████████████████▏          | 19/22 [1:01:16<10:48, 216.13s/it]"
     ]
    },
    {
     "name": "stdout",
     "output_type": "stream",
     "text": [
      "error: https://basketball.realgm.com/ncaa/stats/2021/Advanced_Stats/Qualified/Sr/Season/All/per/desc/10\n",
      "error: https://basketball.realgm.com/ncaa/stats/2022/Advanced_Stats/Qualified/Fr/Season/All/per/desc/4\n",
      "error: https://basketball.realgm.com/ncaa/stats/2022/Advanced_Stats/Qualified/Fr/Season/All/per/desc/5\n",
      "error: https://basketball.realgm.com/ncaa/stats/2022/Advanced_Stats/Qualified/Fr/Season/All/per/desc/6\n",
      "error: https://basketball.realgm.com/ncaa/stats/2022/Advanced_Stats/Qualified/Fr/Season/All/per/desc/7\n",
      "error: https://basketball.realgm.com/ncaa/stats/2022/Advanced_Stats/Qualified/Fr/Season/All/per/desc/8\n",
      "error: https://basketball.realgm.com/ncaa/stats/2022/Advanced_Stats/Qualified/Fr/Season/All/per/desc/9\n",
      "error: https://basketball.realgm.com/ncaa/stats/2022/Advanced_Stats/Qualified/Fr/Season/All/per/desc/10\n",
      "error: https://basketball.realgm.com/ncaa/stats/2022/Advanced_Stats/Qualified/So/Season/All/per/desc/6\n",
      "error: https://basketball.realgm.com/ncaa/stats/2022/Advanced_Stats/Qualified/So/Season/All/per/desc/7\n",
      "error: https://basketball.realgm.com/ncaa/stats/2022/Advanced_Stats/Qualified/So/Season/All/per/desc/8\n",
      "error: https://basketball.realgm.com/ncaa/stats/2022/Advanced_Stats/Qualified/So/Season/All/per/desc/9\n",
      "error: https://basketball.realgm.com/ncaa/stats/2022/Advanced_Stats/Qualified/So/Season/All/per/desc/10\n",
      "error: https://basketball.realgm.com/ncaa/stats/2022/Advanced_Stats/Qualified/Jr/Season/All/per/desc/8\n",
      "error: https://basketball.realgm.com/ncaa/stats/2022/Advanced_Stats/Qualified/Jr/Season/All/per/desc/9\n",
      "error: https://basketball.realgm.com/ncaa/stats/2022/Advanced_Stats/Qualified/Jr/Season/All/per/desc/10\n"
     ]
    },
    {
     "name": "stderr",
     "output_type": "stream",
     "text": [
      "\r",
      " 91%|███████████████████████████████████████████████████████████████████████▊       | 20/22 [1:05:14<07:25, 222.55s/it]"
     ]
    },
    {
     "name": "stdout",
     "output_type": "stream",
     "text": [
      "error: https://basketball.realgm.com/ncaa/stats/2023/Advanced_Stats/Qualified/Fr/Season/All/per/desc/4\n",
      "error: https://basketball.realgm.com/ncaa/stats/2023/Advanced_Stats/Qualified/Fr/Season/All/per/desc/5\n",
      "error: https://basketball.realgm.com/ncaa/stats/2023/Advanced_Stats/Qualified/Fr/Season/All/per/desc/6\n",
      "error: https://basketball.realgm.com/ncaa/stats/2023/Advanced_Stats/Qualified/Fr/Season/All/per/desc/7\n",
      "error: https://basketball.realgm.com/ncaa/stats/2023/Advanced_Stats/Qualified/Fr/Season/All/per/desc/8\n",
      "error: https://basketball.realgm.com/ncaa/stats/2023/Advanced_Stats/Qualified/Fr/Season/All/per/desc/9\n",
      "error: https://basketball.realgm.com/ncaa/stats/2023/Advanced_Stats/Qualified/Fr/Season/All/per/desc/10\n",
      "error: https://basketball.realgm.com/ncaa/stats/2023/Advanced_Stats/Qualified/So/Season/All/per/desc/6\n",
      "error: https://basketball.realgm.com/ncaa/stats/2023/Advanced_Stats/Qualified/So/Season/All/per/desc/7\n",
      "error: https://basketball.realgm.com/ncaa/stats/2023/Advanced_Stats/Qualified/So/Season/All/per/desc/8\n",
      "error: https://basketball.realgm.com/ncaa/stats/2023/Advanced_Stats/Qualified/So/Season/All/per/desc/9\n",
      "error: https://basketball.realgm.com/ncaa/stats/2023/Advanced_Stats/Qualified/So/Season/All/per/desc/10\n",
      "error: https://basketball.realgm.com/ncaa/stats/2023/Advanced_Stats/Qualified/Jr/Season/All/per/desc/7\n",
      "error: https://basketball.realgm.com/ncaa/stats/2023/Advanced_Stats/Qualified/Jr/Season/All/per/desc/8\n",
      "error: https://basketball.realgm.com/ncaa/stats/2023/Advanced_Stats/Qualified/Jr/Season/All/per/desc/9\n",
      "error: https://basketball.realgm.com/ncaa/stats/2023/Advanced_Stats/Qualified/Jr/Season/All/per/desc/10\n"
     ]
    },
    {
     "name": "stderr",
     "output_type": "stream",
     "text": [
      "\r",
      " 95%|███████████████████████████████████████████████████████████████████████████▍   | 21/22 [1:09:03<03:44, 224.62s/it]"
     ]
    },
    {
     "name": "stdout",
     "output_type": "stream",
     "text": [
      "error: https://basketball.realgm.com/ncaa/stats/2024/Advanced_Stats/Qualified/Fr/Season/All/per/desc/4\n",
      "error: https://basketball.realgm.com/ncaa/stats/2024/Advanced_Stats/Qualified/Fr/Season/All/per/desc/5\n",
      "error: https://basketball.realgm.com/ncaa/stats/2024/Advanced_Stats/Qualified/Fr/Season/All/per/desc/6\n",
      "error: https://basketball.realgm.com/ncaa/stats/2024/Advanced_Stats/Qualified/Fr/Season/All/per/desc/7\n",
      "error: https://basketball.realgm.com/ncaa/stats/2024/Advanced_Stats/Qualified/Fr/Season/All/per/desc/8\n",
      "error: https://basketball.realgm.com/ncaa/stats/2024/Advanced_Stats/Qualified/Fr/Season/All/per/desc/9\n",
      "error: https://basketball.realgm.com/ncaa/stats/2024/Advanced_Stats/Qualified/Fr/Season/All/per/desc/10\n",
      "error: https://basketball.realgm.com/ncaa/stats/2024/Advanced_Stats/Qualified/So/Season/All/per/desc/6\n",
      "error: https://basketball.realgm.com/ncaa/stats/2024/Advanced_Stats/Qualified/So/Season/All/per/desc/7\n",
      "error: https://basketball.realgm.com/ncaa/stats/2024/Advanced_Stats/Qualified/So/Season/All/per/desc/8\n",
      "error: https://basketball.realgm.com/ncaa/stats/2024/Advanced_Stats/Qualified/So/Season/All/per/desc/9\n",
      "error: https://basketball.realgm.com/ncaa/stats/2024/Advanced_Stats/Qualified/So/Season/All/per/desc/10\n",
      "error: https://basketball.realgm.com/ncaa/stats/2024/Advanced_Stats/Qualified/Jr/Season/All/per/desc/8\n",
      "error: https://basketball.realgm.com/ncaa/stats/2024/Advanced_Stats/Qualified/Jr/Season/All/per/desc/9\n",
      "error: https://basketball.realgm.com/ncaa/stats/2024/Advanced_Stats/Qualified/Jr/Season/All/per/desc/10\n"
     ]
    },
    {
     "name": "stderr",
     "output_type": "stream",
     "text": [
      "100%|███████████████████████████████████████████████████████████████████████████████| 22/22 [1:12:39<00:00, 198.18s/it]\n"
     ]
    }
   ],
   "source": [
    "table=[]\n",
    "for year in tqdm(years):\n",
    "    for cls in classes:\n",
    "        for page in range(1,11):\n",
    "            try:\n",
    "                url=f'https://basketball.realgm.com/ncaa/stats/{year}/Advanced_Stats/Qualified/{cls}/Season/All/per/desc/{page}'\n",
    "                r=req.get(url)\n",
    "                soup=BeautifulSoup(r.text)\n",
    "                for i in range(1,31):\n",
    "                    row=[str(soup.find_all('tr')[i]).split('</td>')[1].split('>')[-2][:-3],cls,year]\n",
    "                    for j in range(3,21):\n",
    "                        row.append(str(soup.find_all('tr')[i]).split('</td>')[j][4:])\n",
    "                    table.append(row)\n",
    "            except:\n",
    "                print('error: '+url)\n",
    "                pass"
   ]
  },
  {
   "cell_type": "code",
   "execution_count": 11,
   "id": "81788c56",
   "metadata": {},
   "outputs": [],
   "source": [
    "df=pd.DataFrame(table,columns=columns)"
   ]
  },
  {
   "cell_type": "code",
   "execution_count": 12,
   "id": "577f54f6",
   "metadata": {},
   "outputs": [],
   "source": [
    "df.to_excel('ncaa-advanced-stats-complete.xlsx',index=False)"
   ]
  },
  {
   "cell_type": "code",
   "execution_count": 13,
   "id": "c729655d",
   "metadata": {},
   "outputs": [
    {
     "data": {
      "text/html": [
       "<div>\n",
       "<style scoped>\n",
       "    .dataframe tbody tr th:only-of-type {\n",
       "        vertical-align: middle;\n",
       "    }\n",
       "\n",
       "    .dataframe tbody tr th {\n",
       "        vertical-align: top;\n",
       "    }\n",
       "\n",
       "    .dataframe thead th {\n",
       "        text-align: right;\n",
       "    }\n",
       "</style>\n",
       "<table border=\"1\" class=\"dataframe\">\n",
       "  <thead>\n",
       "    <tr style=\"text-align: right;\">\n",
       "      <th></th>\n",
       "      <th>player</th>\n",
       "      <th>cls</th>\n",
       "      <th>year</th>\n",
       "      <th>TS%</th>\n",
       "      <th>eFG%</th>\n",
       "      <th>totalS%</th>\n",
       "      <th>orb%</th>\n",
       "      <th>drb%</th>\n",
       "      <th>trb%</th>\n",
       "      <th>ast%</th>\n",
       "      <th>...</th>\n",
       "      <th>stl%</th>\n",
       "      <th>blk%</th>\n",
       "      <th>usg%</th>\n",
       "      <th>ppr</th>\n",
       "      <th>pps</th>\n",
       "      <th>ORtg</th>\n",
       "      <th>DRtg</th>\n",
       "      <th>eDiff</th>\n",
       "      <th>FIC</th>\n",
       "      <th>PER</th>\n",
       "    </tr>\n",
       "  </thead>\n",
       "  <tbody>\n",
       "    <tr>\n",
       "      <th>0</th>\n",
       "      <td>Michael Haddix</td>\n",
       "      <td>Fr</td>\n",
       "      <td>2003</td>\n",
       "      <td>.561</td>\n",
       "      <td>.521</td>\n",
       "      <td>120.8</td>\n",
       "      <td>7.9</td>\n",
       "      <td>11.1</td>\n",
       "      <td>9.5</td>\n",
       "      <td>4.1</td>\n",
       "      <td>...</td>\n",
       "      <td>1.6</td>\n",
       "      <td>3.6</td>\n",
       "      <td>24.0</td>\n",
       "      <td>-4.1</td>\n",
       "      <td>1.4</td>\n",
       "      <td>119.8</td>\n",
       "      <td>108.4</td>\n",
       "      <td>11.4</td>\n",
       "      <td>310.8</td>\n",
       "      <td>26.3</td>\n",
       "    </tr>\n",
       "    <tr>\n",
       "      <th>1</th>\n",
       "      <td>Craig Smith</td>\n",
       "      <td>Fr</td>\n",
       "      <td>2003</td>\n",
       "      <td>.626</td>\n",
       "      <td>.606</td>\n",
       "      <td>147.9</td>\n",
       "      <td>12.5</td>\n",
       "      <td>17.8</td>\n",
       "      <td>15.2</td>\n",
       "      <td>9.3</td>\n",
       "      <td>...</td>\n",
       "      <td>1.5</td>\n",
       "      <td>2.8</td>\n",
       "      <td>27.4</td>\n",
       "      <td>-4.5</td>\n",
       "      <td>1.5</td>\n",
       "      <td>121.7</td>\n",
       "      <td>104.9</td>\n",
       "      <td>16.8</td>\n",
       "      <td>422.4</td>\n",
       "      <td>26.0</td>\n",
       "    </tr>\n",
       "    <tr>\n",
       "      <th>2</th>\n",
       "      <td>Carmelo Anthony</td>\n",
       "      <td>Fr</td>\n",
       "      <td>2003</td>\n",
       "      <td>.537</td>\n",
       "      <td>.498</td>\n",
       "      <td>149.6</td>\n",
       "      <td>9.5</td>\n",
       "      <td>19.5</td>\n",
       "      <td>14.8</td>\n",
       "      <td>11.9</td>\n",
       "      <td>...</td>\n",
       "      <td>2.2</td>\n",
       "      <td>2.3</td>\n",
       "      <td>29.3</td>\n",
       "      <td>-1.9</td>\n",
       "      <td>1.3</td>\n",
       "      <td>116.8</td>\n",
       "      <td>92.5</td>\n",
       "      <td>24.3</td>\n",
       "      <td>554.3</td>\n",
       "      <td>25.0</td>\n",
       "    </tr>\n",
       "    <tr>\n",
       "      <th>3</th>\n",
       "      <td>Chris Bosh</td>\n",
       "      <td>Fr</td>\n",
       "      <td>2003</td>\n",
       "      <td>.633</td>\n",
       "      <td>.596</td>\n",
       "      <td>175.8</td>\n",
       "      <td>11.6</td>\n",
       "      <td>22.3</td>\n",
       "      <td>16.9</td>\n",
       "      <td>7.9</td>\n",
       "      <td>...</td>\n",
       "      <td>1.7</td>\n",
       "      <td>6.8</td>\n",
       "      <td>22.4</td>\n",
       "      <td>-4.6</td>\n",
       "      <td>1.6</td>\n",
       "      <td>120.7</td>\n",
       "      <td>93.5</td>\n",
       "      <td>27.2</td>\n",
       "      <td>453.0</td>\n",
       "      <td>24.7</td>\n",
       "    </tr>\n",
       "    <tr>\n",
       "      <th>4</th>\n",
       "      <td>Kee-Kee Clark</td>\n",
       "      <td>Fr</td>\n",
       "      <td>2003</td>\n",
       "      <td>.541</td>\n",
       "      <td>.490</td>\n",
       "      <td>164.1</td>\n",
       "      <td>1.4</td>\n",
       "      <td>4.7</td>\n",
       "      <td>3.0</td>\n",
       "      <td>23.7</td>\n",
       "      <td>...</td>\n",
       "      <td>2.4</td>\n",
       "      <td>0.5</td>\n",
       "      <td>32.5</td>\n",
       "      <td>-3.4</td>\n",
       "      <td>1.2</td>\n",
       "      <td>109.1</td>\n",
       "      <td>121.6</td>\n",
       "      <td>-12.5</td>\n",
       "      <td>321.1</td>\n",
       "      <td>24.5</td>\n",
       "    </tr>\n",
       "    <tr>\n",
       "      <th>...</th>\n",
       "      <td>...</td>\n",
       "      <td>...</td>\n",
       "      <td>...</td>\n",
       "      <td>...</td>\n",
       "      <td>...</td>\n",
       "      <td>...</td>\n",
       "      <td>...</td>\n",
       "      <td>...</td>\n",
       "      <td>...</td>\n",
       "      <td>...</td>\n",
       "      <td>...</td>\n",
       "      <td>...</td>\n",
       "      <td>...</td>\n",
       "      <td>...</td>\n",
       "      <td>...</td>\n",
       "      <td>...</td>\n",
       "      <td>...</td>\n",
       "      <td>...</td>\n",
       "      <td>...</td>\n",
       "      <td>...</td>\n",
       "      <td>...</td>\n",
       "    </tr>\n",
       "    <tr>\n",
       "      <th>15942</th>\n",
       "      <td>Robbie Beran</td>\n",
       "      <td>Sr</td>\n",
       "      <td>2024</td>\n",
       "      <td>.553</td>\n",
       "      <td>.522</td>\n",
       "      <td>155.9</td>\n",
       "      <td>5.0</td>\n",
       "      <td>17.8</td>\n",
       "      <td>11.7</td>\n",
       "      <td>9.0</td>\n",
       "      <td>...</td>\n",
       "      <td>1.5</td>\n",
       "      <td>4.2</td>\n",
       "      <td>14.5</td>\n",
       "      <td>-1.3</td>\n",
       "      <td>1.2</td>\n",
       "      <td>105.5</td>\n",
       "      <td>101.4</td>\n",
       "      <td>4.1</td>\n",
       "      <td>171.4</td>\n",
       "      <td>11.9</td>\n",
       "    </tr>\n",
       "    <tr>\n",
       "      <th>15943</th>\n",
       "      <td>Fidelis Okereke</td>\n",
       "      <td>Sr</td>\n",
       "      <td>2024</td>\n",
       "      <td>.546</td>\n",
       "      <td>.496</td>\n",
       "      <td>114.8</td>\n",
       "      <td>10.9</td>\n",
       "      <td>15.7</td>\n",
       "      <td>13.2</td>\n",
       "      <td>5.0</td>\n",
       "      <td>...</td>\n",
       "      <td>1.9</td>\n",
       "      <td>4.2</td>\n",
       "      <td>18.8</td>\n",
       "      <td>-8.0</td>\n",
       "      <td>1.5</td>\n",
       "      <td>95.5</td>\n",
       "      <td>101.3</td>\n",
       "      <td>-5.8</td>\n",
       "      <td>107.8</td>\n",
       "      <td>11.8</td>\n",
       "    </tr>\n",
       "    <tr>\n",
       "      <th>15944</th>\n",
       "      <td>Miguel Ayesa</td>\n",
       "      <td>Sr</td>\n",
       "      <td>2024</td>\n",
       "      <td>.555</td>\n",
       "      <td>.534</td>\n",
       "      <td>174.7</td>\n",
       "      <td>2.6</td>\n",
       "      <td>7.1</td>\n",
       "      <td>4.8</td>\n",
       "      <td>4.1</td>\n",
       "      <td>...</td>\n",
       "      <td>1.3</td>\n",
       "      <td>0.0</td>\n",
       "      <td>20.6</td>\n",
       "      <td>-2.9</td>\n",
       "      <td>1.2</td>\n",
       "      <td>104.1</td>\n",
       "      <td>110.0</td>\n",
       "      <td>-5.9</td>\n",
       "      <td>88.9</td>\n",
       "      <td>11.8</td>\n",
       "    </tr>\n",
       "    <tr>\n",
       "      <th>15945</th>\n",
       "      <td>Jaykwon Walton</td>\n",
       "      <td>Sr</td>\n",
       "      <td>2024</td>\n",
       "      <td>.483</td>\n",
       "      <td>.450</td>\n",
       "      <td>139.5</td>\n",
       "      <td>4.0</td>\n",
       "      <td>12.9</td>\n",
       "      <td>8.5</td>\n",
       "      <td>11.4</td>\n",
       "      <td>...</td>\n",
       "      <td>2.4</td>\n",
       "      <td>1.4</td>\n",
       "      <td>17.5</td>\n",
       "      <td>-0.8</td>\n",
       "      <td>1.1</td>\n",
       "      <td>101.9</td>\n",
       "      <td>105.2</td>\n",
       "      <td>-3.3</td>\n",
       "      <td>195.8</td>\n",
       "      <td>11.8</td>\n",
       "    </tr>\n",
       "    <tr>\n",
       "      <th>15946</th>\n",
       "      <td>Tibet Gorener</td>\n",
       "      <td>Sr</td>\n",
       "      <td>2024</td>\n",
       "      <td>.516</td>\n",
       "      <td>.492</td>\n",
       "      <td>146.4</td>\n",
       "      <td>4.3</td>\n",
       "      <td>11.3</td>\n",
       "      <td>7.7</td>\n",
       "      <td>4.5</td>\n",
       "      <td>...</td>\n",
       "      <td>0.8</td>\n",
       "      <td>1.1</td>\n",
       "      <td>19.8</td>\n",
       "      <td>-1.9</td>\n",
       "      <td>1.1</td>\n",
       "      <td>102.2</td>\n",
       "      <td>114.9</td>\n",
       "      <td>-12.7</td>\n",
       "      <td>188.9</td>\n",
       "      <td>11.8</td>\n",
       "    </tr>\n",
       "  </tbody>\n",
       "</table>\n",
       "<p>15947 rows × 21 columns</p>\n",
       "</div>"
      ],
      "text/plain": [
       "                player cls  year   TS%  eFG% totalS%  orb%  drb%  trb%  ast%  \\\n",
       "0       Michael Haddix  Fr  2003  .561  .521   120.8   7.9  11.1   9.5   4.1   \n",
       "1          Craig Smith  Fr  2003  .626  .606   147.9  12.5  17.8  15.2   9.3   \n",
       "2      Carmelo Anthony  Fr  2003  .537  .498   149.6   9.5  19.5  14.8  11.9   \n",
       "3           Chris Bosh  Fr  2003  .633  .596   175.8  11.6  22.3  16.9   7.9   \n",
       "4        Kee-Kee Clark  Fr  2003  .541  .490   164.1   1.4   4.7   3.0  23.7   \n",
       "...                ...  ..   ...   ...   ...     ...   ...   ...   ...   ...   \n",
       "15942     Robbie Beran  Sr  2024  .553  .522   155.9   5.0  17.8  11.7   9.0   \n",
       "15943  Fidelis Okereke  Sr  2024  .546  .496   114.8  10.9  15.7  13.2   5.0   \n",
       "15944     Miguel Ayesa  Sr  2024  .555  .534   174.7   2.6   7.1   4.8   4.1   \n",
       "15945   Jaykwon Walton  Sr  2024  .483  .450   139.5   4.0  12.9   8.5  11.4   \n",
       "15946    Tibet Gorener  Sr  2024  .516  .492   146.4   4.3  11.3   7.7   4.5   \n",
       "\n",
       "       ... stl% blk%  usg%   ppr  pps   ORtg   DRtg  eDiff    FIC   PER  \n",
       "0      ...  1.6  3.6  24.0  -4.1  1.4  119.8  108.4   11.4  310.8  26.3  \n",
       "1      ...  1.5  2.8  27.4  -4.5  1.5  121.7  104.9   16.8  422.4  26.0  \n",
       "2      ...  2.2  2.3  29.3  -1.9  1.3  116.8   92.5   24.3  554.3  25.0  \n",
       "3      ...  1.7  6.8  22.4  -4.6  1.6  120.7   93.5   27.2  453.0  24.7  \n",
       "4      ...  2.4  0.5  32.5  -3.4  1.2  109.1  121.6  -12.5  321.1  24.5  \n",
       "...    ...  ...  ...   ...   ...  ...    ...    ...    ...    ...   ...  \n",
       "15942  ...  1.5  4.2  14.5  -1.3  1.2  105.5  101.4    4.1  171.4  11.9  \n",
       "15943  ...  1.9  4.2  18.8  -8.0  1.5   95.5  101.3   -5.8  107.8  11.8  \n",
       "15944  ...  1.3  0.0  20.6  -2.9  1.2  104.1  110.0   -5.9   88.9  11.8  \n",
       "15945  ...  2.4  1.4  17.5  -0.8  1.1  101.9  105.2   -3.3  195.8  11.8  \n",
       "15946  ...  0.8  1.1  19.8  -1.9  1.1  102.2  114.9  -12.7  188.9  11.8  \n",
       "\n",
       "[15947 rows x 21 columns]"
      ]
     },
     "execution_count": 13,
     "metadata": {},
     "output_type": "execute_result"
    }
   ],
   "source": [
    "df"
   ]
  },
  {
   "cell_type": "markdown",
   "id": "11b81e7e",
   "metadata": {},
   "source": [
    "### Creating NBA drafts dataframe "
   ]
  },
  {
   "cell_type": "code",
   "execution_count": 34,
   "id": "d75bb60d",
   "metadata": {},
   "outputs": [],
   "source": [
    "years=np.arange(2004,2024,1)"
   ]
  },
  {
   "cell_type": "code",
   "execution_count": 46,
   "id": "9d3ef583",
   "metadata": {},
   "outputs": [
    {
     "name": "stderr",
     "output_type": "stream",
     "text": [
      "  0%|                                                                                           | 0/20 [00:00<?, ?it/s]\n",
      "  0%|                                                                                           | 0/30 [00:00<?, ?it/s]\u001b[A\n",
      " 43%|███████████████████████████████████                                              | 13/30 [00:00<00:00, 122.37it/s]\u001b[A\n",
      " 97%|██████████████████████████████████████████████████████████████████████████████▎  | 29/30 [00:00<00:00, 104.48it/s]\u001b[A\n",
      "  5%|████▏                                                                              | 1/20 [00:01<00:22,  1.21s/it]"
     ]
    },
    {
     "name": "stdout",
     "output_type": "stream",
     "text": [
      "error: https://basketball.realgm.com/nba/draft/past_drafts/2004 30 David Harrison Blake Stepp\n"
     ]
    },
    {
     "name": "stderr",
     "output_type": "stream",
     "text": [
      "\n",
      "  0%|                                                                                           | 0/30 [00:00<?, ?it/s]\u001b[A\n",
      " 37%|██████████████████████████████                                                    | 11/30 [00:00<00:00, 97.75it/s]\u001b[A\n",
      "100%|██████████████████████████████████████████████████████████████████████████████████| 30/30 [00:00<00:00, 86.83it/s]\u001b[A\n",
      " 10%|████████▎                                                                          | 2/20 [00:02<00:21,  1.18s/it]\n",
      "  0%|                                                                                           | 0/30 [00:00<?, ?it/s]\u001b[A\n",
      " 30%|████████████████████████▉                                                          | 9/30 [00:00<00:00, 87.77it/s]\u001b[A\n",
      "100%|█████████████████████████████████████████████████████████████████████████████████| 30/30 [00:00<00:00, 111.79it/s]\u001b[A\n",
      " 15%|████████████▍                                                                      | 3/20 [00:03<00:18,  1.10s/it]\n",
      "  0%|                                                                                           | 0/30 [00:00<?, ?it/s]\u001b[A\n",
      " 37%|██████████████████████████████                                                    | 11/30 [00:00<00:00, 96.56it/s]\u001b[A\n",
      "100%|██████████████████████████████████████████████████████████████████████████████████| 30/30 [00:00<00:00, 99.25it/s]\u001b[A\n",
      " 20%|████████████████▌                                                                  | 4/20 [00:04<00:17,  1.06s/it]\n",
      "  0%|                                                                                           | 0/30 [00:00<?, ?it/s]\u001b[A\n",
      " 23%|███████████████████▎                                                               | 7/30 [00:00<00:00, 66.57it/s]\u001b[A\n",
      " 53%|███████████████████████████████████████████▋                                      | 16/30 [00:00<00:00, 78.64it/s]\u001b[A\n",
      "100%|██████████████████████████████████████████████████████████████████████████████████| 30/30 [00:00<00:00, 91.20it/s]\u001b[A\n",
      " 25%|████████████████████▊                                                              | 5/20 [00:05<00:16,  1.08s/it]\n",
      "  0%|                                                                                           | 0/30 [00:00<?, ?it/s]\u001b[A\n",
      "100%|█████████████████████████████████████████████████████████████████████████████████| 30/30 [00:00<00:00, 137.76it/s]\u001b[A\n",
      " 30%|████████████████████████▉                                                          | 6/20 [00:06<00:14,  1.04s/it]\n",
      "  0%|                                                                                           | 0/30 [00:00<?, ?it/s]\u001b[A\n",
      " 33%|███████████████████████████▎                                                      | 10/30 [00:00<00:00, 97.50it/s]\u001b[A\n",
      "100%|██████████████████████████████████████████████████████████████████████████████████| 30/30 [00:00<00:00, 93.70it/s]\u001b[A\n",
      " 35%|█████████████████████████████                                                      | 7/20 [00:07<00:13,  1.03s/it]\n",
      "  0%|                                                                                           | 0/30 [00:00<?, ?it/s]\u001b[A\n",
      " 43%|███████████████████████████████████                                              | 13/30 [00:00<00:00, 123.97it/s]\u001b[A\n",
      "100%|█████████████████████████████████████████████████████████████████████████████████| 30/30 [00:00<00:00, 129.67it/s]\u001b[A\n",
      " 40%|█████████████████████████████████▏                                                 | 8/20 [00:08<00:12,  1.01s/it]\n",
      "  0%|                                                                                           | 0/30 [00:00<?, ?it/s]\u001b[A\n",
      "100%|█████████████████████████████████████████████████████████████████████████████████| 30/30 [00:00<00:00, 168.09it/s]\u001b[A\n",
      " 45%|█████████████████████████████████████▎                                             | 9/20 [00:09<00:10,  1.03it/s]\n",
      "  0%|                                                                                           | 0/30 [00:00<?, ?it/s]\u001b[A\n",
      " 30%|████████████████████████▉                                                          | 9/30 [00:00<00:00, 88.08it/s]\u001b[A\n",
      " 60%|█████████████████████████████████████████████████▏                                | 18/30 [00:00<00:00, 81.32it/s]\u001b[A\n",
      "100%|██████████████████████████████████████████████████████████████████████████████████| 30/30 [00:00<00:00, 82.98it/s]\u001b[A\n",
      " 50%|█████████████████████████████████████████                                         | 10/20 [00:10<00:10,  1.01s/it]\n",
      "  0%|                                                                                           | 0/30 [00:00<?, ?it/s]\u001b[A\n",
      " 47%|█████████████████████████████████████▊                                           | 14/30 [00:00<00:00, 132.89it/s]\u001b[A\n",
      "100%|█████████████████████████████████████████████████████████████████████████████████| 30/30 [00:00<00:00, 117.84it/s]\u001b[A\n",
      " 55%|█████████████████████████████████████████████                                     | 11/20 [00:11<00:08,  1.00it/s]\n",
      "  0%|                                                                                           | 0/30 [00:00<?, ?it/s]\u001b[A\n",
      " 27%|██████████████████████▏                                                            | 8/30 [00:00<00:00, 79.55it/s]\u001b[A\n",
      "100%|█████████████████████████████████████████████████████████████████████████████████| 30/30 [00:00<00:00, 102.39it/s]\u001b[A\n",
      " 60%|█████████████████████████████████████████████████▏                                | 12/20 [00:12<00:08,  1.02s/it]\n",
      "  0%|                                                                                           | 0/30 [00:00<?, ?it/s]\u001b[A\n",
      " 37%|█████████████████████████████▋                                                   | 11/30 [00:00<00:00, 104.97it/s]\u001b[A\n",
      "100%|█████████████████████████████████████████████████████████████████████████████████| 30/30 [00:00<00:00, 100.35it/s]\u001b[A\n",
      " 65%|█████████████████████████████████████████████████████▎                            | 13/20 [00:13<00:07,  1.04s/it]\n",
      "  0%|                                                                                           | 0/30 [00:00<?, ?it/s]\u001b[A\n",
      " 27%|██████████████████████▏                                                            | 8/30 [00:00<00:00, 77.04it/s]\u001b[A\n",
      " 53%|███████████████████████████████████████████▋                                      | 16/30 [00:00<00:00, 76.08it/s]\u001b[A\n",
      "100%|██████████████████████████████████████████████████████████████████████████████████| 30/30 [00:00<00:00, 70.38it/s]\u001b[A\n",
      " 70%|█████████████████████████████████████████████████████████▍                        | 14/20 [00:14<00:06,  1.10s/it]\n",
      "  0%|                                                                                           | 0/30 [00:00<?, ?it/s]\u001b[A\n",
      " 30%|████████████████████████▉                                                          | 9/30 [00:00<00:00, 89.67it/s]\u001b[A\n",
      " 60%|█████████████████████████████████████████████████▏                                | 18/30 [00:00<00:00, 89.87it/s]\u001b[A\n",
      "100%|██████████████████████████████████████████████████████████████████████████████████| 30/30 [00:00<00:00, 95.43it/s]\u001b[A\n",
      " 75%|█████████████████████████████████████████████████████████████▌                    | 15/20 [00:15<00:05,  1.09s/it]\n",
      "  0%|                                                                                           | 0/30 [00:00<?, ?it/s]\u001b[A\n",
      " 33%|███████████████████████████▎                                                      | 10/30 [00:00<00:00, 93.89it/s]\u001b[A\n",
      "100%|██████████████████████████████████████████████████████████████████████████████████| 30/30 [00:00<00:00, 89.66it/s]\u001b[A\n",
      " 80%|█████████████████████████████████████████████████████████████████▌                | 16/20 [00:16<00:04,  1.09s/it]\n",
      "  0%|                                                                                           | 0/30 [00:00<?, ?it/s]\u001b[A\n",
      " 37%|█████████████████████████████▋                                                   | 11/30 [00:00<00:00, 102.09it/s]\u001b[A\n",
      "100%|██████████████████████████████████████████████████████████████████████████████████| 30/30 [00:00<00:00, 83.68it/s]\u001b[A\n",
      " 85%|█████████████████████████████████████████████████████████████████████▋            | 17/20 [00:18<00:03,  1.11s/it]\n",
      "  0%|                                                                                           | 0/30 [00:00<?, ?it/s]\u001b[A\n",
      " 30%|████████████████████████▉                                                          | 9/30 [00:00<00:00, 87.41it/s]\u001b[A\n",
      " 60%|█████████████████████████████████████████████████▏                                | 18/30 [00:00<00:00, 81.03it/s]\u001b[A\n",
      "100%|██████████████████████████████████████████████████████████████████████████████████| 30/30 [00:00<00:00, 83.45it/s]\u001b[A\n",
      " 90%|█████████████████████████████████████████████████████████████████████████▊        | 18/20 [00:19<00:02,  1.10s/it]\n",
      "  0%|                                                                                           | 0/30 [00:00<?, ?it/s]\u001b[A\n",
      " 93%|████████████████████████████████████████████████████████████████████████████▌     | 28/30 [00:00<00:00, 96.83it/s]\u001b[A\n",
      " 95%|█████████████████████████████████████████████████████████████████████████████▉    | 19/20 [00:20<00:01,  1.10s/it]"
     ]
    },
    {
     "name": "stdout",
     "output_type": "stream",
     "text": [
      "error: https://basketball.realgm.com/nba/draft/past_drafts/2022 29 TyTy Washington, Jr. Hugo Besson\n"
     ]
    },
    {
     "name": "stderr",
     "output_type": "stream",
     "text": [
      "\n",
      "  0%|                                                                                           | 0/30 [00:00<?, ?it/s]\u001b[A\n",
      " 47%|█████████████████████████████████████▊                                           | 14/30 [00:00<00:00, 127.93it/s]\u001b[A\n",
      " 93%|████████████████████████████████████████████████████████████████████████████▌     | 28/30 [00:00<00:00, 99.14it/s]\u001b[A\n",
      "100%|██████████████████████████████████████████████████████████████████████████████████| 20/20 [00:21<00:00,  1.06s/it]"
     ]
    },
    {
     "name": "stdout",
     "output_type": "stream",
     "text": [
      "error: https://basketball.realgm.com/nba/draft/past_drafts/2023 29 Julian Strawther Chris Livingston\n"
     ]
    },
    {
     "name": "stderr",
     "output_type": "stream",
     "text": [
      "\n"
     ]
    }
   ],
   "source": [
    "table=[]\n",
    "for year in tqdm(years):\n",
    "    try:\n",
    "        url=f'https://basketball.realgm.com/nba/draft/past_drafts/{year}'\n",
    "        r=req.get(url)\n",
    "        soup=BeautifulSoup(r.text)\n",
    "        for i in tqdm(range(1,31)):\n",
    "            name1=str(soup.find_all('table')[12].find_all('tr')[i]).split('</a>')[0].split('>')[-1]\n",
    "            name2=str(soup.find_all('table')[13].find_all('tr')[i]).split('</a>')[0].split('>')[-1]\n",
    "            table.append([name1,year,i,'first round'])\n",
    "            table.append([name2,year,i,'second round'])\n",
    "    except:\n",
    "        print('error: '+url,i,name1,name2)\n",
    "        pass"
   ]
  },
  {
   "cell_type": "code",
   "execution_count": 47,
   "id": "b8c2163f",
   "metadata": {},
   "outputs": [],
   "source": [
    "df=pd.DataFrame(table,columns=['player','year','draft_pos','drafted'])"
   ]
  },
  {
   "cell_type": "code",
   "execution_count": 7,
   "id": "380cabd1",
   "metadata": {},
   "outputs": [
    {
     "data": {
      "text/html": [
       "<div>\n",
       "<style scoped>\n",
       "    .dataframe tbody tr th:only-of-type {\n",
       "        vertical-align: middle;\n",
       "    }\n",
       "\n",
       "    .dataframe tbody tr th {\n",
       "        vertical-align: top;\n",
       "    }\n",
       "\n",
       "    .dataframe thead th {\n",
       "        text-align: right;\n",
       "    }\n",
       "</style>\n",
       "<table border=\"1\" class=\"dataframe\">\n",
       "  <thead>\n",
       "    <tr style=\"text-align: right;\">\n",
       "      <th></th>\n",
       "      <th>player</th>\n",
       "      <th>year</th>\n",
       "      <th>draft_pos</th>\n",
       "      <th>drafted</th>\n",
       "    </tr>\n",
       "  </thead>\n",
       "  <tbody>\n",
       "    <tr>\n",
       "      <th>0</th>\n",
       "      <td>Dwight Howard</td>\n",
       "      <td>2004</td>\n",
       "      <td>1</td>\n",
       "      <td>first round</td>\n",
       "    </tr>\n",
       "    <tr>\n",
       "      <th>1</th>\n",
       "      <td>Anderson Varejao</td>\n",
       "      <td>2004</td>\n",
       "      <td>1</td>\n",
       "      <td>second round</td>\n",
       "    </tr>\n",
       "    <tr>\n",
       "      <th>2</th>\n",
       "      <td>Emeka Okafor</td>\n",
       "      <td>2004</td>\n",
       "      <td>2</td>\n",
       "      <td>first round</td>\n",
       "    </tr>\n",
       "    <tr>\n",
       "      <th>3</th>\n",
       "      <td>Jackson Vroman</td>\n",
       "      <td>2004</td>\n",
       "      <td>2</td>\n",
       "      <td>second round</td>\n",
       "    </tr>\n",
       "    <tr>\n",
       "      <th>4</th>\n",
       "      <td>Ben Gordon</td>\n",
       "      <td>2004</td>\n",
       "      <td>3</td>\n",
       "      <td>first round</td>\n",
       "    </tr>\n",
       "    <tr>\n",
       "      <th>...</th>\n",
       "      <td>...</td>\n",
       "      <td>...</td>\n",
       "      <td>...</td>\n",
       "      <td>...</td>\n",
       "    </tr>\n",
       "    <tr>\n",
       "      <th>1185</th>\n",
       "      <td>Tarik Biberovic</td>\n",
       "      <td>2023</td>\n",
       "      <td>26</td>\n",
       "      <td>second round</td>\n",
       "    </tr>\n",
       "    <tr>\n",
       "      <th>1186</th>\n",
       "      <td>Nick Smith, Jr.</td>\n",
       "      <td>2023</td>\n",
       "      <td>27</td>\n",
       "      <td>first round</td>\n",
       "    </tr>\n",
       "    <tr>\n",
       "      <th>1187</th>\n",
       "      <td>Trayce Jackson-Davis</td>\n",
       "      <td>2023</td>\n",
       "      <td>27</td>\n",
       "      <td>second round</td>\n",
       "    </tr>\n",
       "    <tr>\n",
       "      <th>1188</th>\n",
       "      <td>Brice Sensabaugh</td>\n",
       "      <td>2023</td>\n",
       "      <td>28</td>\n",
       "      <td>first round</td>\n",
       "    </tr>\n",
       "    <tr>\n",
       "      <th>1189</th>\n",
       "      <td>Chris Livingston</td>\n",
       "      <td>2023</td>\n",
       "      <td>28</td>\n",
       "      <td>second round</td>\n",
       "    </tr>\n",
       "  </tbody>\n",
       "</table>\n",
       "<p>1190 rows × 4 columns</p>\n",
       "</div>"
      ],
      "text/plain": [
       "                    player  year  draft_pos       drafted\n",
       "0            Dwight Howard  2004          1   first round\n",
       "1         Anderson Varejao  2004          1  second round\n",
       "2             Emeka Okafor  2004          2   first round\n",
       "3           Jackson Vroman  2004          2  second round\n",
       "4               Ben Gordon  2004          3   first round\n",
       "...                    ...   ...        ...           ...\n",
       "1185       Tarik Biberovic  2023         26  second round\n",
       "1186       Nick Smith, Jr.  2023         27   first round\n",
       "1187  Trayce Jackson-Davis  2023         27  second round\n",
       "1188      Brice Sensabaugh  2023         28   first round\n",
       "1189      Chris Livingston  2023         28  second round\n",
       "\n",
       "[1190 rows x 4 columns]"
      ]
     },
     "execution_count": 7,
     "metadata": {},
     "output_type": "execute_result"
    }
   ],
   "source": [
    "df"
   ]
  },
  {
   "cell_type": "code",
   "execution_count": 21,
   "id": "67a9058c",
   "metadata": {},
   "outputs": [
    {
     "data": {
      "text/html": [
       "<div>\n",
       "<style scoped>\n",
       "    .dataframe tbody tr th:only-of-type {\n",
       "        vertical-align: middle;\n",
       "    }\n",
       "\n",
       "    .dataframe tbody tr th {\n",
       "        vertical-align: top;\n",
       "    }\n",
       "\n",
       "    .dataframe thead th {\n",
       "        text-align: right;\n",
       "    }\n",
       "</style>\n",
       "<table border=\"1\" class=\"dataframe\">\n",
       "  <thead>\n",
       "    <tr style=\"text-align: right;\">\n",
       "      <th></th>\n",
       "      <th>player</th>\n",
       "      <th>year</th>\n",
       "      <th>draft_pos</th>\n",
       "      <th>drafted</th>\n",
       "    </tr>\n",
       "  </thead>\n",
       "  <tbody>\n",
       "    <tr>\n",
       "      <th>0</th>\n",
       "      <td>Dwight Howard</td>\n",
       "      <td>2004</td>\n",
       "      <td>1</td>\n",
       "      <td>first round</td>\n",
       "    </tr>\n",
       "    <tr>\n",
       "      <th>1</th>\n",
       "      <td>Emeka Okafor</td>\n",
       "      <td>2004</td>\n",
       "      <td>2</td>\n",
       "      <td>first round</td>\n",
       "    </tr>\n",
       "    <tr>\n",
       "      <th>2</th>\n",
       "      <td>Ben Gordon</td>\n",
       "      <td>2004</td>\n",
       "      <td>3</td>\n",
       "      <td>first round</td>\n",
       "    </tr>\n",
       "    <tr>\n",
       "      <th>3</th>\n",
       "      <td>Shaun Livingston</td>\n",
       "      <td>2004</td>\n",
       "      <td>4</td>\n",
       "      <td>first round</td>\n",
       "    </tr>\n",
       "    <tr>\n",
       "      <th>4</th>\n",
       "      <td>Devin Harris</td>\n",
       "      <td>2004</td>\n",
       "      <td>5</td>\n",
       "      <td>first round</td>\n",
       "    </tr>\n",
       "    <tr>\n",
       "      <th>...</th>\n",
       "      <td>...</td>\n",
       "      <td>...</td>\n",
       "      <td>...</td>\n",
       "      <td>...</td>\n",
       "    </tr>\n",
       "    <tr>\n",
       "      <th>1185</th>\n",
       "      <td>Jalen Slawson</td>\n",
       "      <td>2023</td>\n",
       "      <td>24</td>\n",
       "      <td>second round</td>\n",
       "    </tr>\n",
       "    <tr>\n",
       "      <th>1186</th>\n",
       "      <td>Isaiah Wong</td>\n",
       "      <td>2023</td>\n",
       "      <td>25</td>\n",
       "      <td>second round</td>\n",
       "    </tr>\n",
       "    <tr>\n",
       "      <th>1187</th>\n",
       "      <td>Tarik Biberovic</td>\n",
       "      <td>2023</td>\n",
       "      <td>26</td>\n",
       "      <td>second round</td>\n",
       "    </tr>\n",
       "    <tr>\n",
       "      <th>1188</th>\n",
       "      <td>Trayce Jackson-Davis</td>\n",
       "      <td>2023</td>\n",
       "      <td>27</td>\n",
       "      <td>second round</td>\n",
       "    </tr>\n",
       "    <tr>\n",
       "      <th>1189</th>\n",
       "      <td>Chris Livingston</td>\n",
       "      <td>2023</td>\n",
       "      <td>28</td>\n",
       "      <td>second round</td>\n",
       "    </tr>\n",
       "  </tbody>\n",
       "</table>\n",
       "<p>1190 rows × 4 columns</p>\n",
       "</div>"
      ],
      "text/plain": [
       "                    player  year  draft_pos       drafted\n",
       "0            Dwight Howard  2004          1   first round\n",
       "1             Emeka Okafor  2004          2   first round\n",
       "2               Ben Gordon  2004          3   first round\n",
       "3         Shaun Livingston  2004          4   first round\n",
       "4             Devin Harris  2004          5   first round\n",
       "...                    ...   ...        ...           ...\n",
       "1185         Jalen Slawson  2023         24  second round\n",
       "1186           Isaiah Wong  2023         25  second round\n",
       "1187       Tarik Biberovic  2023         26  second round\n",
       "1188  Trayce Jackson-Davis  2023         27  second round\n",
       "1189      Chris Livingston  2023         28  second round\n",
       "\n",
       "[1190 rows x 4 columns]"
      ]
     },
     "execution_count": 21,
     "metadata": {},
     "output_type": "execute_result"
    }
   ],
   "source": [
    "df=duckdb.query(\"SELECT * FROM df ORDER BY year,drafted,draft_pos\").df()\n",
    "df"
   ]
  },
  {
   "cell_type": "markdown",
   "id": "8ffaa177",
   "metadata": {},
   "source": [
    "### Joining tables"
   ]
  },
  {
   "cell_type": "code",
   "execution_count": 39,
   "id": "b955fc01",
   "metadata": {},
   "outputs": [],
   "source": [
    "stats=pd.read_excel('ncaa-stats-big.xlsx')\n",
    "advanced_stats=pd.read_excel('ncaa-advanced-stats-big.xlsx')\n",
    "drafts=pd.read_excel('nba-past-drafts.xlsx')"
   ]
  },
  {
   "cell_type": "code",
   "execution_count": 40,
   "id": "2559784d",
   "metadata": {},
   "outputs": [
    {
     "data": {
      "text/plain": [
       "(7920, 23)"
      ]
     },
     "execution_count": 40,
     "metadata": {},
     "output_type": "execute_result"
    }
   ],
   "source": [
    "stats.shape"
   ]
  },
  {
   "cell_type": "code",
   "execution_count": 41,
   "id": "7769a00b",
   "metadata": {},
   "outputs": [
    {
     "data": {
      "text/plain": [
       "<duckdb.duckdb.DuckDBPyConnection at 0x232da5a30f0>"
      ]
     },
     "execution_count": 41,
     "metadata": {},
     "output_type": "execute_result"
    }
   ],
   "source": [
    "conn = duckdb.connect(':memory:')\n",
    "\n",
    "conn.register(\"stats\", stats)\n",
    "conn.register(\"advancedStats\", advanced_stats)\n",
    "conn.register(\"drafts\", drafts)"
   ]
  },
  {
   "cell_type": "code",
   "execution_count": 42,
   "id": "1190a211",
   "metadata": {},
   "outputs": [],
   "source": [
    "query = \"\"\"\n",
    "    SELECT stats.*,advancedStats.* FROM stats\n",
    "    INNER JOIN advancedStats ON stats.player = advancedStats.player\n",
    "    AND stats.year = advancedStats.year\n",
    "\"\"\""
   ]
  },
  {
   "cell_type": "code",
   "execution_count": 43,
   "id": "1e544f01",
   "metadata": {},
   "outputs": [],
   "source": [
    "df = conn.execute(query).fetchdf()"
   ]
  },
  {
   "cell_type": "code",
   "execution_count": 44,
   "id": "5ee7353c",
   "metadata": {},
   "outputs": [
    {
     "data": {
      "text/plain": [
       "(2525, 44)"
      ]
     },
     "execution_count": 44,
     "metadata": {},
     "output_type": "execute_result"
    }
   ],
   "source": [
    "df.shape"
   ]
  },
  {
   "cell_type": "code",
   "execution_count": 31,
   "id": "fd67bec2",
   "metadata": {},
   "outputs": [
    {
     "data": {
      "text/plain": [
       "Index(['player', 'cls', 'year', 'gp', 'mpg', 'ppg', 'fgm', 'fga', 'fg%', '3pm',\n",
       "       '3pa', '3p%', 'ftm', 'fta', 'ft%', 'orb', 'drb', 'rpg', 'apg', 'spg',\n",
       "       'bpg', 'tov', 'pf', 'player_1', 'cls_1', 'year_1', 'TS%', 'eFG%',\n",
       "       'totalS%', 'orb%', 'drb%', 'trb%', 'ast%', 'tov%', 'stl%', 'blk%',\n",
       "       'usg%', 'ppr', 'pps', 'ORtg', 'DRtg', 'eDiff', 'FIC', 'PER'],\n",
       "      dtype='object')"
      ]
     },
     "execution_count": 31,
     "metadata": {},
     "output_type": "execute_result"
    }
   ],
   "source": [
    "df.columns"
   ]
  },
  {
   "cell_type": "code",
   "execution_count": 32,
   "id": "360caa67",
   "metadata": {},
   "outputs": [],
   "source": [
    "df.drop(columns=['player_1','cls_1','year_1'],inplace=True)"
   ]
  },
  {
   "cell_type": "code",
   "execution_count": 33,
   "id": "086f9166",
   "metadata": {},
   "outputs": [
    {
     "data": {
      "text/plain": [
       "<duckdb.duckdb.DuckDBPyConnection at 0x232da5048b0>"
      ]
     },
     "execution_count": 33,
     "metadata": {},
     "output_type": "execute_result"
    }
   ],
   "source": [
    "conn.register(\"fullStats\", df)"
   ]
  },
  {
   "cell_type": "code",
   "execution_count": 34,
   "id": "4e274c10",
   "metadata": {},
   "outputs": [],
   "source": [
    "query = \"\"\"\n",
    "    SELECT fullStats.*,drafts.draft_pos,drafts.drafted FROM fullStats\n",
    "    LEFT JOIN drafts ON fullStats.player = drafts.player\n",
    "    AND fullStats.year = drafts.year\n",
    "\"\"\""
   ]
  },
  {
   "cell_type": "code",
   "execution_count": 35,
   "id": "eaca1fea",
   "metadata": {},
   "outputs": [],
   "source": [
    "df = conn.execute(query).fetchdf()"
   ]
  },
  {
   "cell_type": "code",
   "execution_count": 36,
   "id": "dd94c568",
   "metadata": {},
   "outputs": [],
   "source": [
    "df.to_excel('table.xlsx',index=False)"
   ]
  },
  {
   "cell_type": "code",
   "execution_count": 45,
   "id": "90b19688",
   "metadata": {},
   "outputs": [],
   "source": [
    "df=pd.read_excel('table.xlsx')"
   ]
  }
 ],
 "metadata": {
  "kernelspec": {
   "display_name": "Python 3 (ipykernel)",
   "language": "python",
   "name": "python3"
  },
  "language_info": {
   "codemirror_mode": {
    "name": "ipython",
    "version": 3
   },
   "file_extension": ".py",
   "mimetype": "text/x-python",
   "name": "python",
   "nbconvert_exporter": "python",
   "pygments_lexer": "ipython3",
   "version": "3.9.13"
  }
 },
 "nbformat": 4,
 "nbformat_minor": 5
}
