{
 "cells": [
  {
   "cell_type": "code",
   "execution_count": null,
   "id": "5602fd81",
   "metadata": {},
   "outputs": [],
   "source": [
    "import pandas as pd\n",
    "import seaborn as sns\n",
    "import matplotlib.pyplot as plt\n",
    "import numpy as np"
   ]
  },
  {
   "cell_type": "markdown",
   "id": "32785674",
   "metadata": {},
   "source": [
    "### Importing dataset"
   ]
  },
  {
   "cell_type": "code",
   "execution_count": null,
   "id": "aa2eba6e",
   "metadata": {},
   "outputs": [],
   "source": [
    "df=pd.read_excel('table.xlsx')\n",
    "df.head()"
   ]
  },
  {
   "cell_type": "markdown",
   "id": "fb5a6f08",
   "metadata": {},
   "source": [
    "Filling null values in drafted column as undrafted"
   ]
  },
  {
   "cell_type": "code",
   "execution_count": null,
   "id": "e4da4a67",
   "metadata": {},
   "outputs": [],
   "source": [
    "df['drafted'].isnull().value_counts()"
   ]
  },
  {
   "cell_type": "code",
   "execution_count": null,
   "id": "88540ee6",
   "metadata": {},
   "outputs": [],
   "source": [
    "df['drafted'].fillna('undrafted',inplace=True)"
   ]
  },
  {
   "cell_type": "code",
   "execution_count": null,
   "id": "a2d712e2",
   "metadata": {},
   "outputs": [],
   "source": [
    "df['drafted'].isnull().value_counts()"
   ]
  },
  {
   "cell_type": "code",
   "execution_count": null,
   "id": "fe4f954c",
   "metadata": {},
   "outputs": [],
   "source": [
    "df.head()"
   ]
  },
  {
   "cell_type": "code",
   "execution_count": null,
   "id": "873f388d",
   "metadata": {},
   "outputs": [],
   "source": [
    "df.drop(['year','draft_pos'],axis='columns',inplace=True)\n",
    "df"
   ]
  },
  {
   "cell_type": "code",
   "execution_count": null,
   "id": "4b15daa2",
   "metadata": {},
   "outputs": [],
   "source": [
    "plt.figure(figsize=(6,4))\n",
    "sns.boxplot(data=df,x='drafted',y='ppg',order=['first round','second round','undrafted'])"
   ]
  },
  {
   "cell_type": "code",
   "execution_count": null,
   "id": "7caf127a",
   "metadata": {},
   "outputs": [],
   "source": [
    "a=df[['cls','drafted']].groupby(by=['cls','drafted'])['cls'].count()\n",
    "a.unstack().reindex(['Fr','So','Jr','Sr']).plot(kind='bar',stacked=True)"
   ]
  },
  {
   "cell_type": "code",
   "execution_count": null,
   "id": "271bd4d8",
   "metadata": {},
   "outputs": [],
   "source": [
    "df.columns"
   ]
  },
  {
   "cell_type": "code",
   "execution_count": null,
   "id": "7ae52649",
   "metadata": {},
   "outputs": [],
   "source": [
    "plt.figure(figsize=(6,4))\n",
    "sns.boxplot(data=df,x='drafted',y='fg%',order=['first round','second round','undrafted'])"
   ]
  },
  {
   "cell_type": "code",
   "execution_count": null,
   "id": "e9bdf0c7",
   "metadata": {},
   "outputs": [],
   "source": [
    "df[['drafted','fg%']].groupby('drafted')['fg%'].mean()"
   ]
  },
  {
   "cell_type": "code",
   "execution_count": null,
   "id": "0186e2c9",
   "metadata": {},
   "outputs": [],
   "source": [
    "plt.figure(figsize=(6,4))\n",
    "sns.boxplot(data=df,x='drafted',y='3p%',order=['first round','second round','undrafted'])"
   ]
  },
  {
   "cell_type": "code",
   "execution_count": null,
   "id": "8bb02da7",
   "metadata": {},
   "outputs": [],
   "source": [
    "df[['drafted','3p%']].groupby('drafted')['3p%'].mean()"
   ]
  },
  {
   "cell_type": "code",
   "execution_count": null,
   "id": "3b613b9d",
   "metadata": {},
   "outputs": [],
   "source": [
    "plt.figure(figsize=(16,16))\n",
    "sns.heatmap(df.corr(),annot=True)"
   ]
  },
  {
   "cell_type": "markdown",
   "id": "113b2012",
   "metadata": {},
   "source": [
    "### Model"
   ]
  },
  {
   "cell_type": "code",
   "execution_count": null,
   "id": "d6cbb729",
   "metadata": {},
   "outputs": [],
   "source": [
    "# Modelling\n",
    "from sklearn.ensemble import RandomForestClassifier\n",
    "from sklearn.metrics import accuracy_score, confusion_matrix, precision_score, recall_score, ConfusionMatrixDisplay\n",
    "from sklearn.model_selection import RandomizedSearchCV, train_test_split\n",
    "from scipy.stats import randint\n",
    "\n",
    "# Tree Visualisation\n",
    "from sklearn.tree import export_graphviz\n",
    "from IPython.display import Image\n",
    "import graphviz"
   ]
  },
  {
   "cell_type": "markdown",
   "id": "afb32b1e",
   "metadata": {},
   "source": [
    "making class a dummy variable"
   ]
  },
  {
   "cell_type": "code",
   "execution_count": null,
   "id": "4b50282a",
   "metadata": {},
   "outputs": [],
   "source": [
    "df=pd.get_dummies(df,columns=['cls'])\n",
    "df"
   ]
  },
  {
   "cell_type": "markdown",
   "id": "2820b97a",
   "metadata": {},
   "source": [
    "dropping player names"
   ]
  },
  {
   "cell_type": "code",
   "execution_count": null,
   "id": "9f1fa093",
   "metadata": {},
   "outputs": [],
   "source": [
    "df.drop('player',axis='columns',inplace=True)"
   ]
  },
  {
   "cell_type": "markdown",
   "id": "ecdc321c",
   "metadata": {},
   "source": [
    "defining x and y matrices"
   ]
  },
  {
   "cell_type": "code",
   "execution_count": null,
   "id": "cbf8fe52",
   "metadata": {},
   "outputs": [],
   "source": [
    "X=df.drop('drafted',axis='columns')\n",
    "y=df['drafted']"
   ]
  }
 ],
 "metadata": {
  "kernelspec": {
   "display_name": "Python 3 (ipykernel)",
   "language": "python",
   "name": "python3"
  },
  "language_info": {
   "codemirror_mode": {
    "name": "ipython",
    "version": 3
   },
   "file_extension": ".py",
   "mimetype": "text/x-python",
   "name": "python",
   "nbconvert_exporter": "python",
   "pygments_lexer": "ipython3",
   "version": "3.9.13"
  }
 },
 "nbformat": 4,
 "nbformat_minor": 5
}
