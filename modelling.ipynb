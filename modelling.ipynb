{
 "cells": [
  {
   "cell_type": "code",
   "execution_count": 154,
   "id": "e663f3d4",
   "metadata": {},
   "outputs": [],
   "source": [
    "import pandas as pd\n",
    "import seaborn as sns\n",
    "import matplotlib.pyplot as plt\n",
    "import numpy as np\n",
    "from tqdm import tqdm"
   ]
  },
  {
   "cell_type": "markdown",
   "id": "4fb9fc5b",
   "metadata": {},
   "source": [
    "### Importing dataset"
   ]
  },
  {
   "cell_type": "code",
   "execution_count": 155,
   "id": "f1655fe2",
   "metadata": {},
   "outputs": [
    {
     "data": {
      "text/html": [
       "<div>\n",
       "<style scoped>\n",
       "    .dataframe tbody tr th:only-of-type {\n",
       "        vertical-align: middle;\n",
       "    }\n",
       "\n",
       "    .dataframe tbody tr th {\n",
       "        vertical-align: top;\n",
       "    }\n",
       "\n",
       "    .dataframe thead th {\n",
       "        text-align: right;\n",
       "    }\n",
       "</style>\n",
       "<table border=\"1\" class=\"dataframe\">\n",
       "  <thead>\n",
       "    <tr style=\"text-align: right;\">\n",
       "      <th></th>\n",
       "      <th>player</th>\n",
       "      <th>cls</th>\n",
       "      <th>year</th>\n",
       "      <th>gp</th>\n",
       "      <th>mpg</th>\n",
       "      <th>ppg</th>\n",
       "      <th>fgm</th>\n",
       "      <th>fga</th>\n",
       "      <th>fg%</th>\n",
       "      <th>3pm</th>\n",
       "      <th>...</th>\n",
       "      <th>usg%</th>\n",
       "      <th>ppr</th>\n",
       "      <th>pps</th>\n",
       "      <th>ORtg</th>\n",
       "      <th>DRtg</th>\n",
       "      <th>eDiff</th>\n",
       "      <th>FIC</th>\n",
       "      <th>PER</th>\n",
       "      <th>draft_pos</th>\n",
       "      <th>drafted</th>\n",
       "    </tr>\n",
       "  </thead>\n",
       "  <tbody>\n",
       "    <tr>\n",
       "      <th>0</th>\n",
       "      <td>Kris Humphries</td>\n",
       "      <td>Fr</td>\n",
       "      <td>2004</td>\n",
       "      <td>29</td>\n",
       "      <td>34.1</td>\n",
       "      <td>21.7</td>\n",
       "      <td>7.6</td>\n",
       "      <td>17.2</td>\n",
       "      <td>0.444</td>\n",
       "      <td>0.6</td>\n",
       "      <td>...</td>\n",
       "      <td>34.6</td>\n",
       "      <td>-7.0</td>\n",
       "      <td>1.3</td>\n",
       "      <td>105.6</td>\n",
       "      <td>101.8</td>\n",
       "      <td>3.8</td>\n",
       "      <td>376.6</td>\n",
       "      <td>24.3</td>\n",
       "      <td>14.0</td>\n",
       "      <td>first round</td>\n",
       "    </tr>\n",
       "    <tr>\n",
       "      <th>1</th>\n",
       "      <td>Emeka Okafor</td>\n",
       "      <td>Jr</td>\n",
       "      <td>2004</td>\n",
       "      <td>36</td>\n",
       "      <td>32.4</td>\n",
       "      <td>17.6</td>\n",
       "      <td>7.3</td>\n",
       "      <td>12.1</td>\n",
       "      <td>0.599</td>\n",
       "      <td>0.0</td>\n",
       "      <td>...</td>\n",
       "      <td>25.2</td>\n",
       "      <td>-5.0</td>\n",
       "      <td>1.5</td>\n",
       "      <td>115.5</td>\n",
       "      <td>83.3</td>\n",
       "      <td>32.2</td>\n",
       "      <td>663.5</td>\n",
       "      <td>28.5</td>\n",
       "      <td>2.0</td>\n",
       "      <td>first round</td>\n",
       "    </tr>\n",
       "    <tr>\n",
       "      <th>2</th>\n",
       "      <td>Devin Harris</td>\n",
       "      <td>Jr</td>\n",
       "      <td>2004</td>\n",
       "      <td>32</td>\n",
       "      <td>36.2</td>\n",
       "      <td>19.5</td>\n",
       "      <td>5.9</td>\n",
       "      <td>12.8</td>\n",
       "      <td>0.462</td>\n",
       "      <td>2.3</td>\n",
       "      <td>...</td>\n",
       "      <td>27.8</td>\n",
       "      <td>2.6</td>\n",
       "      <td>1.5</td>\n",
       "      <td>126.3</td>\n",
       "      <td>92.0</td>\n",
       "      <td>34.4</td>\n",
       "      <td>448.5</td>\n",
       "      <td>27.1</td>\n",
       "      <td>5.0</td>\n",
       "      <td>first round</td>\n",
       "    </tr>\n",
       "    <tr>\n",
       "      <th>3</th>\n",
       "      <td>Delonte West</td>\n",
       "      <td>Jr</td>\n",
       "      <td>2004</td>\n",
       "      <td>32</td>\n",
       "      <td>33.5</td>\n",
       "      <td>18.9</td>\n",
       "      <td>6.6</td>\n",
       "      <td>13.0</td>\n",
       "      <td>0.510</td>\n",
       "      <td>1.8</td>\n",
       "      <td>...</td>\n",
       "      <td>27.1</td>\n",
       "      <td>1.8</td>\n",
       "      <td>1.5</td>\n",
       "      <td>124.4</td>\n",
       "      <td>91.6</td>\n",
       "      <td>32.8</td>\n",
       "      <td>479.4</td>\n",
       "      <td>26.4</td>\n",
       "      <td>24.0</td>\n",
       "      <td>first round</td>\n",
       "    </tr>\n",
       "    <tr>\n",
       "      <th>4</th>\n",
       "      <td>Ricky Minard</td>\n",
       "      <td>Sr</td>\n",
       "      <td>2004</td>\n",
       "      <td>29</td>\n",
       "      <td>34.3</td>\n",
       "      <td>21.8</td>\n",
       "      <td>7.2</td>\n",
       "      <td>16.1</td>\n",
       "      <td>0.451</td>\n",
       "      <td>1.6</td>\n",
       "      <td>...</td>\n",
       "      <td>34.1</td>\n",
       "      <td>-0.6</td>\n",
       "      <td>1.4</td>\n",
       "      <td>109.0</td>\n",
       "      <td>98.9</td>\n",
       "      <td>10.1</td>\n",
       "      <td>482.8</td>\n",
       "      <td>29.5</td>\n",
       "      <td>19.0</td>\n",
       "      <td>second round</td>\n",
       "    </tr>\n",
       "  </tbody>\n",
       "</table>\n",
       "<p>5 rows × 43 columns</p>\n",
       "</div>"
      ],
      "text/plain": [
       "           player cls  year  gp   mpg   ppg  fgm   fga    fg%  3pm  ...  usg%  \\\n",
       "0  Kris Humphries  Fr  2004  29  34.1  21.7  7.6  17.2  0.444  0.6  ...  34.6   \n",
       "1    Emeka Okafor  Jr  2004  36  32.4  17.6  7.3  12.1  0.599  0.0  ...  25.2   \n",
       "2    Devin Harris  Jr  2004  32  36.2  19.5  5.9  12.8  0.462  2.3  ...  27.8   \n",
       "3    Delonte West  Jr  2004  32  33.5  18.9  6.6  13.0  0.510  1.8  ...  27.1   \n",
       "4    Ricky Minard  Sr  2004  29  34.3  21.8  7.2  16.1  0.451  1.6  ...  34.1   \n",
       "\n",
       "   ppr  pps   ORtg   DRtg  eDiff    FIC   PER  draft_pos       drafted  \n",
       "0 -7.0  1.3  105.6  101.8    3.8  376.6  24.3       14.0   first round  \n",
       "1 -5.0  1.5  115.5   83.3   32.2  663.5  28.5        2.0   first round  \n",
       "2  2.6  1.5  126.3   92.0   34.4  448.5  27.1        5.0   first round  \n",
       "3  1.8  1.5  124.4   91.6   32.8  479.4  26.4       24.0   first round  \n",
       "4 -0.6  1.4  109.0   98.9   10.1  482.8  29.5       19.0  second round  \n",
       "\n",
       "[5 rows x 43 columns]"
      ]
     },
     "execution_count": 155,
     "metadata": {},
     "output_type": "execute_result"
    }
   ],
   "source": [
    "df=pd.read_excel('table.xlsx')\n",
    "df.head()"
   ]
  },
  {
   "cell_type": "markdown",
   "id": "76eff832",
   "metadata": {},
   "source": [
    "Filling null values in drafted column as undrafted"
   ]
  },
  {
   "cell_type": "code",
   "execution_count": 157,
   "id": "4980b1c4",
   "metadata": {},
   "outputs": [
    {
     "data": {
      "text/plain": [
       "True     5239\n",
       "False     297\n",
       "Name: drafted, dtype: int64"
      ]
     },
     "execution_count": 157,
     "metadata": {},
     "output_type": "execute_result"
    }
   ],
   "source": [
    "df['drafted'].isnull().value_counts()"
   ]
  },
  {
   "cell_type": "code",
   "execution_count": 158,
   "id": "2aec08ea",
   "metadata": {},
   "outputs": [],
   "source": [
    "df['drafted'].fillna('undrafted',inplace=True)"
   ]
  },
  {
   "cell_type": "code",
   "execution_count": 159,
   "id": "b6da4a70",
   "metadata": {},
   "outputs": [
    {
     "data": {
      "text/plain": [
       "False    5536\n",
       "Name: drafted, dtype: int64"
      ]
     },
     "execution_count": 159,
     "metadata": {},
     "output_type": "execute_result"
    }
   ],
   "source": [
    "df['drafted'].isnull().value_counts()"
   ]
  },
  {
   "cell_type": "code",
   "execution_count": 160,
   "id": "551adc2e",
   "metadata": {},
   "outputs": [
    {
     "data": {
      "text/html": [
       "<div>\n",
       "<style scoped>\n",
       "    .dataframe tbody tr th:only-of-type {\n",
       "        vertical-align: middle;\n",
       "    }\n",
       "\n",
       "    .dataframe tbody tr th {\n",
       "        vertical-align: top;\n",
       "    }\n",
       "\n",
       "    .dataframe thead th {\n",
       "        text-align: right;\n",
       "    }\n",
       "</style>\n",
       "<table border=\"1\" class=\"dataframe\">\n",
       "  <thead>\n",
       "    <tr style=\"text-align: right;\">\n",
       "      <th></th>\n",
       "      <th>player</th>\n",
       "      <th>cls</th>\n",
       "      <th>year</th>\n",
       "      <th>gp</th>\n",
       "      <th>mpg</th>\n",
       "      <th>ppg</th>\n",
       "      <th>fgm</th>\n",
       "      <th>fga</th>\n",
       "      <th>fg%</th>\n",
       "      <th>3pm</th>\n",
       "      <th>...</th>\n",
       "      <th>usg%</th>\n",
       "      <th>ppr</th>\n",
       "      <th>pps</th>\n",
       "      <th>ORtg</th>\n",
       "      <th>DRtg</th>\n",
       "      <th>eDiff</th>\n",
       "      <th>FIC</th>\n",
       "      <th>PER</th>\n",
       "      <th>draft_pos</th>\n",
       "      <th>drafted</th>\n",
       "    </tr>\n",
       "  </thead>\n",
       "  <tbody>\n",
       "    <tr>\n",
       "      <th>0</th>\n",
       "      <td>Kris Humphries</td>\n",
       "      <td>Fr</td>\n",
       "      <td>2004</td>\n",
       "      <td>29</td>\n",
       "      <td>34.1</td>\n",
       "      <td>21.7</td>\n",
       "      <td>7.6</td>\n",
       "      <td>17.2</td>\n",
       "      <td>0.444</td>\n",
       "      <td>0.6</td>\n",
       "      <td>...</td>\n",
       "      <td>34.6</td>\n",
       "      <td>-7.0</td>\n",
       "      <td>1.3</td>\n",
       "      <td>105.6</td>\n",
       "      <td>101.8</td>\n",
       "      <td>3.8</td>\n",
       "      <td>376.6</td>\n",
       "      <td>24.3</td>\n",
       "      <td>14.0</td>\n",
       "      <td>first round</td>\n",
       "    </tr>\n",
       "    <tr>\n",
       "      <th>1</th>\n",
       "      <td>Emeka Okafor</td>\n",
       "      <td>Jr</td>\n",
       "      <td>2004</td>\n",
       "      <td>36</td>\n",
       "      <td>32.4</td>\n",
       "      <td>17.6</td>\n",
       "      <td>7.3</td>\n",
       "      <td>12.1</td>\n",
       "      <td>0.599</td>\n",
       "      <td>0.0</td>\n",
       "      <td>...</td>\n",
       "      <td>25.2</td>\n",
       "      <td>-5.0</td>\n",
       "      <td>1.5</td>\n",
       "      <td>115.5</td>\n",
       "      <td>83.3</td>\n",
       "      <td>32.2</td>\n",
       "      <td>663.5</td>\n",
       "      <td>28.5</td>\n",
       "      <td>2.0</td>\n",
       "      <td>first round</td>\n",
       "    </tr>\n",
       "    <tr>\n",
       "      <th>2</th>\n",
       "      <td>Devin Harris</td>\n",
       "      <td>Jr</td>\n",
       "      <td>2004</td>\n",
       "      <td>32</td>\n",
       "      <td>36.2</td>\n",
       "      <td>19.5</td>\n",
       "      <td>5.9</td>\n",
       "      <td>12.8</td>\n",
       "      <td>0.462</td>\n",
       "      <td>2.3</td>\n",
       "      <td>...</td>\n",
       "      <td>27.8</td>\n",
       "      <td>2.6</td>\n",
       "      <td>1.5</td>\n",
       "      <td>126.3</td>\n",
       "      <td>92.0</td>\n",
       "      <td>34.4</td>\n",
       "      <td>448.5</td>\n",
       "      <td>27.1</td>\n",
       "      <td>5.0</td>\n",
       "      <td>first round</td>\n",
       "    </tr>\n",
       "    <tr>\n",
       "      <th>3</th>\n",
       "      <td>Delonte West</td>\n",
       "      <td>Jr</td>\n",
       "      <td>2004</td>\n",
       "      <td>32</td>\n",
       "      <td>33.5</td>\n",
       "      <td>18.9</td>\n",
       "      <td>6.6</td>\n",
       "      <td>13.0</td>\n",
       "      <td>0.510</td>\n",
       "      <td>1.8</td>\n",
       "      <td>...</td>\n",
       "      <td>27.1</td>\n",
       "      <td>1.8</td>\n",
       "      <td>1.5</td>\n",
       "      <td>124.4</td>\n",
       "      <td>91.6</td>\n",
       "      <td>32.8</td>\n",
       "      <td>479.4</td>\n",
       "      <td>26.4</td>\n",
       "      <td>24.0</td>\n",
       "      <td>first round</td>\n",
       "    </tr>\n",
       "    <tr>\n",
       "      <th>4</th>\n",
       "      <td>Ricky Minard</td>\n",
       "      <td>Sr</td>\n",
       "      <td>2004</td>\n",
       "      <td>29</td>\n",
       "      <td>34.3</td>\n",
       "      <td>21.8</td>\n",
       "      <td>7.2</td>\n",
       "      <td>16.1</td>\n",
       "      <td>0.451</td>\n",
       "      <td>1.6</td>\n",
       "      <td>...</td>\n",
       "      <td>34.1</td>\n",
       "      <td>-0.6</td>\n",
       "      <td>1.4</td>\n",
       "      <td>109.0</td>\n",
       "      <td>98.9</td>\n",
       "      <td>10.1</td>\n",
       "      <td>482.8</td>\n",
       "      <td>29.5</td>\n",
       "      <td>19.0</td>\n",
       "      <td>second round</td>\n",
       "    </tr>\n",
       "  </tbody>\n",
       "</table>\n",
       "<p>5 rows × 43 columns</p>\n",
       "</div>"
      ],
      "text/plain": [
       "           player cls  year  gp   mpg   ppg  fgm   fga    fg%  3pm  ...  usg%  \\\n",
       "0  Kris Humphries  Fr  2004  29  34.1  21.7  7.6  17.2  0.444  0.6  ...  34.6   \n",
       "1    Emeka Okafor  Jr  2004  36  32.4  17.6  7.3  12.1  0.599  0.0  ...  25.2   \n",
       "2    Devin Harris  Jr  2004  32  36.2  19.5  5.9  12.8  0.462  2.3  ...  27.8   \n",
       "3    Delonte West  Jr  2004  32  33.5  18.9  6.6  13.0  0.510  1.8  ...  27.1   \n",
       "4    Ricky Minard  Sr  2004  29  34.3  21.8  7.2  16.1  0.451  1.6  ...  34.1   \n",
       "\n",
       "   ppr  pps   ORtg   DRtg  eDiff    FIC   PER  draft_pos       drafted  \n",
       "0 -7.0  1.3  105.6  101.8    3.8  376.6  24.3       14.0   first round  \n",
       "1 -5.0  1.5  115.5   83.3   32.2  663.5  28.5        2.0   first round  \n",
       "2  2.6  1.5  126.3   92.0   34.4  448.5  27.1        5.0   first round  \n",
       "3  1.8  1.5  124.4   91.6   32.8  479.4  26.4       24.0   first round  \n",
       "4 -0.6  1.4  109.0   98.9   10.1  482.8  29.5       19.0  second round  \n",
       "\n",
       "[5 rows x 43 columns]"
      ]
     },
     "execution_count": 160,
     "metadata": {},
     "output_type": "execute_result"
    }
   ],
   "source": [
    "df.head()"
   ]
  },
  {
   "cell_type": "code",
   "execution_count": 161,
   "id": "e2cf7f11",
   "metadata": {},
   "outputs": [
    {
     "data": {
      "text/html": [
       "<div>\n",
       "<style scoped>\n",
       "    .dataframe tbody tr th:only-of-type {\n",
       "        vertical-align: middle;\n",
       "    }\n",
       "\n",
       "    .dataframe tbody tr th {\n",
       "        vertical-align: top;\n",
       "    }\n",
       "\n",
       "    .dataframe thead th {\n",
       "        text-align: right;\n",
       "    }\n",
       "</style>\n",
       "<table border=\"1\" class=\"dataframe\">\n",
       "  <thead>\n",
       "    <tr style=\"text-align: right;\">\n",
       "      <th></th>\n",
       "      <th>player</th>\n",
       "      <th>cls</th>\n",
       "      <th>gp</th>\n",
       "      <th>mpg</th>\n",
       "      <th>ppg</th>\n",
       "      <th>fgm</th>\n",
       "      <th>fga</th>\n",
       "      <th>fg%</th>\n",
       "      <th>3pm</th>\n",
       "      <th>3pa</th>\n",
       "      <th>...</th>\n",
       "      <th>blk%</th>\n",
       "      <th>usg%</th>\n",
       "      <th>ppr</th>\n",
       "      <th>pps</th>\n",
       "      <th>ORtg</th>\n",
       "      <th>DRtg</th>\n",
       "      <th>eDiff</th>\n",
       "      <th>FIC</th>\n",
       "      <th>PER</th>\n",
       "      <th>drafted</th>\n",
       "    </tr>\n",
       "  </thead>\n",
       "  <tbody>\n",
       "    <tr>\n",
       "      <th>0</th>\n",
       "      <td>Kris Humphries</td>\n",
       "      <td>Fr</td>\n",
       "      <td>29</td>\n",
       "      <td>34.1</td>\n",
       "      <td>21.7</td>\n",
       "      <td>7.6</td>\n",
       "      <td>17.2</td>\n",
       "      <td>0.444</td>\n",
       "      <td>0.6</td>\n",
       "      <td>1.7</td>\n",
       "      <td>...</td>\n",
       "      <td>3.6</td>\n",
       "      <td>34.6</td>\n",
       "      <td>-7.0</td>\n",
       "      <td>1.3</td>\n",
       "      <td>105.6</td>\n",
       "      <td>101.8</td>\n",
       "      <td>3.8</td>\n",
       "      <td>376.6</td>\n",
       "      <td>24.3</td>\n",
       "      <td>first round</td>\n",
       "    </tr>\n",
       "    <tr>\n",
       "      <th>1</th>\n",
       "      <td>Emeka Okafor</td>\n",
       "      <td>Jr</td>\n",
       "      <td>36</td>\n",
       "      <td>32.4</td>\n",
       "      <td>17.6</td>\n",
       "      <td>7.3</td>\n",
       "      <td>12.1</td>\n",
       "      <td>0.599</td>\n",
       "      <td>0.0</td>\n",
       "      <td>0.0</td>\n",
       "      <td>...</td>\n",
       "      <td>10.9</td>\n",
       "      <td>25.2</td>\n",
       "      <td>-5.0</td>\n",
       "      <td>1.5</td>\n",
       "      <td>115.5</td>\n",
       "      <td>83.3</td>\n",
       "      <td>32.2</td>\n",
       "      <td>663.5</td>\n",
       "      <td>28.5</td>\n",
       "      <td>first round</td>\n",
       "    </tr>\n",
       "    <tr>\n",
       "      <th>2</th>\n",
       "      <td>Devin Harris</td>\n",
       "      <td>Jr</td>\n",
       "      <td>32</td>\n",
       "      <td>36.2</td>\n",
       "      <td>19.5</td>\n",
       "      <td>5.9</td>\n",
       "      <td>12.8</td>\n",
       "      <td>0.462</td>\n",
       "      <td>2.3</td>\n",
       "      <td>6.3</td>\n",
       "      <td>...</td>\n",
       "      <td>0.4</td>\n",
       "      <td>27.8</td>\n",
       "      <td>2.6</td>\n",
       "      <td>1.5</td>\n",
       "      <td>126.3</td>\n",
       "      <td>92.0</td>\n",
       "      <td>34.4</td>\n",
       "      <td>448.5</td>\n",
       "      <td>27.1</td>\n",
       "      <td>first round</td>\n",
       "    </tr>\n",
       "    <tr>\n",
       "      <th>3</th>\n",
       "      <td>Delonte West</td>\n",
       "      <td>Jr</td>\n",
       "      <td>32</td>\n",
       "      <td>33.5</td>\n",
       "      <td>18.9</td>\n",
       "      <td>6.6</td>\n",
       "      <td>13.0</td>\n",
       "      <td>0.510</td>\n",
       "      <td>1.8</td>\n",
       "      <td>4.3</td>\n",
       "      <td>...</td>\n",
       "      <td>0.6</td>\n",
       "      <td>27.1</td>\n",
       "      <td>1.8</td>\n",
       "      <td>1.5</td>\n",
       "      <td>124.4</td>\n",
       "      <td>91.6</td>\n",
       "      <td>32.8</td>\n",
       "      <td>479.4</td>\n",
       "      <td>26.4</td>\n",
       "      <td>first round</td>\n",
       "    </tr>\n",
       "    <tr>\n",
       "      <th>4</th>\n",
       "      <td>Ricky Minard</td>\n",
       "      <td>Sr</td>\n",
       "      <td>29</td>\n",
       "      <td>34.3</td>\n",
       "      <td>21.8</td>\n",
       "      <td>7.2</td>\n",
       "      <td>16.1</td>\n",
       "      <td>0.451</td>\n",
       "      <td>1.6</td>\n",
       "      <td>4.8</td>\n",
       "      <td>...</td>\n",
       "      <td>1.8</td>\n",
       "      <td>34.1</td>\n",
       "      <td>-0.6</td>\n",
       "      <td>1.4</td>\n",
       "      <td>109.0</td>\n",
       "      <td>98.9</td>\n",
       "      <td>10.1</td>\n",
       "      <td>482.8</td>\n",
       "      <td>29.5</td>\n",
       "      <td>second round</td>\n",
       "    </tr>\n",
       "    <tr>\n",
       "      <th>...</th>\n",
       "      <td>...</td>\n",
       "      <td>...</td>\n",
       "      <td>...</td>\n",
       "      <td>...</td>\n",
       "      <td>...</td>\n",
       "      <td>...</td>\n",
       "      <td>...</td>\n",
       "      <td>...</td>\n",
       "      <td>...</td>\n",
       "      <td>...</td>\n",
       "      <td>...</td>\n",
       "      <td>...</td>\n",
       "      <td>...</td>\n",
       "      <td>...</td>\n",
       "      <td>...</td>\n",
       "      <td>...</td>\n",
       "      <td>...</td>\n",
       "      <td>...</td>\n",
       "      <td>...</td>\n",
       "      <td>...</td>\n",
       "      <td>...</td>\n",
       "    </tr>\n",
       "    <tr>\n",
       "      <th>5531</th>\n",
       "      <td>Tyler Hansbrough</td>\n",
       "      <td>Sr</td>\n",
       "      <td>34</td>\n",
       "      <td>30.3</td>\n",
       "      <td>20.7</td>\n",
       "      <td>6.6</td>\n",
       "      <td>12.8</td>\n",
       "      <td>0.514</td>\n",
       "      <td>0.3</td>\n",
       "      <td>0.7</td>\n",
       "      <td>...</td>\n",
       "      <td>1.1</td>\n",
       "      <td>27.5</td>\n",
       "      <td>-3.5</td>\n",
       "      <td>1.6</td>\n",
       "      <td>130.2</td>\n",
       "      <td>96.2</td>\n",
       "      <td>34.0</td>\n",
       "      <td>486.8</td>\n",
       "      <td>28.2</td>\n",
       "      <td>first round</td>\n",
       "    </tr>\n",
       "    <tr>\n",
       "      <th>5532</th>\n",
       "      <td>Will Barton</td>\n",
       "      <td>So</td>\n",
       "      <td>35</td>\n",
       "      <td>35.3</td>\n",
       "      <td>18.0</td>\n",
       "      <td>6.6</td>\n",
       "      <td>12.9</td>\n",
       "      <td>0.509</td>\n",
       "      <td>1.1</td>\n",
       "      <td>3.1</td>\n",
       "      <td>...</td>\n",
       "      <td>2.1</td>\n",
       "      <td>25.8</td>\n",
       "      <td>-0.6</td>\n",
       "      <td>1.4</td>\n",
       "      <td>119.1</td>\n",
       "      <td>90.9</td>\n",
       "      <td>28.2</td>\n",
       "      <td>516.6</td>\n",
       "      <td>25.5</td>\n",
       "      <td>second round</td>\n",
       "    </tr>\n",
       "    <tr>\n",
       "      <th>5533</th>\n",
       "      <td>Ray McCallum</td>\n",
       "      <td>Jr</td>\n",
       "      <td>33</td>\n",
       "      <td>36.6</td>\n",
       "      <td>18.7</td>\n",
       "      <td>6.5</td>\n",
       "      <td>13.2</td>\n",
       "      <td>0.491</td>\n",
       "      <td>1.3</td>\n",
       "      <td>3.9</td>\n",
       "      <td>...</td>\n",
       "      <td>1.8</td>\n",
       "      <td>24.4</td>\n",
       "      <td>2.3</td>\n",
       "      <td>1.4</td>\n",
       "      <td>121.5</td>\n",
       "      <td>100.5</td>\n",
       "      <td>21.0</td>\n",
       "      <td>479.1</td>\n",
       "      <td>24.3</td>\n",
       "      <td>second round</td>\n",
       "    </tr>\n",
       "    <tr>\n",
       "      <th>5534</th>\n",
       "      <td>Onyeka Okongwu</td>\n",
       "      <td>Fr</td>\n",
       "      <td>28</td>\n",
       "      <td>30.6</td>\n",
       "      <td>16.2</td>\n",
       "      <td>6.3</td>\n",
       "      <td>10.1</td>\n",
       "      <td>0.616</td>\n",
       "      <td>0.0</td>\n",
       "      <td>0.1</td>\n",
       "      <td>...</td>\n",
       "      <td>9.6</td>\n",
       "      <td>23.6</td>\n",
       "      <td>-4.2</td>\n",
       "      <td>1.6</td>\n",
       "      <td>123.1</td>\n",
       "      <td>89.0</td>\n",
       "      <td>34.2</td>\n",
       "      <td>438.4</td>\n",
       "      <td>31.2</td>\n",
       "      <td>first round</td>\n",
       "    </tr>\n",
       "    <tr>\n",
       "      <th>5535</th>\n",
       "      <td>Kennedy Chandler</td>\n",
       "      <td>Fr</td>\n",
       "      <td>34</td>\n",
       "      <td>30.8</td>\n",
       "      <td>13.9</td>\n",
       "      <td>5.4</td>\n",
       "      <td>11.5</td>\n",
       "      <td>0.464</td>\n",
       "      <td>1.4</td>\n",
       "      <td>3.8</td>\n",
       "      <td>...</td>\n",
       "      <td>0.9</td>\n",
       "      <td>25.0</td>\n",
       "      <td>2.1</td>\n",
       "      <td>1.2</td>\n",
       "      <td>108.1</td>\n",
       "      <td>90.8</td>\n",
       "      <td>17.3</td>\n",
       "      <td>353.6</td>\n",
       "      <td>20.8</td>\n",
       "      <td>second round</td>\n",
       "    </tr>\n",
       "  </tbody>\n",
       "</table>\n",
       "<p>5536 rows × 41 columns</p>\n",
       "</div>"
      ],
      "text/plain": [
       "                player cls  gp   mpg   ppg  fgm   fga    fg%  3pm  3pa  ...  \\\n",
       "0       Kris Humphries  Fr  29  34.1  21.7  7.6  17.2  0.444  0.6  1.7  ...   \n",
       "1         Emeka Okafor  Jr  36  32.4  17.6  7.3  12.1  0.599  0.0  0.0  ...   \n",
       "2         Devin Harris  Jr  32  36.2  19.5  5.9  12.8  0.462  2.3  6.3  ...   \n",
       "3         Delonte West  Jr  32  33.5  18.9  6.6  13.0  0.510  1.8  4.3  ...   \n",
       "4         Ricky Minard  Sr  29  34.3  21.8  7.2  16.1  0.451  1.6  4.8  ...   \n",
       "...                ...  ..  ..   ...   ...  ...   ...    ...  ...  ...  ...   \n",
       "5531  Tyler Hansbrough  Sr  34  30.3  20.7  6.6  12.8  0.514  0.3  0.7  ...   \n",
       "5532       Will Barton  So  35  35.3  18.0  6.6  12.9  0.509  1.1  3.1  ...   \n",
       "5533      Ray McCallum  Jr  33  36.6  18.7  6.5  13.2  0.491  1.3  3.9  ...   \n",
       "5534    Onyeka Okongwu  Fr  28  30.6  16.2  6.3  10.1  0.616  0.0  0.1  ...   \n",
       "5535  Kennedy Chandler  Fr  34  30.8  13.9  5.4  11.5  0.464  1.4  3.8  ...   \n",
       "\n",
       "      blk%  usg%  ppr  pps   ORtg   DRtg  eDiff    FIC   PER       drafted  \n",
       "0      3.6  34.6 -7.0  1.3  105.6  101.8    3.8  376.6  24.3   first round  \n",
       "1     10.9  25.2 -5.0  1.5  115.5   83.3   32.2  663.5  28.5   first round  \n",
       "2      0.4  27.8  2.6  1.5  126.3   92.0   34.4  448.5  27.1   first round  \n",
       "3      0.6  27.1  1.8  1.5  124.4   91.6   32.8  479.4  26.4   first round  \n",
       "4      1.8  34.1 -0.6  1.4  109.0   98.9   10.1  482.8  29.5  second round  \n",
       "...    ...   ...  ...  ...    ...    ...    ...    ...   ...           ...  \n",
       "5531   1.1  27.5 -3.5  1.6  130.2   96.2   34.0  486.8  28.2   first round  \n",
       "5532   2.1  25.8 -0.6  1.4  119.1   90.9   28.2  516.6  25.5  second round  \n",
       "5533   1.8  24.4  2.3  1.4  121.5  100.5   21.0  479.1  24.3  second round  \n",
       "5534   9.6  23.6 -4.2  1.6  123.1   89.0   34.2  438.4  31.2   first round  \n",
       "5535   0.9  25.0  2.1  1.2  108.1   90.8   17.3  353.6  20.8  second round  \n",
       "\n",
       "[5536 rows x 41 columns]"
      ]
     },
     "execution_count": 161,
     "metadata": {},
     "output_type": "execute_result"
    }
   ],
   "source": [
    "df.drop(['year','draft_pos'],axis='columns',inplace=True)\n",
    "df"
   ]
  },
  {
   "cell_type": "code",
   "execution_count": 162,
   "id": "c8ac5d93",
   "metadata": {},
   "outputs": [
    {
     "data": {
      "text/plain": [
       "<AxesSubplot:xlabel='drafted', ylabel='PER'>"
      ]
     },
     "execution_count": 162,
     "metadata": {},
     "output_type": "execute_result"
    },
    {
     "data": {
      "image/png": "[encoded data removed]",
      "text/plain": [
       "<Figure size 600x400 with 1 Axes>"
      ]
     },
     "metadata": {},
     "output_type": "display_data"
    }
   ],
   "source": [
    "plt.figure(figsize=(6,4))\n",
    "sns.boxplot(data=df,x='drafted',y='PER',order=['first round','second round','undrafted'])"
   ]
  },
  {
   "cell_type": "code",
   "execution_count": 163,
   "id": "0c6c03ec",
   "metadata": {},
   "outputs": [
    {
     "data": {
      "text/plain": [
       "<AxesSubplot:xlabel='cls'>"
      ]
     },
     "execution_count": 163,
     "metadata": {},
     "output_type": "execute_result"
    },
    {
     "data": {
      "image/png": "[encoded data removed]",
      "text/plain": [
       "<Figure size 640x480 with 1 Axes>"
      ]
     },
     "metadata": {},
     "output_type": "display_data"
    }
   ],
   "source": [
    "a=df[['cls','drafted']].groupby(by=['cls','drafted'])['cls'].count()\n",
    "a.unstack().reindex(['Fr','So','Jr','Sr']).plot(kind='bar',stacked=True)"
   ]
  },
  {
   "cell_type": "code",
   "execution_count": 164,
   "id": "2ae6cc73",
   "metadata": {},
   "outputs": [
    {
     "data": {
      "text/plain": [
       "Index(['player', 'cls', 'gp', 'mpg', 'ppg', 'fgm', 'fga', 'fg%', '3pm', '3pa',\n",
       "       '3p%', 'ftm', 'fta', 'ft%', 'orb', 'drb', 'rpg', 'apg', 'spg', 'bpg',\n",
       "       'tov', 'pf', 'TS%', 'eFG%', 'totalS%', 'orb%', 'drb%', 'trb%', 'ast%',\n",
       "       'tov%', 'stl%', 'blk%', 'usg%', 'ppr', 'pps', 'ORtg', 'DRtg', 'eDiff',\n",
       "       'FIC', 'PER', 'drafted'],\n",
       "      dtype='object')"
      ]
     },
     "execution_count": 164,
     "metadata": {},
     "output_type": "execute_result"
    }
   ],
   "source": [
    "df.columns"
   ]
  },
  {
   "cell_type": "code",
   "execution_count": 165,
   "id": "3fafc68a",
   "metadata": {},
   "outputs": [
    {
     "data": {
      "text/plain": [
       "<AxesSubplot:xlabel='drafted', ylabel='PER'>"
      ]
     },
     "execution_count": 165,
     "metadata": {},
     "output_type": "execute_result"
    },
    {
     "data": {
      "image/png": "[encoded data removed]",
      "text/plain": [
       "<Figure size 600x400 with 1 Axes>"
      ]
     },
     "metadata": {},
     "output_type": "display_data"
    }
   ],
   "source": [
    "plt.figure(figsize=(6,4))\n",
    "sns.boxplot(data=df,x='drafted',y='PER',order=['first round','second round','undrafted'])"
   ]
  },
  {
   "cell_type": "code",
   "execution_count": 166,
   "id": "e90c09a4",
   "metadata": {},
   "outputs": [
    {
     "data": {
      "text/plain": [
       "drafted\n",
       "first round     26.042439\n",
       "second round    25.614130\n",
       "undrafted       16.262932\n",
       "Name: PER, dtype: float64"
      ]
     },
     "execution_count": 166,
     "metadata": {},
     "output_type": "execute_result"
    }
   ],
   "source": [
    "df[['drafted','PER']].groupby('drafted')['PER'].mean()"
   ]
  },
  {
   "cell_type": "code",
   "execution_count": 167,
   "id": "1036b146",
   "metadata": {},
   "outputs": [
    {
     "data": {
      "text/plain": [
       "<AxesSubplot:xlabel='drafted', ylabel='FIC'>"
      ]
     },
     "execution_count": 167,
     "metadata": {},
     "output_type": "execute_result"
    },
    {
     "data": {
      "image/png": "[encoded data removed]",
      "text/plain": [
       "<Figure size 600x400 with 1 Axes>"
      ]
     },
     "metadata": {},
     "output_type": "display_data"
    }
   ],
   "source": [
    "plt.figure(figsize=(6,4))\n",
    "sns.boxplot(data=df,x='drafted',y='FIC',order=['first round','second round','undrafted'])"
   ]
  },
  {
   "cell_type": "code",
   "execution_count": 168,
   "id": "e7023782",
   "metadata": {},
   "outputs": [
    {
     "data": {
      "text/plain": [
       "drafted\n",
       "first round     454.943415\n",
       "second round    444.283696\n",
       "undrafted       219.256308\n",
       "Name: FIC, dtype: float64"
      ]
     },
     "execution_count": 168,
     "metadata": {},
     "output_type": "execute_result"
    }
   ],
   "source": [
    "df[['drafted','FIC']].groupby('drafted')['FIC'].mean()"
   ]
  },
  {
   "cell_type": "markdown",
   "id": "8557636e",
   "metadata": {},
   "source": [
    "### Model"
   ]
  },
  {
   "cell_type": "code",
   "execution_count": 169,
   "id": "1de62c3f",
   "metadata": {},
   "outputs": [],
   "source": [
    "# Modelling\n",
    "from sklearn.ensemble import RandomForestClassifier\n",
    "from sklearn.metrics import accuracy_score, confusion_matrix, precision_score, recall_score, ConfusionMatrixDisplay\n",
    "from sklearn.model_selection import RandomizedSearchCV, train_test_split\n",
    "from scipy.stats import randint\n",
    "\n",
    "# Tree Visualisation\n",
    "from sklearn.tree import export_graphviz\n",
    "from IPython.display import Image\n",
    "import graphviz"
   ]
  },
  {
   "cell_type": "markdown",
   "id": "3b0d1dc2",
   "metadata": {},
   "source": [
    "making class a dummy variable"
   ]
  },
  {
   "cell_type": "code",
   "execution_count": 170,
   "id": "3869abe9",
   "metadata": {},
   "outputs": [
    {
     "data": {
      "text/html": [
       "<div>\n",
       "<style scoped>\n",
       "    .dataframe tbody tr th:only-of-type {\n",
       "        vertical-align: middle;\n",
       "    }\n",
       "\n",
       "    .dataframe tbody tr th {\n",
       "        vertical-align: top;\n",
       "    }\n",
       "\n",
       "    .dataframe thead th {\n",
       "        text-align: right;\n",
       "    }\n",
       "</style>\n",
       "<table border=\"1\" class=\"dataframe\">\n",
       "  <thead>\n",
       "    <tr style=\"text-align: right;\">\n",
       "      <th></th>\n",
       "      <th>player</th>\n",
       "      <th>gp</th>\n",
       "      <th>mpg</th>\n",
       "      <th>ppg</th>\n",
       "      <th>fgm</th>\n",
       "      <th>fga</th>\n",
       "      <th>fg%</th>\n",
       "      <th>3pm</th>\n",
       "      <th>3pa</th>\n",
       "      <th>3p%</th>\n",
       "      <th>...</th>\n",
       "      <th>ORtg</th>\n",
       "      <th>DRtg</th>\n",
       "      <th>eDiff</th>\n",
       "      <th>FIC</th>\n",
       "      <th>PER</th>\n",
       "      <th>drafted</th>\n",
       "      <th>cls_Fr</th>\n",
       "      <th>cls_Jr</th>\n",
       "      <th>cls_So</th>\n",
       "      <th>cls_Sr</th>\n",
       "    </tr>\n",
       "  </thead>\n",
       "  <tbody>\n",
       "    <tr>\n",
       "      <th>0</th>\n",
       "      <td>Kris Humphries</td>\n",
       "      <td>29</td>\n",
       "      <td>34.1</td>\n",
       "      <td>21.7</td>\n",
       "      <td>7.6</td>\n",
       "      <td>17.2</td>\n",
       "      <td>0.444</td>\n",
       "      <td>0.6</td>\n",
       "      <td>1.7</td>\n",
       "      <td>0.340</td>\n",
       "      <td>...</td>\n",
       "      <td>105.6</td>\n",
       "      <td>101.8</td>\n",
       "      <td>3.8</td>\n",
       "      <td>376.6</td>\n",
       "      <td>24.3</td>\n",
       "      <td>first round</td>\n",
       "      <td>1</td>\n",
       "      <td>0</td>\n",
       "      <td>0</td>\n",
       "      <td>0</td>\n",
       "    </tr>\n",
       "    <tr>\n",
       "      <th>1</th>\n",
       "      <td>Emeka Okafor</td>\n",
       "      <td>36</td>\n",
       "      <td>32.4</td>\n",
       "      <td>17.6</td>\n",
       "      <td>7.3</td>\n",
       "      <td>12.1</td>\n",
       "      <td>0.599</td>\n",
       "      <td>0.0</td>\n",
       "      <td>0.0</td>\n",
       "      <td>0.000</td>\n",
       "      <td>...</td>\n",
       "      <td>115.5</td>\n",
       "      <td>83.3</td>\n",
       "      <td>32.2</td>\n",
       "      <td>663.5</td>\n",
       "      <td>28.5</td>\n",
       "      <td>first round</td>\n",
       "      <td>0</td>\n",
       "      <td>1</td>\n",
       "      <td>0</td>\n",
       "      <td>0</td>\n",
       "    </tr>\n",
       "    <tr>\n",
       "      <th>2</th>\n",
       "      <td>Devin Harris</td>\n",
       "      <td>32</td>\n",
       "      <td>36.2</td>\n",
       "      <td>19.5</td>\n",
       "      <td>5.9</td>\n",
       "      <td>12.8</td>\n",
       "      <td>0.462</td>\n",
       "      <td>2.3</td>\n",
       "      <td>6.3</td>\n",
       "      <td>0.373</td>\n",
       "      <td>...</td>\n",
       "      <td>126.3</td>\n",
       "      <td>92.0</td>\n",
       "      <td>34.4</td>\n",
       "      <td>448.5</td>\n",
       "      <td>27.1</td>\n",
       "      <td>first round</td>\n",
       "      <td>0</td>\n",
       "      <td>1</td>\n",
       "      <td>0</td>\n",
       "      <td>0</td>\n",
       "    </tr>\n",
       "    <tr>\n",
       "      <th>3</th>\n",
       "      <td>Delonte West</td>\n",
       "      <td>32</td>\n",
       "      <td>33.5</td>\n",
       "      <td>18.9</td>\n",
       "      <td>6.6</td>\n",
       "      <td>13.0</td>\n",
       "      <td>0.510</td>\n",
       "      <td>1.8</td>\n",
       "      <td>4.3</td>\n",
       "      <td>0.412</td>\n",
       "      <td>...</td>\n",
       "      <td>124.4</td>\n",
       "      <td>91.6</td>\n",
       "      <td>32.8</td>\n",
       "      <td>479.4</td>\n",
       "      <td>26.4</td>\n",
       "      <td>first round</td>\n",
       "      <td>0</td>\n",
       "      <td>1</td>\n",
       "      <td>0</td>\n",
       "      <td>0</td>\n",
       "    </tr>\n",
       "    <tr>\n",
       "      <th>4</th>\n",
       "      <td>Ricky Minard</td>\n",
       "      <td>29</td>\n",
       "      <td>34.3</td>\n",
       "      <td>21.8</td>\n",
       "      <td>7.2</td>\n",
       "      <td>16.1</td>\n",
       "      <td>0.451</td>\n",
       "      <td>1.6</td>\n",
       "      <td>4.8</td>\n",
       "      <td>0.326</td>\n",
       "      <td>...</td>\n",
       "      <td>109.0</td>\n",
       "      <td>98.9</td>\n",
       "      <td>10.1</td>\n",
       "      <td>482.8</td>\n",
       "      <td>29.5</td>\n",
       "      <td>second round</td>\n",
       "      <td>0</td>\n",
       "      <td>0</td>\n",
       "      <td>0</td>\n",
       "      <td>1</td>\n",
       "    </tr>\n",
       "    <tr>\n",
       "      <th>...</th>\n",
       "      <td>...</td>\n",
       "      <td>...</td>\n",
       "      <td>...</td>\n",
       "      <td>...</td>\n",
       "      <td>...</td>\n",
       "      <td>...</td>\n",
       "      <td>...</td>\n",
       "      <td>...</td>\n",
       "      <td>...</td>\n",
       "      <td>...</td>\n",
       "      <td>...</td>\n",
       "      <td>...</td>\n",
       "      <td>...</td>\n",
       "      <td>...</td>\n",
       "      <td>...</td>\n",
       "      <td>...</td>\n",
       "      <td>...</td>\n",
       "      <td>...</td>\n",
       "      <td>...</td>\n",
       "      <td>...</td>\n",
       "      <td>...</td>\n",
       "    </tr>\n",
       "    <tr>\n",
       "      <th>5531</th>\n",
       "      <td>Tyler Hansbrough</td>\n",
       "      <td>34</td>\n",
       "      <td>30.3</td>\n",
       "      <td>20.7</td>\n",
       "      <td>6.6</td>\n",
       "      <td>12.8</td>\n",
       "      <td>0.514</td>\n",
       "      <td>0.3</td>\n",
       "      <td>0.7</td>\n",
       "      <td>0.391</td>\n",
       "      <td>...</td>\n",
       "      <td>130.2</td>\n",
       "      <td>96.2</td>\n",
       "      <td>34.0</td>\n",
       "      <td>486.8</td>\n",
       "      <td>28.2</td>\n",
       "      <td>first round</td>\n",
       "      <td>0</td>\n",
       "      <td>0</td>\n",
       "      <td>0</td>\n",
       "      <td>1</td>\n",
       "    </tr>\n",
       "    <tr>\n",
       "      <th>5532</th>\n",
       "      <td>Will Barton</td>\n",
       "      <td>35</td>\n",
       "      <td>35.3</td>\n",
       "      <td>18.0</td>\n",
       "      <td>6.6</td>\n",
       "      <td>12.9</td>\n",
       "      <td>0.509</td>\n",
       "      <td>1.1</td>\n",
       "      <td>3.1</td>\n",
       "      <td>0.346</td>\n",
       "      <td>...</td>\n",
       "      <td>119.1</td>\n",
       "      <td>90.9</td>\n",
       "      <td>28.2</td>\n",
       "      <td>516.6</td>\n",
       "      <td>25.5</td>\n",
       "      <td>second round</td>\n",
       "      <td>0</td>\n",
       "      <td>0</td>\n",
       "      <td>1</td>\n",
       "      <td>0</td>\n",
       "    </tr>\n",
       "    <tr>\n",
       "      <th>5533</th>\n",
       "      <td>Ray McCallum</td>\n",
       "      <td>33</td>\n",
       "      <td>36.6</td>\n",
       "      <td>18.7</td>\n",
       "      <td>6.5</td>\n",
       "      <td>13.2</td>\n",
       "      <td>0.491</td>\n",
       "      <td>1.3</td>\n",
       "      <td>3.9</td>\n",
       "      <td>0.323</td>\n",
       "      <td>...</td>\n",
       "      <td>121.5</td>\n",
       "      <td>100.5</td>\n",
       "      <td>21.0</td>\n",
       "      <td>479.1</td>\n",
       "      <td>24.3</td>\n",
       "      <td>second round</td>\n",
       "      <td>0</td>\n",
       "      <td>1</td>\n",
       "      <td>0</td>\n",
       "      <td>0</td>\n",
       "    </tr>\n",
       "    <tr>\n",
       "      <th>5534</th>\n",
       "      <td>Onyeka Okongwu</td>\n",
       "      <td>28</td>\n",
       "      <td>30.6</td>\n",
       "      <td>16.2</td>\n",
       "      <td>6.3</td>\n",
       "      <td>10.1</td>\n",
       "      <td>0.616</td>\n",
       "      <td>0.0</td>\n",
       "      <td>0.1</td>\n",
       "      <td>0.250</td>\n",
       "      <td>...</td>\n",
       "      <td>123.1</td>\n",
       "      <td>89.0</td>\n",
       "      <td>34.2</td>\n",
       "      <td>438.4</td>\n",
       "      <td>31.2</td>\n",
       "      <td>first round</td>\n",
       "      <td>1</td>\n",
       "      <td>0</td>\n",
       "      <td>0</td>\n",
       "      <td>0</td>\n",
       "    </tr>\n",
       "    <tr>\n",
       "      <th>5535</th>\n",
       "      <td>Kennedy Chandler</td>\n",
       "      <td>34</td>\n",
       "      <td>30.8</td>\n",
       "      <td>13.9</td>\n",
       "      <td>5.4</td>\n",
       "      <td>11.5</td>\n",
       "      <td>0.464</td>\n",
       "      <td>1.4</td>\n",
       "      <td>3.8</td>\n",
       "      <td>0.383</td>\n",
       "      <td>...</td>\n",
       "      <td>108.1</td>\n",
       "      <td>90.8</td>\n",
       "      <td>17.3</td>\n",
       "      <td>353.6</td>\n",
       "      <td>20.8</td>\n",
       "      <td>second round</td>\n",
       "      <td>1</td>\n",
       "      <td>0</td>\n",
       "      <td>0</td>\n",
       "      <td>0</td>\n",
       "    </tr>\n",
       "  </tbody>\n",
       "</table>\n",
       "<p>5536 rows × 44 columns</p>\n",
       "</div>"
      ],
      "text/plain": [
       "                player  gp   mpg   ppg  fgm   fga    fg%  3pm  3pa    3p%  \\\n",
       "0       Kris Humphries  29  34.1  21.7  7.6  17.2  0.444  0.6  1.7  0.340   \n",
       "1         Emeka Okafor  36  32.4  17.6  7.3  12.1  0.599  0.0  0.0  0.000   \n",
       "2         Devin Harris  32  36.2  19.5  5.9  12.8  0.462  2.3  6.3  0.373   \n",
       "3         Delonte West  32  33.5  18.9  6.6  13.0  0.510  1.8  4.3  0.412   \n",
       "4         Ricky Minard  29  34.3  21.8  7.2  16.1  0.451  1.6  4.8  0.326   \n",
       "...                ...  ..   ...   ...  ...   ...    ...  ...  ...    ...   \n",
       "5531  Tyler Hansbrough  34  30.3  20.7  6.6  12.8  0.514  0.3  0.7  0.391   \n",
       "5532       Will Barton  35  35.3  18.0  6.6  12.9  0.509  1.1  3.1  0.346   \n",
       "5533      Ray McCallum  33  36.6  18.7  6.5  13.2  0.491  1.3  3.9  0.323   \n",
       "5534    Onyeka Okongwu  28  30.6  16.2  6.3  10.1  0.616  0.0  0.1  0.250   \n",
       "5535  Kennedy Chandler  34  30.8  13.9  5.4  11.5  0.464  1.4  3.8  0.383   \n",
       "\n",
       "      ...   ORtg   DRtg  eDiff    FIC   PER       drafted  cls_Fr  cls_Jr  \\\n",
       "0     ...  105.6  101.8    3.8  376.6  24.3   first round       1       0   \n",
       "1     ...  115.5   83.3   32.2  663.5  28.5   first round       0       1   \n",
       "2     ...  126.3   92.0   34.4  448.5  27.1   first round       0       1   \n",
       "3     ...  124.4   91.6   32.8  479.4  26.4   first round       0       1   \n",
       "4     ...  109.0   98.9   10.1  482.8  29.5  second round       0       0   \n",
       "...   ...    ...    ...    ...    ...   ...           ...     ...     ...   \n",
       "5531  ...  130.2   96.2   34.0  486.8  28.2   first round       0       0   \n",
       "5532  ...  119.1   90.9   28.2  516.6  25.5  second round       0       0   \n",
       "5533  ...  121.5  100.5   21.0  479.1  24.3  second round       0       1   \n",
       "5534  ...  123.1   89.0   34.2  438.4  31.2   first round       1       0   \n",
       "5535  ...  108.1   90.8   17.3  353.6  20.8  second round       1       0   \n",
       "\n",
       "      cls_So  cls_Sr  \n",
       "0          0       0  \n",
       "1          0       0  \n",
       "2          0       0  \n",
       "3          0       0  \n",
       "4          0       1  \n",
       "...      ...     ...  \n",
       "5531       0       1  \n",
       "5532       1       0  \n",
       "5533       0       0  \n",
       "5534       0       0  \n",
       "5535       0       0  \n",
       "\n",
       "[5536 rows x 44 columns]"
      ]
     },
     "execution_count": 170,
     "metadata": {},
     "output_type": "execute_result"
    }
   ],
   "source": [
    "df=pd.get_dummies(df,columns=['cls'])\n",
    "df"
   ]
  },
  {
   "cell_type": "code",
   "execution_count": 171,
   "id": "1b6a79ab",
   "metadata": {},
   "outputs": [],
   "source": [
    "def f(x):\n",
    "    if x=='undrafted':\n",
    "        return 0\n",
    "    else:  return 1\n",
    "\n",
    "df['drafted']=df['drafted'].apply(lambda x: f(x))"
   ]
  },
  {
   "cell_type": "markdown",
   "id": "68c25ffe",
   "metadata": {},
   "source": [
    "dropping player names"
   ]
  },
  {
   "cell_type": "code",
   "execution_count": 172,
   "id": "4a415e1b",
   "metadata": {},
   "outputs": [],
   "source": [
    "df.drop('player',axis='columns',inplace=True)"
   ]
  },
  {
   "cell_type": "markdown",
   "id": "24f9d088",
   "metadata": {},
   "source": [
    "defining x and y matrices"
   ]
  },
  {
   "cell_type": "code",
   "execution_count": 173,
   "id": "0b862fc7",
   "metadata": {},
   "outputs": [],
   "source": [
    "X=df.drop('drafted',axis='columns')\n",
    "y=df['drafted']"
   ]
  },
  {
   "cell_type": "code",
   "execution_count": 174,
   "id": "29c725e2",
   "metadata": {},
   "outputs": [],
   "source": [
    "from sklearn.model_selection import train_test_split\n",
    "from sklearn.preprocessing import LabelEncoder\n",
    "from sklearn.metrics import roc_curve, auc, f1_score\n",
    "import tensorflow as tf\n",
    "from tensorflow.keras import Sequential\n",
    "from tensorflow.keras.layers import Dense"
   ]
  },
  {
   "cell_type": "code",
   "execution_count": 175,
   "id": "6af4a6e9",
   "metadata": {},
   "outputs": [],
   "source": [
    "label_encoder = LabelEncoder()\n",
    "y_encoded = label_encoder.fit_transform(y)"
   ]
  },
  {
   "cell_type": "code",
   "execution_count": 176,
   "id": "8785132f",
   "metadata": {},
   "outputs": [
    {
     "data": {
      "text/plain": [
       "array([1, 1, 1, ..., 1, 1, 1], dtype=int64)"
      ]
     },
     "execution_count": 176,
     "metadata": {},
     "output_type": "execute_result"
    }
   ],
   "source": [
    "y_encoded"
   ]
  },
  {
   "cell_type": "code",
   "execution_count": 177,
   "id": "9e0974ca",
   "metadata": {},
   "outputs": [
    {
     "data": {
      "text/plain": [
       "0    5239\n",
       "1     297\n",
       "dtype: int64"
      ]
     },
     "execution_count": 177,
     "metadata": {},
     "output_type": "execute_result"
    }
   ],
   "source": [
    "pd.DataFrame(y_encoded).value_counts()"
   ]
  },
  {
   "cell_type": "code",
   "execution_count": 178,
   "id": "eef3efe7",
   "metadata": {},
   "outputs": [],
   "source": [
    "x_tr,x_tt,y_tr,y_tt=train_test_split(X,y,test_size=0.2,stratify=y)"
   ]
  },
  {
   "cell_type": "code",
   "execution_count": 179,
   "id": "b3459329",
   "metadata": {},
   "outputs": [],
   "source": [
    "model = Sequential([\n",
    "    Dense(512, activation='relu', input_shape=(x_tr.shape[1],)),\n",
    "    Dense(256, activation='relu'),\n",
    "    Dense(128, activation='relu'),\n",
    "    Dense(64, activation='relu'),\n",
    "    Dense(32, activation='relu'),\n",
    "    Dense(2, activation='softmax')\n",
    "])"
   ]
  },
  {
   "cell_type": "code",
   "execution_count": 180,
   "id": "c354504c",
   "metadata": {},
   "outputs": [],
   "source": [
    "model.compile(optimizer='adam',\n",
    "              loss='sparse_categorical_crossentropy',\n",
    "              metrics=['accuracy'])"
   ]
  },
  {
   "cell_type": "code",
   "execution_count": 181,
   "id": "fabc9e93",
   "metadata": {
    "scrolled": true
   },
   "outputs": [
    {
     "name": "stdout",
     "output_type": "stream",
     "text": [
      "Epoch 1/200\n",
      "97/97 [==============================] - 3s 15ms/step - loss: 0.5036 - accuracy: 0.9271 - val_loss: 0.2255 - val_accuracy: 0.9398\n",
      "Epoch 2/200\n",
      "97/97 [==============================] - 1s 10ms/step - loss: 0.2480 - accuracy: 0.9361 - val_loss: 0.1555 - val_accuracy: 0.9406\n",
      "Epoch 3/200\n",
      "97/97 [==============================] - 1s 9ms/step - loss: 0.1791 - accuracy: 0.9422 - val_loss: 0.1447 - val_accuracy: 0.9398\n",
      "Epoch 4/200\n",
      "97/97 [==============================] - 1s 9ms/step - loss: 0.1722 - accuracy: 0.9397 - val_loss: 0.1410 - val_accuracy: 0.9398\n",
      "Epoch 5/200\n",
      "97/97 [==============================] - 1s 9ms/step - loss: 0.1591 - accuracy: 0.9426 - val_loss: 0.1671 - val_accuracy: 0.9398\n",
      "Epoch 6/200\n",
      "97/97 [==============================] - 1s 9ms/step - loss: 0.1413 - accuracy: 0.9471 - val_loss: 0.1379 - val_accuracy: 0.9466\n",
      "Epoch 7/200\n",
      "97/97 [==============================] - 1s 9ms/step - loss: 0.1379 - accuracy: 0.9484 - val_loss: 0.1503 - val_accuracy: 0.9458\n",
      "Epoch 8/200\n",
      "97/97 [==============================] - 1s 9ms/step - loss: 0.1424 - accuracy: 0.9468 - val_loss: 0.1747 - val_accuracy: 0.9398\n",
      "Epoch 9/200\n",
      "97/97 [==============================] - 1s 9ms/step - loss: 0.1397 - accuracy: 0.9458 - val_loss: 0.1405 - val_accuracy: 0.9398\n",
      "Epoch 10/200\n",
      "97/97 [==============================] - 1s 10ms/step - loss: 0.1325 - accuracy: 0.9484 - val_loss: 0.1522 - val_accuracy: 0.9398\n",
      "Epoch 11/200\n",
      "97/97 [==============================] - 1s 10ms/step - loss: 0.1319 - accuracy: 0.9493 - val_loss: 0.1366 - val_accuracy: 0.9503\n",
      "Epoch 12/200\n",
      "97/97 [==============================] - 1s 10ms/step - loss: 0.1366 - accuracy: 0.9477 - val_loss: 0.1313 - val_accuracy: 0.9451\n",
      "Epoch 13/200\n",
      "97/97 [==============================] - 1s 10ms/step - loss: 0.1278 - accuracy: 0.9500 - val_loss: 0.1447 - val_accuracy: 0.9398\n",
      "Epoch 14/200\n",
      "97/97 [==============================] - 1s 9ms/step - loss: 0.1308 - accuracy: 0.9506 - val_loss: 0.1323 - val_accuracy: 0.9421\n",
      "Epoch 15/200\n",
      "97/97 [==============================] - 1s 9ms/step - loss: 0.1313 - accuracy: 0.9480 - val_loss: 0.1396 - val_accuracy: 0.9406\n",
      "Epoch 16/200\n",
      "97/97 [==============================] - 1s 10ms/step - loss: 0.1311 - accuracy: 0.9503 - val_loss: 0.1447 - val_accuracy: 0.9406\n",
      "Epoch 17/200\n",
      "97/97 [==============================] - 1s 9ms/step - loss: 0.1356 - accuracy: 0.9461 - val_loss: 0.1323 - val_accuracy: 0.9413\n",
      "Epoch 18/200\n",
      "97/97 [==============================] - 1s 9ms/step - loss: 0.1264 - accuracy: 0.9490 - val_loss: 0.1384 - val_accuracy: 0.9398\n",
      "Epoch 19/200\n",
      "97/97 [==============================] - 1s 9ms/step - loss: 0.1282 - accuracy: 0.9474 - val_loss: 0.1362 - val_accuracy: 0.9398\n",
      "Epoch 20/200\n",
      "97/97 [==============================] - 1s 9ms/step - loss: 0.1279 - accuracy: 0.9484 - val_loss: 0.1307 - val_accuracy: 0.9436\n",
      "Epoch 21/200\n",
      "97/97 [==============================] - 1s 9ms/step - loss: 0.1234 - accuracy: 0.9484 - val_loss: 0.1295 - val_accuracy: 0.9496\n",
      "Epoch 22/200\n",
      "97/97 [==============================] - 1s 9ms/step - loss: 0.1287 - accuracy: 0.9500 - val_loss: 0.1390 - val_accuracy: 0.9383\n",
      "Epoch 23/200\n",
      "97/97 [==============================] - 1s 9ms/step - loss: 0.1327 - accuracy: 0.9500 - val_loss: 0.1424 - val_accuracy: 0.9428\n",
      "Epoch 24/200\n",
      "97/97 [==============================] - 1s 9ms/step - loss: 0.1241 - accuracy: 0.9506 - val_loss: 0.1311 - val_accuracy: 0.9428\n",
      "Epoch 25/200\n",
      "97/97 [==============================] - 1s 9ms/step - loss: 0.1254 - accuracy: 0.9519 - val_loss: 0.1386 - val_accuracy: 0.9398\n",
      "Epoch 26/200\n",
      "97/97 [==============================] - 1s 10ms/step - loss: 0.1224 - accuracy: 0.9506 - val_loss: 0.1739 - val_accuracy: 0.9398\n",
      "Epoch 27/200\n",
      "97/97 [==============================] - 1s 9ms/step - loss: 0.1224 - accuracy: 0.9510 - val_loss: 0.1345 - val_accuracy: 0.9406\n",
      "Epoch 28/200\n",
      "97/97 [==============================] - 1s 9ms/step - loss: 0.1250 - accuracy: 0.9510 - val_loss: 0.1703 - val_accuracy: 0.9398\n",
      "Epoch 29/200\n",
      "97/97 [==============================] - 1s 9ms/step - loss: 0.1251 - accuracy: 0.9506 - val_loss: 0.1385 - val_accuracy: 0.9518\n",
      "Epoch 30/200\n",
      "97/97 [==============================] - 1s 9ms/step - loss: 0.1187 - accuracy: 0.9500 - val_loss: 0.1367 - val_accuracy: 0.9406\n",
      "Epoch 31/200\n",
      "97/97 [==============================] - 1s 9ms/step - loss: 0.1212 - accuracy: 0.9500 - val_loss: 0.1457 - val_accuracy: 0.9533\n",
      "Epoch 32/200\n",
      "97/97 [==============================] - 1s 9ms/step - loss: 0.1233 - accuracy: 0.9510 - val_loss: 0.1299 - val_accuracy: 0.9398\n",
      "Epoch 33/200\n",
      "97/97 [==============================] - 1s 9ms/step - loss: 0.1198 - accuracy: 0.9522 - val_loss: 0.1455 - val_accuracy: 0.9406\n",
      "Epoch 34/200\n",
      "97/97 [==============================] - 1s 9ms/step - loss: 0.1218 - accuracy: 0.9474 - val_loss: 0.1412 - val_accuracy: 0.9398\n",
      "Epoch 35/200\n",
      "97/97 [==============================] - 1s 9ms/step - loss: 0.1200 - accuracy: 0.9516 - val_loss: 0.1393 - val_accuracy: 0.9398\n",
      "Epoch 36/200\n",
      "97/97 [==============================] - 1s 10ms/step - loss: 0.1216 - accuracy: 0.9490 - val_loss: 0.1552 - val_accuracy: 0.9391\n",
      "Epoch 37/200\n",
      "97/97 [==============================] - 1s 10ms/step - loss: 0.1238 - accuracy: 0.9516 - val_loss: 0.1289 - val_accuracy: 0.9488\n",
      "Epoch 38/200\n",
      "97/97 [==============================] - 1s 12ms/step - loss: 0.1176 - accuracy: 0.9503 - val_loss: 0.1340 - val_accuracy: 0.9421\n",
      "Epoch 39/200\n",
      "97/97 [==============================] - 1s 10ms/step - loss: 0.1216 - accuracy: 0.9490 - val_loss: 0.1358 - val_accuracy: 0.9398\n",
      "Epoch 40/200\n",
      "97/97 [==============================] - 1s 11ms/step - loss: 0.1231 - accuracy: 0.9513 - val_loss: 0.1452 - val_accuracy: 0.9398\n",
      "Epoch 41/200\n",
      "97/97 [==============================] - 1s 13ms/step - loss: 0.1175 - accuracy: 0.9506 - val_loss: 0.1296 - val_accuracy: 0.9541\n",
      "Epoch 42/200\n",
      "97/97 [==============================] - 1s 13ms/step - loss: 0.1198 - accuracy: 0.9526 - val_loss: 0.1352 - val_accuracy: 0.9413\n",
      "Epoch 43/200\n",
      "97/97 [==============================] - 1s 11ms/step - loss: 0.1160 - accuracy: 0.9519 - val_loss: 0.1326 - val_accuracy: 0.9391\n",
      "Epoch 44/200\n",
      "97/97 [==============================] - 1s 9ms/step - loss: 0.1203 - accuracy: 0.9503 - val_loss: 0.1316 - val_accuracy: 0.9413\n",
      "Epoch 45/200\n",
      "97/97 [==============================] - 1s 9ms/step - loss: 0.1181 - accuracy: 0.9532 - val_loss: 0.1293 - val_accuracy: 0.9541\n",
      "Epoch 46/200\n",
      "97/97 [==============================] - 1s 9ms/step - loss: 0.1212 - accuracy: 0.9519 - val_loss: 0.1283 - val_accuracy: 0.9413\n",
      "Epoch 47/200\n",
      "97/97 [==============================] - 1s 9ms/step - loss: 0.1130 - accuracy: 0.9545 - val_loss: 0.1296 - val_accuracy: 0.9413\n",
      "Epoch 48/200\n",
      "97/97 [==============================] - 1s 9ms/step - loss: 0.1240 - accuracy: 0.9503 - val_loss: 0.1386 - val_accuracy: 0.9391\n",
      "Epoch 49/200\n",
      "97/97 [==============================] - 1s 9ms/step - loss: 0.1160 - accuracy: 0.9555 - val_loss: 0.1296 - val_accuracy: 0.9458\n",
      "Epoch 50/200\n",
      "97/97 [==============================] - 1s 9ms/step - loss: 0.1174 - accuracy: 0.9535 - val_loss: 0.1280 - val_accuracy: 0.9421\n",
      "Epoch 51/200\n",
      "97/97 [==============================] - 1s 9ms/step - loss: 0.1173 - accuracy: 0.9526 - val_loss: 0.1319 - val_accuracy: 0.9413\n",
      "Epoch 52/200\n",
      "97/97 [==============================] - 1s 9ms/step - loss: 0.1189 - accuracy: 0.9519 - val_loss: 0.1282 - val_accuracy: 0.9526\n",
      "Epoch 53/200\n",
      "97/97 [==============================] - 1s 9ms/step - loss: 0.1212 - accuracy: 0.9522 - val_loss: 0.1262 - val_accuracy: 0.9488\n",
      "Epoch 54/200\n",
      "97/97 [==============================] - 1s 9ms/step - loss: 0.1128 - accuracy: 0.9548 - val_loss: 0.1249 - val_accuracy: 0.9428\n",
      "Epoch 55/200\n",
      "97/97 [==============================] - 1s 9ms/step - loss: 0.1105 - accuracy: 0.9548 - val_loss: 0.1303 - val_accuracy: 0.9443\n",
      "Epoch 56/200\n",
      "97/97 [==============================] - 1s 9ms/step - loss: 0.1139 - accuracy: 0.9551 - val_loss: 0.1487 - val_accuracy: 0.9398\n",
      "Epoch 57/200\n",
      "97/97 [==============================] - 1s 10ms/step - loss: 0.1142 - accuracy: 0.9571 - val_loss: 0.1355 - val_accuracy: 0.9398\n",
      "Epoch 58/200\n"
     ]
    },
    {
     "name": "stdout",
     "output_type": "stream",
     "text": [
      "97/97 [==============================] - 1s 11ms/step - loss: 0.1092 - accuracy: 0.9593 - val_loss: 0.1426 - val_accuracy: 0.9383\n",
      "Epoch 59/200\n",
      "97/97 [==============================] - 1s 11ms/step - loss: 0.1178 - accuracy: 0.9519 - val_loss: 0.1285 - val_accuracy: 0.9458\n",
      "Epoch 60/200\n",
      "97/97 [==============================] - 1s 9ms/step - loss: 0.1163 - accuracy: 0.9529 - val_loss: 0.1513 - val_accuracy: 0.9488\n",
      "Epoch 61/200\n",
      "97/97 [==============================] - 1s 10ms/step - loss: 0.1236 - accuracy: 0.9519 - val_loss: 0.1386 - val_accuracy: 0.9503\n",
      "Epoch 62/200\n",
      "97/97 [==============================] - 1s 9ms/step - loss: 0.1181 - accuracy: 0.9506 - val_loss: 0.1281 - val_accuracy: 0.9458\n",
      "Epoch 63/200\n",
      "97/97 [==============================] - 1s 10ms/step - loss: 0.1139 - accuracy: 0.9529 - val_loss: 0.1404 - val_accuracy: 0.9406\n",
      "Epoch 64/200\n",
      "97/97 [==============================] - 1s 10ms/step - loss: 0.1106 - accuracy: 0.9529 - val_loss: 0.1288 - val_accuracy: 0.9421\n",
      "Epoch 65/200\n",
      "97/97 [==============================] - 1s 9ms/step - loss: 0.1080 - accuracy: 0.9555 - val_loss: 0.1340 - val_accuracy: 0.9458\n",
      "Epoch 66/200\n",
      "97/97 [==============================] - 1s 9ms/step - loss: 0.1159 - accuracy: 0.9510 - val_loss: 0.1308 - val_accuracy: 0.9428\n",
      "Epoch 67/200\n",
      "97/97 [==============================] - 1s 10ms/step - loss: 0.1085 - accuracy: 0.9542 - val_loss: 0.1292 - val_accuracy: 0.9473\n",
      "Epoch 68/200\n",
      "97/97 [==============================] - 1s 9ms/step - loss: 0.1098 - accuracy: 0.9539 - val_loss: 0.1387 - val_accuracy: 0.9421\n",
      "Epoch 69/200\n",
      "97/97 [==============================] - 1s 9ms/step - loss: 0.1106 - accuracy: 0.9539 - val_loss: 0.1305 - val_accuracy: 0.9421\n",
      "Epoch 70/200\n",
      "97/97 [==============================] - 1s 9ms/step - loss: 0.1076 - accuracy: 0.9555 - val_loss: 0.1428 - val_accuracy: 0.9383\n",
      "Epoch 71/200\n",
      "97/97 [==============================] - 1s 10ms/step - loss: 0.1119 - accuracy: 0.9551 - val_loss: 0.1340 - val_accuracy: 0.9383\n",
      "Epoch 72/200\n",
      "97/97 [==============================] - 1s 10ms/step - loss: 0.1170 - accuracy: 0.9516 - val_loss: 0.1370 - val_accuracy: 0.9391\n",
      "Epoch 73/200\n",
      "97/97 [==============================] - 1s 9ms/step - loss: 0.1106 - accuracy: 0.9506 - val_loss: 0.1354 - val_accuracy: 0.9406\n",
      "Epoch 74/200\n",
      "97/97 [==============================] - 1s 9ms/step - loss: 0.1093 - accuracy: 0.9558 - val_loss: 0.1319 - val_accuracy: 0.9360\n",
      "Epoch 75/200\n",
      "97/97 [==============================] - 1s 9ms/step - loss: 0.1061 - accuracy: 0.9558 - val_loss: 0.1297 - val_accuracy: 0.9421\n",
      "Epoch 76/200\n",
      "97/97 [==============================] - 1s 9ms/step - loss: 0.1113 - accuracy: 0.9548 - val_loss: 0.1284 - val_accuracy: 0.9443\n",
      "Epoch 77/200\n",
      "97/97 [==============================] - 1s 9ms/step - loss: 0.1055 - accuracy: 0.9561 - val_loss: 0.1325 - val_accuracy: 0.9428\n",
      "Epoch 78/200\n",
      "97/97 [==============================] - 1s 9ms/step - loss: 0.1094 - accuracy: 0.9551 - val_loss: 0.1439 - val_accuracy: 0.9443\n",
      "Epoch 79/200\n",
      "97/97 [==============================] - 1s 9ms/step - loss: 0.1059 - accuracy: 0.9561 - val_loss: 0.1387 - val_accuracy: 0.9436\n",
      "Epoch 80/200\n",
      "97/97 [==============================] - 1s 9ms/step - loss: 0.1071 - accuracy: 0.9535 - val_loss: 0.1321 - val_accuracy: 0.9398\n",
      "Epoch 81/200\n",
      "97/97 [==============================] - 1s 9ms/step - loss: 0.1103 - accuracy: 0.9561 - val_loss: 0.1669 - val_accuracy: 0.9383\n",
      "Epoch 82/200\n",
      "97/97 [==============================] - 1s 9ms/step - loss: 0.1090 - accuracy: 0.9522 - val_loss: 0.1371 - val_accuracy: 0.9375\n",
      "Epoch 83/200\n",
      "97/97 [==============================] - 1s 9ms/step - loss: 0.1074 - accuracy: 0.9548 - val_loss: 0.1351 - val_accuracy: 0.9443\n",
      "Epoch 84/200\n",
      "97/97 [==============================] - 1s 9ms/step - loss: 0.1106 - accuracy: 0.9551 - val_loss: 0.1658 - val_accuracy: 0.9391\n",
      "Epoch 85/200\n",
      "97/97 [==============================] - 1s 9ms/step - loss: 0.1115 - accuracy: 0.9535 - val_loss: 0.1503 - val_accuracy: 0.9353\n",
      "Epoch 86/200\n",
      "97/97 [==============================] - 1s 9ms/step - loss: 0.1070 - accuracy: 0.9548 - val_loss: 0.1277 - val_accuracy: 0.9398\n",
      "Epoch 87/200\n",
      "97/97 [==============================] - 1s 9ms/step - loss: 0.1078 - accuracy: 0.9535 - val_loss: 0.1336 - val_accuracy: 0.9428\n",
      "Epoch 88/200\n",
      "97/97 [==============================] - 1s 9ms/step - loss: 0.1079 - accuracy: 0.9561 - val_loss: 0.1253 - val_accuracy: 0.9481\n",
      "Epoch 89/200\n",
      "97/97 [==============================] - 1s 9ms/step - loss: 0.1037 - accuracy: 0.9558 - val_loss: 0.1417 - val_accuracy: 0.9398\n",
      "Epoch 90/200\n",
      "97/97 [==============================] - 1s 9ms/step - loss: 0.1090 - accuracy: 0.9555 - val_loss: 0.1271 - val_accuracy: 0.9458\n",
      "Epoch 91/200\n",
      "97/97 [==============================] - 1s 9ms/step - loss: 0.1047 - accuracy: 0.9574 - val_loss: 0.1343 - val_accuracy: 0.9406\n",
      "Epoch 92/200\n",
      "97/97 [==============================] - 1s 9ms/step - loss: 0.1050 - accuracy: 0.9539 - val_loss: 0.1371 - val_accuracy: 0.9413\n",
      "Epoch 93/200\n",
      "97/97 [==============================] - 1s 9ms/step - loss: 0.1113 - accuracy: 0.9561 - val_loss: 0.1378 - val_accuracy: 0.9436\n",
      "Epoch 94/200\n",
      "97/97 [==============================] - 1s 9ms/step - loss: 0.1154 - accuracy: 0.9571 - val_loss: 0.1275 - val_accuracy: 0.9451\n",
      "Epoch 95/200\n",
      "97/97 [==============================] - 1s 10ms/step - loss: 0.1091 - accuracy: 0.9535 - val_loss: 0.1513 - val_accuracy: 0.9406\n",
      "Epoch 96/200\n",
      "97/97 [==============================] - 1s 9ms/step - loss: 0.1032 - accuracy: 0.9564 - val_loss: 0.1336 - val_accuracy: 0.9421\n",
      "Epoch 97/200\n",
      "97/97 [==============================] - 1s 10ms/step - loss: 0.1150 - accuracy: 0.9539 - val_loss: 0.1361 - val_accuracy: 0.9398\n",
      "Epoch 98/200\n",
      "97/97 [==============================] - 1s 9ms/step - loss: 0.1076 - accuracy: 0.9529 - val_loss: 0.1344 - val_accuracy: 0.9398\n",
      "Epoch 99/200\n",
      "97/97 [==============================] - 1s 9ms/step - loss: 0.1009 - accuracy: 0.9574 - val_loss: 0.1458 - val_accuracy: 0.9428\n",
      "Epoch 100/200\n",
      "97/97 [==============================] - 1s 10ms/step - loss: 0.1027 - accuracy: 0.9571 - val_loss: 0.1343 - val_accuracy: 0.9466\n",
      "Epoch 101/200\n",
      "97/97 [==============================] - 1s 9ms/step - loss: 0.1005 - accuracy: 0.9577 - val_loss: 0.1378 - val_accuracy: 0.9421\n",
      "Epoch 102/200\n",
      "97/97 [==============================] - 1s 9ms/step - loss: 0.1082 - accuracy: 0.9555 - val_loss: 0.1387 - val_accuracy: 0.9473\n",
      "Epoch 103/200\n",
      "97/97 [==============================] - 1s 9ms/step - loss: 0.0996 - accuracy: 0.9564 - val_loss: 0.1288 - val_accuracy: 0.9436\n",
      "Epoch 104/200\n",
      "97/97 [==============================] - 1s 9ms/step - loss: 0.1068 - accuracy: 0.9539 - val_loss: 0.1405 - val_accuracy: 0.9406\n",
      "Epoch 105/200\n",
      "97/97 [==============================] - 1s 10ms/step - loss: 0.1016 - accuracy: 0.9597 - val_loss: 0.1366 - val_accuracy: 0.9413\n",
      "Epoch 106/200\n",
      "97/97 [==============================] - 1s 9ms/step - loss: 0.0985 - accuracy: 0.9600 - val_loss: 0.1398 - val_accuracy: 0.9466\n",
      "Epoch 107/200\n",
      "97/97 [==============================] - 1s 11ms/step - loss: 0.1037 - accuracy: 0.9548 - val_loss: 0.1468 - val_accuracy: 0.9436\n",
      "Epoch 108/200\n",
      "97/97 [==============================] - 1s 9ms/step - loss: 0.1001 - accuracy: 0.9564 - val_loss: 0.1548 - val_accuracy: 0.9398\n",
      "Epoch 109/200\n",
      "97/97 [==============================] - 1s 9ms/step - loss: 0.1064 - accuracy: 0.9564 - val_loss: 0.1518 - val_accuracy: 0.9421\n",
      "Epoch 110/200\n",
      "97/97 [==============================] - 1s 9ms/step - loss: 0.1093 - accuracy: 0.9561 - val_loss: 0.1310 - val_accuracy: 0.9436\n",
      "Epoch 111/200\n",
      "97/97 [==============================] - 1s 9ms/step - loss: 0.1007 - accuracy: 0.9574 - val_loss: 0.1386 - val_accuracy: 0.9421\n",
      "Epoch 112/200\n",
      "97/97 [==============================] - 1s 9ms/step - loss: 0.1059 - accuracy: 0.9571 - val_loss: 0.1520 - val_accuracy: 0.9406\n",
      "Epoch 113/200\n",
      "97/97 [==============================] - 1s 10ms/step - loss: 0.1015 - accuracy: 0.9577 - val_loss: 0.1429 - val_accuracy: 0.9436\n",
      "Epoch 114/200\n",
      "97/97 [==============================] - 1s 9ms/step - loss: 0.1033 - accuracy: 0.9574 - val_loss: 0.1327 - val_accuracy: 0.9443\n",
      "Epoch 115/200\n"
     ]
    },
    {
     "name": "stdout",
     "output_type": "stream",
     "text": [
      "97/97 [==============================] - 1s 9ms/step - loss: 0.1026 - accuracy: 0.9545 - val_loss: 0.1383 - val_accuracy: 0.9413\n",
      "Epoch 116/200\n",
      "97/97 [==============================] - 1s 9ms/step - loss: 0.1057 - accuracy: 0.9555 - val_loss: 0.1361 - val_accuracy: 0.9443\n",
      "Epoch 117/200\n",
      "97/97 [==============================] - 1s 9ms/step - loss: 0.0984 - accuracy: 0.9571 - val_loss: 0.1338 - val_accuracy: 0.9443\n",
      "Epoch 118/200\n",
      "97/97 [==============================] - 1s 9ms/step - loss: 0.1005 - accuracy: 0.9574 - val_loss: 0.1475 - val_accuracy: 0.9391\n",
      "Epoch 119/200\n",
      "97/97 [==============================] - 1s 10ms/step - loss: 0.0992 - accuracy: 0.9571 - val_loss: 0.1573 - val_accuracy: 0.9421\n",
      "Epoch 120/200\n",
      "97/97 [==============================] - 1s 9ms/step - loss: 0.1018 - accuracy: 0.9564 - val_loss: 0.1354 - val_accuracy: 0.9451\n",
      "Epoch 121/200\n",
      "97/97 [==============================] - 1s 9ms/step - loss: 0.1047 - accuracy: 0.9545 - val_loss: 0.1398 - val_accuracy: 0.9436\n",
      "Epoch 122/200\n",
      "97/97 [==============================] - 1s 9ms/step - loss: 0.0955 - accuracy: 0.9581 - val_loss: 0.1347 - val_accuracy: 0.9436\n",
      "Epoch 123/200\n",
      "97/97 [==============================] - 1s 9ms/step - loss: 0.0967 - accuracy: 0.9590 - val_loss: 0.1406 - val_accuracy: 0.9428\n",
      "Epoch 124/200\n",
      "97/97 [==============================] - 1s 9ms/step - loss: 0.0961 - accuracy: 0.9584 - val_loss: 0.1322 - val_accuracy: 0.9413\n",
      "Epoch 125/200\n",
      "97/97 [==============================] - 1s 9ms/step - loss: 0.0966 - accuracy: 0.9590 - val_loss: 0.1476 - val_accuracy: 0.9421\n",
      "Epoch 126/200\n",
      "97/97 [==============================] - 1s 9ms/step - loss: 0.0969 - accuracy: 0.9581 - val_loss: 0.1488 - val_accuracy: 0.9436\n",
      "Epoch 127/200\n",
      "97/97 [==============================] - 1s 9ms/step - loss: 0.1015 - accuracy: 0.9561 - val_loss: 0.1410 - val_accuracy: 0.9406\n",
      "Epoch 128/200\n",
      "97/97 [==============================] - 1s 9ms/step - loss: 0.1002 - accuracy: 0.9568 - val_loss: 0.1651 - val_accuracy: 0.9413\n",
      "Epoch 129/200\n",
      "97/97 [==============================] - 1s 9ms/step - loss: 0.0975 - accuracy: 0.9603 - val_loss: 0.1468 - val_accuracy: 0.9421\n",
      "Epoch 130/200\n",
      "97/97 [==============================] - 1s 9ms/step - loss: 0.0946 - accuracy: 0.9619 - val_loss: 0.1576 - val_accuracy: 0.9421\n",
      "Epoch 131/200\n",
      "97/97 [==============================] - 1s 9ms/step - loss: 0.1091 - accuracy: 0.9564 - val_loss: 0.1388 - val_accuracy: 0.9436\n",
      "Epoch 132/200\n",
      "97/97 [==============================] - 1s 9ms/step - loss: 0.0979 - accuracy: 0.9574 - val_loss: 0.1485 - val_accuracy: 0.9398\n",
      "Epoch 133/200\n",
      "97/97 [==============================] - 1s 9ms/step - loss: 0.0992 - accuracy: 0.9587 - val_loss: 0.1448 - val_accuracy: 0.9421\n",
      "Epoch 134/200\n",
      "97/97 [==============================] - 1s 9ms/step - loss: 0.0983 - accuracy: 0.9606 - val_loss: 0.1501 - val_accuracy: 0.9406\n",
      "Epoch 135/200\n",
      "97/97 [==============================] - 1s 9ms/step - loss: 0.0977 - accuracy: 0.9603 - val_loss: 0.1491 - val_accuracy: 0.9421\n",
      "Epoch 136/200\n",
      "97/97 [==============================] - 1s 9ms/step - loss: 0.0926 - accuracy: 0.9593 - val_loss: 0.1641 - val_accuracy: 0.9406\n",
      "Epoch 137/200\n",
      "97/97 [==============================] - 1s 9ms/step - loss: 0.0982 - accuracy: 0.9593 - val_loss: 0.1636 - val_accuracy: 0.9443\n",
      "Epoch 138/200\n",
      "97/97 [==============================] - 1s 9ms/step - loss: 0.1140 - accuracy: 0.9548 - val_loss: 0.1234 - val_accuracy: 0.9473\n",
      "Epoch 139/200\n",
      "97/97 [==============================] - 1s 9ms/step - loss: 0.1000 - accuracy: 0.9581 - val_loss: 0.1393 - val_accuracy: 0.9436\n",
      "Epoch 140/200\n",
      "97/97 [==============================] - 1s 9ms/step - loss: 0.1013 - accuracy: 0.9571 - val_loss: 0.1406 - val_accuracy: 0.9428\n",
      "Epoch 141/200\n",
      "97/97 [==============================] - 1s 9ms/step - loss: 0.0944 - accuracy: 0.9571 - val_loss: 0.1473 - val_accuracy: 0.9421\n",
      "Epoch 142/200\n",
      "97/97 [==============================] - 1s 9ms/step - loss: 0.0972 - accuracy: 0.9603 - val_loss: 0.1531 - val_accuracy: 0.9406\n",
      "Epoch 143/200\n",
      "97/97 [==============================] - 1s 9ms/step - loss: 0.0994 - accuracy: 0.9551 - val_loss: 0.1452 - val_accuracy: 0.9413\n",
      "Epoch 144/200\n",
      "97/97 [==============================] - 1s 9ms/step - loss: 0.0985 - accuracy: 0.9581 - val_loss: 0.1387 - val_accuracy: 0.9443\n",
      "Epoch 145/200\n",
      "97/97 [==============================] - 1s 9ms/step - loss: 0.0924 - accuracy: 0.9590 - val_loss: 0.1432 - val_accuracy: 0.9421\n",
      "Epoch 146/200\n",
      "97/97 [==============================] - 1s 9ms/step - loss: 0.1004 - accuracy: 0.9551 - val_loss: 0.1388 - val_accuracy: 0.9428\n",
      "Epoch 147/200\n",
      "97/97 [==============================] - 1s 9ms/step - loss: 0.0925 - accuracy: 0.9581 - val_loss: 0.1520 - val_accuracy: 0.9428\n",
      "Epoch 148/200\n",
      "97/97 [==============================] - 1s 9ms/step - loss: 0.0885 - accuracy: 0.9622 - val_loss: 0.1809 - val_accuracy: 0.9436\n",
      "Epoch 149/200\n",
      "97/97 [==============================] - 1s 9ms/step - loss: 0.0916 - accuracy: 0.9626 - val_loss: 0.1550 - val_accuracy: 0.9383\n",
      "Epoch 150/200\n",
      "97/97 [==============================] - 1s 9ms/step - loss: 0.0935 - accuracy: 0.9626 - val_loss: 0.1482 - val_accuracy: 0.9398\n",
      "Epoch 151/200\n",
      "97/97 [==============================] - 1s 9ms/step - loss: 0.0978 - accuracy: 0.9590 - val_loss: 0.1442 - val_accuracy: 0.9413\n",
      "Epoch 152/200\n",
      "97/97 [==============================] - 1s 9ms/step - loss: 0.0935 - accuracy: 0.9606 - val_loss: 0.1489 - val_accuracy: 0.9421\n",
      "Epoch 153/200\n",
      "97/97 [==============================] - 1s 9ms/step - loss: 0.0916 - accuracy: 0.9626 - val_loss: 0.1457 - val_accuracy: 0.9413\n",
      "Epoch 154/200\n",
      "97/97 [==============================] - 1s 9ms/step - loss: 0.0909 - accuracy: 0.9610 - val_loss: 0.1488 - val_accuracy: 0.9458\n",
      "Epoch 155/200\n",
      "97/97 [==============================] - 1s 9ms/step - loss: 0.0938 - accuracy: 0.9590 - val_loss: 0.1464 - val_accuracy: 0.9451\n",
      "Epoch 156/200\n",
      "97/97 [==============================] - 1s 9ms/step - loss: 0.0929 - accuracy: 0.9600 - val_loss: 0.1533 - val_accuracy: 0.9406\n",
      "Epoch 157/200\n",
      "97/97 [==============================] - 1s 10ms/step - loss: 0.0966 - accuracy: 0.9581 - val_loss: 0.1487 - val_accuracy: 0.9398\n",
      "Epoch 158/200\n",
      "97/97 [==============================] - 1s 9ms/step - loss: 0.0904 - accuracy: 0.9626 - val_loss: 0.1765 - val_accuracy: 0.9368\n",
      "Epoch 159/200\n",
      "97/97 [==============================] - 1s 9ms/step - loss: 0.0893 - accuracy: 0.9635 - val_loss: 0.1619 - val_accuracy: 0.9398\n",
      "Epoch 160/200\n",
      "97/97 [==============================] - 1s 9ms/step - loss: 0.0906 - accuracy: 0.9610 - val_loss: 0.1694 - val_accuracy: 0.9383\n",
      "Epoch 161/200\n",
      "97/97 [==============================] - 1s 9ms/step - loss: 0.0923 - accuracy: 0.9629 - val_loss: 0.1559 - val_accuracy: 0.9443\n",
      "Epoch 162/200\n",
      "97/97 [==============================] - 1s 9ms/step - loss: 0.0894 - accuracy: 0.9619 - val_loss: 0.1596 - val_accuracy: 0.9428\n",
      "Epoch 163/200\n",
      "97/97 [==============================] - 1s 9ms/step - loss: 0.0878 - accuracy: 0.9616 - val_loss: 0.1533 - val_accuracy: 0.9428\n",
      "Epoch 164/200\n",
      "97/97 [==============================] - 1s 9ms/step - loss: 0.0851 - accuracy: 0.9619 - val_loss: 0.1754 - val_accuracy: 0.9413\n",
      "Epoch 165/200\n",
      "97/97 [==============================] - 1s 9ms/step - loss: 0.0904 - accuracy: 0.9610 - val_loss: 0.1815 - val_accuracy: 0.9466\n",
      "Epoch 166/200\n",
      "97/97 [==============================] - 1s 9ms/step - loss: 0.0877 - accuracy: 0.9632 - val_loss: 0.1700 - val_accuracy: 0.9406\n",
      "Epoch 167/200\n",
      "97/97 [==============================] - 1s 9ms/step - loss: 0.0992 - accuracy: 0.9593 - val_loss: 0.1383 - val_accuracy: 0.9466\n",
      "Epoch 168/200\n",
      "97/97 [==============================] - 1s 9ms/step - loss: 0.0919 - accuracy: 0.9606 - val_loss: 0.1611 - val_accuracy: 0.9406\n",
      "Epoch 169/200\n",
      "97/97 [==============================] - 1s 9ms/step - loss: 0.1005 - accuracy: 0.9571 - val_loss: 0.1594 - val_accuracy: 0.9383\n",
      "Epoch 170/200\n",
      "97/97 [==============================] - 1s 9ms/step - loss: 0.0902 - accuracy: 0.9616 - val_loss: 0.1523 - val_accuracy: 0.9458\n",
      "Epoch 171/200\n",
      "97/97 [==============================] - 1s 9ms/step - loss: 0.0853 - accuracy: 0.9600 - val_loss: 0.1674 - val_accuracy: 0.9421\n",
      "Epoch 172/200\n"
     ]
    },
    {
     "name": "stdout",
     "output_type": "stream",
     "text": [
      "97/97 [==============================] - 1s 9ms/step - loss: 0.0863 - accuracy: 0.9622 - val_loss: 0.1868 - val_accuracy: 0.9368\n",
      "Epoch 173/200\n",
      "97/97 [==============================] - 1s 9ms/step - loss: 0.0865 - accuracy: 0.9629 - val_loss: 0.1531 - val_accuracy: 0.9436\n",
      "Epoch 174/200\n",
      "97/97 [==============================] - 1s 9ms/step - loss: 0.0842 - accuracy: 0.9652 - val_loss: 0.1790 - val_accuracy: 0.9406\n",
      "Epoch 175/200\n",
      "97/97 [==============================] - 1s 9ms/step - loss: 0.0883 - accuracy: 0.9645 - val_loss: 0.1659 - val_accuracy: 0.9413\n",
      "Epoch 176/200\n",
      "97/97 [==============================] - 1s 9ms/step - loss: 0.0927 - accuracy: 0.9639 - val_loss: 0.1422 - val_accuracy: 0.9473\n",
      "Epoch 177/200\n",
      "97/97 [==============================] - 1s 9ms/step - loss: 0.0982 - accuracy: 0.9616 - val_loss: 0.1647 - val_accuracy: 0.9413\n",
      "Epoch 178/200\n",
      "97/97 [==============================] - 1s 9ms/step - loss: 0.1016 - accuracy: 0.9577 - val_loss: 0.1455 - val_accuracy: 0.9398\n",
      "Epoch 179/200\n",
      "97/97 [==============================] - 1s 9ms/step - loss: 0.0899 - accuracy: 0.9616 - val_loss: 0.1468 - val_accuracy: 0.9436\n",
      "Epoch 180/200\n",
      "97/97 [==============================] - 1s 9ms/step - loss: 0.0891 - accuracy: 0.9635 - val_loss: 0.1560 - val_accuracy: 0.9436\n",
      "Epoch 181/200\n",
      "97/97 [==============================] - 1s 9ms/step - loss: 0.0951 - accuracy: 0.9610 - val_loss: 0.2030 - val_accuracy: 0.9413\n",
      "Epoch 182/200\n",
      "97/97 [==============================] - 1s 9ms/step - loss: 0.0901 - accuracy: 0.9613 - val_loss: 0.1455 - val_accuracy: 0.9466\n",
      "Epoch 183/200\n",
      "97/97 [==============================] - 1s 9ms/step - loss: 0.0928 - accuracy: 0.9600 - val_loss: 0.1826 - val_accuracy: 0.9458\n",
      "Epoch 184/200\n",
      "97/97 [==============================] - 1s 9ms/step - loss: 0.0854 - accuracy: 0.9645 - val_loss: 0.1816 - val_accuracy: 0.9421\n",
      "Epoch 185/200\n",
      "97/97 [==============================] - 1s 9ms/step - loss: 0.0840 - accuracy: 0.9622 - val_loss: 0.1830 - val_accuracy: 0.9458\n",
      "Epoch 186/200\n",
      "97/97 [==============================] - 1s 9ms/step - loss: 0.0842 - accuracy: 0.9626 - val_loss: 0.1674 - val_accuracy: 0.9398\n",
      "Epoch 187/200\n",
      "97/97 [==============================] - 1s 9ms/step - loss: 0.0827 - accuracy: 0.9635 - val_loss: 0.1796 - val_accuracy: 0.9428\n",
      "Epoch 188/200\n",
      "97/97 [==============================] - 1s 9ms/step - loss: 0.0874 - accuracy: 0.9632 - val_loss: 0.1672 - val_accuracy: 0.9443\n",
      "Epoch 189/200\n",
      "97/97 [==============================] - 1s 9ms/step - loss: 0.0874 - accuracy: 0.9619 - val_loss: 0.1698 - val_accuracy: 0.9428\n",
      "Epoch 190/200\n",
      "97/97 [==============================] - 1s 9ms/step - loss: 0.0923 - accuracy: 0.9606 - val_loss: 0.1759 - val_accuracy: 0.9428\n",
      "Epoch 191/200\n",
      "97/97 [==============================] - 1s 9ms/step - loss: 0.0836 - accuracy: 0.9652 - val_loss: 0.1566 - val_accuracy: 0.9436\n",
      "Epoch 192/200\n",
      "97/97 [==============================] - 1s 9ms/step - loss: 0.0958 - accuracy: 0.9613 - val_loss: 0.2005 - val_accuracy: 0.9413\n",
      "Epoch 193/200\n",
      "97/97 [==============================] - 1s 9ms/step - loss: 0.1111 - accuracy: 0.9568 - val_loss: 0.1712 - val_accuracy: 0.9466\n",
      "Epoch 194/200\n",
      "97/97 [==============================] - 1s 9ms/step - loss: 0.0935 - accuracy: 0.9593 - val_loss: 0.1502 - val_accuracy: 0.9436\n",
      "Epoch 195/200\n",
      "97/97 [==============================] - 1s 9ms/step - loss: 0.0823 - accuracy: 0.9661 - val_loss: 0.2076 - val_accuracy: 0.9436\n",
      "Epoch 196/200\n",
      "97/97 [==============================] - 1s 9ms/step - loss: 0.0875 - accuracy: 0.9632 - val_loss: 0.1659 - val_accuracy: 0.9436\n",
      "Epoch 197/200\n",
      "97/97 [==============================] - 1s 9ms/step - loss: 0.0835 - accuracy: 0.9603 - val_loss: 0.1594 - val_accuracy: 0.9473\n",
      "Epoch 198/200\n",
      "97/97 [==============================] - 1s 9ms/step - loss: 0.0803 - accuracy: 0.9655 - val_loss: 0.1627 - val_accuracy: 0.9496\n",
      "Epoch 199/200\n",
      "97/97 [==============================] - 1s 9ms/step - loss: 0.0884 - accuracy: 0.9619 - val_loss: 0.1521 - val_accuracy: 0.9488\n",
      "Epoch 200/200\n",
      "97/97 [==============================] - 1s 9ms/step - loss: 0.0804 - accuracy: 0.9629 - val_loss: 0.1733 - val_accuracy: 0.9391\n"
     ]
    },
    {
     "data": {
      "text/plain": [
       "<keras.callbacks.History at 0x18dfe624af0>"
      ]
     },
     "execution_count": 181,
     "metadata": {},
     "output_type": "execute_result"
    }
   ],
   "source": [
    "model.fit(x_tr,y_tr,epochs=200,validation_split=0.3)"
   ]
  },
  {
   "cell_type": "code",
   "execution_count": 182,
   "id": "ec3cbdda",
   "metadata": {},
   "outputs": [
    {
     "name": "stdout",
     "output_type": "stream",
     "text": [
      "35/35 [==============================] - 0s 4ms/step - loss: 0.1585 - accuracy: 0.9431\n",
      "Acurácia do modelo: 0.9431408047676086\n"
     ]
    }
   ],
   "source": [
    "loss, accuracy = model.evaluate(x_tt,y_tt)\n",
    "print(f'Acurácia do modelo: {accuracy}')"
   ]
  },
  {
   "cell_type": "code",
   "execution_count": 183,
   "id": "ebaf25d2",
   "metadata": {},
   "outputs": [
    {
     "name": "stdout",
     "output_type": "stream",
     "text": [
      "35/35 [==============================] - 0s 4ms/step\n"
     ]
    }
   ],
   "source": [
    "y_pred=model.predict(x_tt)"
   ]
  },
  {
   "cell_type": "code",
   "execution_count": 184,
   "id": "eb73ddae",
   "metadata": {},
   "outputs": [],
   "source": [
    "x_tt['drafted']=y_tt"
   ]
  },
  {
   "cell_type": "code",
   "execution_count": 185,
   "id": "8c4e07cd",
   "metadata": {},
   "outputs": [
    {
     "data": {
      "text/plain": [
       "0    1049\n",
       "1      59\n",
       "Name: drafted, dtype: int64"
      ]
     },
     "execution_count": 185,
     "metadata": {},
     "output_type": "execute_result"
    }
   ],
   "source": [
    "x_tt['drafted'].value_counts()"
   ]
  },
  {
   "cell_type": "code",
   "execution_count": 199,
   "id": "722fd7b5",
   "metadata": {},
   "outputs": [],
   "source": [
    "def binarize(y,thresh):\n",
    "    yhat=[]\n",
    "    for pred in y:\n",
    "        if pred[1]>=thresh:\n",
    "            yhat.append(1)\n",
    "        else:\n",
    "            yhat.append(0)\n",
    "    return yhat"
   ]
  },
  {
   "cell_type": "code",
   "execution_count": 200,
   "id": "3ffbd7ca",
   "metadata": {},
   "outputs": [],
   "source": [
    "prediction=binarize(y_pred,0.3)"
   ]
  },
  {
   "cell_type": "code",
   "execution_count": 201,
   "id": "2128e68c",
   "metadata": {},
   "outputs": [
    {
     "data": {
      "text/plain": [
       "0    1062\n",
       "1      46\n",
       "dtype: int64"
      ]
     },
     "execution_count": 201,
     "metadata": {},
     "output_type": "execute_result"
    }
   ],
   "source": [
    "pd.DataFrame(prediction).value_counts()"
   ]
  },
  {
   "cell_type": "code",
   "execution_count": 202,
   "id": "8a68215b",
   "metadata": {},
   "outputs": [
    {
     "data": {
      "text/plain": [
       "0.043869063"
      ]
     },
     "execution_count": 202,
     "metadata": {},
     "output_type": "execute_result"
    }
   ],
   "source": [
    "y_pred[:,1].mean()"
   ]
  },
  {
   "cell_type": "code",
   "execution_count": 203,
   "id": "21e21e3f",
   "metadata": {},
   "outputs": [
    {
     "data": {
      "text/plain": [
       "0.3428571428571429"
      ]
     },
     "execution_count": 203,
     "metadata": {},
     "output_type": "execute_result"
    }
   ],
   "source": [
    "f1_score(prediction,y_tt)"
   ]
  },
  {
   "cell_type": "code",
   "execution_count": 204,
   "id": "eadfabc4",
   "metadata": {},
   "outputs": [
    {
     "data": {
      "text/html": [
       "<div>\n",
       "<style scoped>\n",
       "    .dataframe tbody tr th:only-of-type {\n",
       "        vertical-align: middle;\n",
       "    }\n",
       "\n",
       "    .dataframe tbody tr th {\n",
       "        vertical-align: top;\n",
       "    }\n",
       "\n",
       "    .dataframe thead th {\n",
       "        text-align: right;\n",
       "    }\n",
       "</style>\n",
       "<table border=\"1\" class=\"dataframe\">\n",
       "  <thead>\n",
       "    <tr style=\"text-align: right;\">\n",
       "      <th></th>\n",
       "      <th>player</th>\n",
       "      <th>year</th>\n",
       "      <th>gp</th>\n",
       "      <th>mpg</th>\n",
       "      <th>ppg</th>\n",
       "      <th>fgm</th>\n",
       "      <th>fga</th>\n",
       "      <th>fg%</th>\n",
       "      <th>3pm</th>\n",
       "      <th>3pa</th>\n",
       "      <th>...</th>\n",
       "      <th>DRtg</th>\n",
       "      <th>eDiff</th>\n",
       "      <th>FIC</th>\n",
       "      <th>PER</th>\n",
       "      <th>draft_pos</th>\n",
       "      <th>drafted</th>\n",
       "      <th>cls_Fr</th>\n",
       "      <th>cls_Jr</th>\n",
       "      <th>cls_So</th>\n",
       "      <th>cls_Sr</th>\n",
       "    </tr>\n",
       "  </thead>\n",
       "  <tbody>\n",
       "    <tr>\n",
       "      <th>0</th>\n",
       "      <td>Kris Humphries</td>\n",
       "      <td>2004</td>\n",
       "      <td>29</td>\n",
       "      <td>34.1</td>\n",
       "      <td>21.7</td>\n",
       "      <td>7.6</td>\n",
       "      <td>17.2</td>\n",
       "      <td>0.444</td>\n",
       "      <td>0.6</td>\n",
       "      <td>1.7</td>\n",
       "      <td>...</td>\n",
       "      <td>101.8</td>\n",
       "      <td>3.8</td>\n",
       "      <td>376.6</td>\n",
       "      <td>24.3</td>\n",
       "      <td>14.0</td>\n",
       "      <td>first round</td>\n",
       "      <td>1</td>\n",
       "      <td>0</td>\n",
       "      <td>0</td>\n",
       "      <td>0</td>\n",
       "    </tr>\n",
       "    <tr>\n",
       "      <th>1</th>\n",
       "      <td>Emeka Okafor</td>\n",
       "      <td>2004</td>\n",
       "      <td>36</td>\n",
       "      <td>32.4</td>\n",
       "      <td>17.6</td>\n",
       "      <td>7.3</td>\n",
       "      <td>12.1</td>\n",
       "      <td>0.599</td>\n",
       "      <td>0.0</td>\n",
       "      <td>0.0</td>\n",
       "      <td>...</td>\n",
       "      <td>83.3</td>\n",
       "      <td>32.2</td>\n",
       "      <td>663.5</td>\n",
       "      <td>28.5</td>\n",
       "      <td>2.0</td>\n",
       "      <td>first round</td>\n",
       "      <td>0</td>\n",
       "      <td>1</td>\n",
       "      <td>0</td>\n",
       "      <td>0</td>\n",
       "    </tr>\n",
       "    <tr>\n",
       "      <th>2</th>\n",
       "      <td>Devin Harris</td>\n",
       "      <td>2004</td>\n",
       "      <td>32</td>\n",
       "      <td>36.2</td>\n",
       "      <td>19.5</td>\n",
       "      <td>5.9</td>\n",
       "      <td>12.8</td>\n",
       "      <td>0.462</td>\n",
       "      <td>2.3</td>\n",
       "      <td>6.3</td>\n",
       "      <td>...</td>\n",
       "      <td>92.0</td>\n",
       "      <td>34.4</td>\n",
       "      <td>448.5</td>\n",
       "      <td>27.1</td>\n",
       "      <td>5.0</td>\n",
       "      <td>first round</td>\n",
       "      <td>0</td>\n",
       "      <td>1</td>\n",
       "      <td>0</td>\n",
       "      <td>0</td>\n",
       "    </tr>\n",
       "    <tr>\n",
       "      <th>3</th>\n",
       "      <td>Delonte West</td>\n",
       "      <td>2004</td>\n",
       "      <td>32</td>\n",
       "      <td>33.5</td>\n",
       "      <td>18.9</td>\n",
       "      <td>6.6</td>\n",
       "      <td>13.0</td>\n",
       "      <td>0.510</td>\n",
       "      <td>1.8</td>\n",
       "      <td>4.3</td>\n",
       "      <td>...</td>\n",
       "      <td>91.6</td>\n",
       "      <td>32.8</td>\n",
       "      <td>479.4</td>\n",
       "      <td>26.4</td>\n",
       "      <td>24.0</td>\n",
       "      <td>first round</td>\n",
       "      <td>0</td>\n",
       "      <td>1</td>\n",
       "      <td>0</td>\n",
       "      <td>0</td>\n",
       "    </tr>\n",
       "    <tr>\n",
       "      <th>4</th>\n",
       "      <td>Ricky Minard</td>\n",
       "      <td>2004</td>\n",
       "      <td>29</td>\n",
       "      <td>34.3</td>\n",
       "      <td>21.8</td>\n",
       "      <td>7.2</td>\n",
       "      <td>16.1</td>\n",
       "      <td>0.451</td>\n",
       "      <td>1.6</td>\n",
       "      <td>4.8</td>\n",
       "      <td>...</td>\n",
       "      <td>98.9</td>\n",
       "      <td>10.1</td>\n",
       "      <td>482.8</td>\n",
       "      <td>29.5</td>\n",
       "      <td>19.0</td>\n",
       "      <td>second round</td>\n",
       "      <td>0</td>\n",
       "      <td>0</td>\n",
       "      <td>0</td>\n",
       "      <td>1</td>\n",
       "    </tr>\n",
       "  </tbody>\n",
       "</table>\n",
       "<p>5 rows × 46 columns</p>\n",
       "</div>"
      ],
      "text/plain": [
       "           player  year  gp   mpg   ppg  fgm   fga    fg%  3pm  3pa  ...  \\\n",
       "0  Kris Humphries  2004  29  34.1  21.7  7.6  17.2  0.444  0.6  1.7  ...   \n",
       "1    Emeka Okafor  2004  36  32.4  17.6  7.3  12.1  0.599  0.0  0.0  ...   \n",
       "2    Devin Harris  2004  32  36.2  19.5  5.9  12.8  0.462  2.3  6.3  ...   \n",
       "3    Delonte West  2004  32  33.5  18.9  6.6  13.0  0.510  1.8  4.3  ...   \n",
       "4    Ricky Minard  2004  29  34.3  21.8  7.2  16.1  0.451  1.6  4.8  ...   \n",
       "\n",
       "    DRtg  eDiff    FIC   PER  draft_pos       drafted  cls_Fr  cls_Jr  cls_So  \\\n",
       "0  101.8    3.8  376.6  24.3       14.0   first round       1       0       0   \n",
       "1   83.3   32.2  663.5  28.5        2.0   first round       0       1       0   \n",
       "2   92.0   34.4  448.5  27.1        5.0   first round       0       1       0   \n",
       "3   91.6   32.8  479.4  26.4       24.0   first round       0       1       0   \n",
       "4   98.9   10.1  482.8  29.5       19.0  second round       0       0       0   \n",
       "\n",
       "   cls_Sr  \n",
       "0       0  \n",
       "1       0  \n",
       "2       0  \n",
       "3       0  \n",
       "4       1  \n",
       "\n",
       "[5 rows x 46 columns]"
      ]
     },
     "execution_count": 204,
     "metadata": {},
     "output_type": "execute_result"
    }
   ],
   "source": [
    "df=pd.read_excel('table.xlsx')\n",
    "df=pd.get_dummies(df,columns=['cls'])\n",
    "df.head()"
   ]
  },
  {
   "cell_type": "code",
   "execution_count": 205,
   "id": "efa858b1",
   "metadata": {},
   "outputs": [],
   "source": [
    "def predict_class(year):\n",
    "    predictions=[]\n",
    "    draft_class=df.loc[df['year']==year]\n",
    "    for i in tqdm(range(len(draft_class))):\n",
    "        player=draft_class['player'].iloc[i]\n",
    "        player_stats=draft_class.loc[draft_class['player']==player].drop(columns=['player','year','draft_pos','drafted']).iloc[0]\n",
    "        predictions.append([player,model.predict([list(player_stats)])[0][1]])\n",
    "        \n",
    "    return predictions"
   ]
  },
  {
   "cell_type": "code",
   "execution_count": 206,
   "id": "0a40fb14",
   "metadata": {},
   "outputs": [
    {
     "name": "stderr",
     "output_type": "stream",
     "text": [
      "\r",
      "  0%|                                                                                          | 0/250 [00:00<?, ?it/s]"
     ]
    },
    {
     "name": "stdout",
     "output_type": "stream",
     "text": [
      "1/1 [==============================] - 0s 223ms/step\n"
     ]
    },
    {
     "name": "stderr",
     "output_type": "stream",
     "text": [
      "\r",
      "  0%|▎                                                                                 | 1/250 [00:00<01:15,  3.29it/s]"
     ]
    },
    {
     "name": "stdout",
     "output_type": "stream",
     "text": [
      "1/1 [==============================] - 0s 117ms/step\n"
     ]
    },
    {
     "name": "stderr",
     "output_type": "stream",
     "text": [
      "\r",
      "  1%|▋                                                                                 | 2/250 [00:00<00:59,  4.15it/s]"
     ]
    },
    {
     "name": "stdout",
     "output_type": "stream",
     "text": [
      "1/1 [==============================] - 0s 102ms/step\n"
     ]
    },
    {
     "name": "stderr",
     "output_type": "stream",
     "text": [
      "\r",
      "  1%|▉                                                                                 | 3/250 [00:00<00:53,  4.63it/s]"
     ]
    },
    {
     "name": "stdout",
     "output_type": "stream",
     "text": [
      "1/1 [==============================] - 0s 105ms/step\n"
     ]
    },
    {
     "name": "stderr",
     "output_type": "stream",
     "text": [
      "\r",
      "  2%|█▎                                                                                | 4/250 [00:00<00:50,  4.87it/s]"
     ]
    },
    {
     "name": "stdout",
     "output_type": "stream",
     "text": [
      "1/1 [==============================] - 0s 128ms/step\n"
     ]
    },
    {
     "name": "stderr",
     "output_type": "stream",
     "text": [
      "\r",
      "  2%|█▋                                                                                | 5/250 [00:01<00:49,  4.92it/s]"
     ]
    },
    {
     "name": "stdout",
     "output_type": "stream",
     "text": [
      "1/1 [==============================] - 0s 115ms/step\n"
     ]
    },
    {
     "name": "stderr",
     "output_type": "stream",
     "text": [
      "\r",
      "  2%|█▉                                                                                | 6/250 [00:01<00:49,  4.97it/s]"
     ]
    },
    {
     "name": "stdout",
     "output_type": "stream",
     "text": [
      "1/1 [==============================] - 0s 117ms/step\n"
     ]
    },
    {
     "name": "stderr",
     "output_type": "stream",
     "text": [
      "\r",
      "  3%|██▎                                                                               | 7/250 [00:01<00:48,  5.03it/s]"
     ]
    },
    {
     "name": "stdout",
     "output_type": "stream",
     "text": [
      "1/1 [==============================] - 0s 128ms/step\n"
     ]
    },
    {
     "name": "stderr",
     "output_type": "stream",
     "text": [
      "\r",
      "  3%|██▌                                                                               | 8/250 [00:01<00:49,  4.86it/s]"
     ]
    },
    {
     "name": "stdout",
     "output_type": "stream",
     "text": [
      "1/1 [==============================] - 0s 102ms/step\n"
     ]
    },
    {
     "name": "stderr",
     "output_type": "stream",
     "text": [
      "\r",
      "  4%|██▉                                                                               | 9/250 [00:01<00:49,  4.84it/s]"
     ]
    },
    {
     "name": "stdout",
     "output_type": "stream",
     "text": [
      "1/1 [==============================] - 0s 120ms/step\n"
     ]
    },
    {
     "name": "stderr",
     "output_type": "stream",
     "text": [
      "\r",
      "  4%|███▏                                                                             | 10/250 [00:02<00:50,  4.75it/s]"
     ]
    },
    {
     "name": "stdout",
     "output_type": "stream",
     "text": [
      "1/1 [==============================] - 0s 128ms/step\n"
     ]
    },
    {
     "name": "stderr",
     "output_type": "stream",
     "text": [
      "\r",
      "  4%|███▌                                                                             | 11/250 [00:02<00:50,  4.73it/s]"
     ]
    },
    {
     "name": "stdout",
     "output_type": "stream",
     "text": [
      "1/1 [==============================] - 0s 119ms/step\n"
     ]
    },
    {
     "name": "stderr",
     "output_type": "stream",
     "text": [
      "\r",
      "  5%|███▉                                                                             | 12/250 [00:02<00:49,  4.76it/s]"
     ]
    },
    {
     "name": "stdout",
     "output_type": "stream",
     "text": [
      "1/1 [==============================] - 0s 121ms/step\n"
     ]
    },
    {
     "name": "stderr",
     "output_type": "stream",
     "text": [
      "\r",
      "  5%|████▏                                                                            | 13/250 [00:02<00:50,  4.74it/s]"
     ]
    },
    {
     "name": "stdout",
     "output_type": "stream",
     "text": [
      "1/1 [==============================] - 0s 129ms/step\n"
     ]
    },
    {
     "name": "stderr",
     "output_type": "stream",
     "text": [
      "\r",
      "  6%|████▌                                                                            | 14/250 [00:02<00:50,  4.70it/s]"
     ]
    },
    {
     "name": "stdout",
     "output_type": "stream",
     "text": [
      "1/1 [==============================] - 0s 124ms/step\n"
     ]
    },
    {
     "name": "stderr",
     "output_type": "stream",
     "text": [
      "\r",
      "  6%|████▊                                                                            | 15/250 [00:03<00:49,  4.72it/s]"
     ]
    },
    {
     "name": "stdout",
     "output_type": "stream",
     "text": [
      "1/1 [==============================] - 0s 103ms/step\n"
     ]
    },
    {
     "name": "stderr",
     "output_type": "stream",
     "text": [
      "\r",
      "  6%|█████▏                                                                           | 16/250 [00:03<00:47,  4.95it/s]"
     ]
    },
    {
     "name": "stdout",
     "output_type": "stream",
     "text": [
      "1/1 [==============================] - 0s 110ms/step\n"
     ]
    },
    {
     "name": "stderr",
     "output_type": "stream",
     "text": [
      "\r",
      "  7%|█████▌                                                                           | 17/250 [00:03<00:46,  5.05it/s]"
     ]
    },
    {
     "name": "stdout",
     "output_type": "stream",
     "text": [
      "1/1 [==============================] - 0s 103ms/step\n"
     ]
    },
    {
     "name": "stderr",
     "output_type": "stream",
     "text": [
      "\r",
      "  7%|█████▊                                                                           | 18/250 [00:03<00:46,  5.04it/s]"
     ]
    },
    {
     "name": "stdout",
     "output_type": "stream",
     "text": [
      "1/1 [==============================] - 0s 122ms/step\n"
     ]
    },
    {
     "name": "stderr",
     "output_type": "stream",
     "text": [
      "\r",
      "  8%|██████▏                                                                          | 19/250 [00:03<00:47,  4.88it/s]"
     ]
    },
    {
     "name": "stdout",
     "output_type": "stream",
     "text": [
      "1/1 [==============================] - 0s 107ms/step\n"
     ]
    },
    {
     "name": "stderr",
     "output_type": "stream",
     "text": [
      "\r",
      "  8%|██████▍                                                                          | 20/250 [00:04<00:45,  5.02it/s]"
     ]
    },
    {
     "name": "stdout",
     "output_type": "stream",
     "text": [
      "1/1 [==============================] - 0s 115ms/step\n"
     ]
    },
    {
     "name": "stderr",
     "output_type": "stream",
     "text": [
      "\r",
      "  8%|██████▊                                                                          | 21/250 [00:04<00:44,  5.19it/s]"
     ]
    },
    {
     "name": "stdout",
     "output_type": "stream",
     "text": [
      "1/1 [==============================] - 0s 110ms/step\n"
     ]
    },
    {
     "name": "stderr",
     "output_type": "stream",
     "text": [
      "\r",
      "  9%|███████▏                                                                         | 22/250 [00:04<00:45,  5.06it/s]"
     ]
    },
    {
     "name": "stdout",
     "output_type": "stream",
     "text": [
      "1/1 [==============================] - 0s 118ms/step\n"
     ]
    },
    {
     "name": "stderr",
     "output_type": "stream",
     "text": [
      "\r",
      "  9%|███████▍                                                                         | 23/250 [00:04<00:45,  4.98it/s]"
     ]
    },
    {
     "name": "stdout",
     "output_type": "stream",
     "text": [
      "1/1 [==============================] - 0s 111ms/step\n"
     ]
    },
    {
     "name": "stderr",
     "output_type": "stream",
     "text": [
      "\r",
      " 10%|███████▊                                                                         | 24/250 [00:04<00:46,  4.91it/s]"
     ]
    },
    {
     "name": "stdout",
     "output_type": "stream",
     "text": [
      "1/1 [==============================] - 0s 107ms/step\n"
     ]
    },
    {
     "name": "stderr",
     "output_type": "stream",
     "text": [
      "\r",
      " 10%|████████                                                                         | 25/250 [00:05<00:44,  5.00it/s]"
     ]
    },
    {
     "name": "stdout",
     "output_type": "stream",
     "text": [
      "1/1 [==============================] - 0s 110ms/step\n"
     ]
    },
    {
     "name": "stderr",
     "output_type": "stream",
     "text": [
      "\r",
      " 10%|████████▍                                                                        | 26/250 [00:05<00:45,  4.87it/s]"
     ]
    },
    {
     "name": "stdout",
     "output_type": "stream",
     "text": [
      "1/1 [==============================] - 0s 112ms/step\n"
     ]
    },
    {
     "name": "stderr",
     "output_type": "stream",
     "text": [
      "\r",
      " 11%|████████▋                                                                        | 27/250 [00:05<00:45,  4.93it/s]"
     ]
    },
    {
     "name": "stdout",
     "output_type": "stream",
     "text": [
      "1/1 [==============================] - 0s 132ms/step\n"
     ]
    },
    {
     "name": "stderr",
     "output_type": "stream",
     "text": [
      "\r",
      " 11%|█████████                                                                        | 28/250 [00:05<00:47,  4.69it/s]"
     ]
    },
    {
     "name": "stdout",
     "output_type": "stream",
     "text": [
      "1/1 [==============================] - 0s 120ms/step\n"
     ]
    },
    {
     "name": "stderr",
     "output_type": "stream",
     "text": [
      "\r",
      " 12%|█████████▍                                                                       | 29/250 [00:06<00:48,  4.55it/s]"
     ]
    },
    {
     "name": "stdout",
     "output_type": "stream",
     "text": [
      "1/1 [==============================] - 0s 125ms/step\n"
     ]
    },
    {
     "name": "stderr",
     "output_type": "stream",
     "text": [
      "\r",
      " 12%|█████████▋                                                                       | 30/250 [00:06<00:48,  4.56it/s]"
     ]
    },
    {
     "name": "stdout",
     "output_type": "stream",
     "text": [
      "1/1 [==============================] - 0s 111ms/step\n"
     ]
    },
    {
     "name": "stderr",
     "output_type": "stream",
     "text": [
      "\r",
      " 12%|██████████                                                                       | 31/250 [00:06<00:48,  4.55it/s]"
     ]
    },
    {
     "name": "stdout",
     "output_type": "stream",
     "text": [
      "1/1 [==============================] - 0s 110ms/step\n"
     ]
    },
    {
     "name": "stderr",
     "output_type": "stream",
     "text": [
      "\r",
      " 13%|██████████▎                                                                      | 32/250 [00:06<00:46,  4.64it/s]"
     ]
    },
    {
     "name": "stdout",
     "output_type": "stream",
     "text": [
      "1/1 [==============================] - 0s 112ms/step\n"
     ]
    },
    {
     "name": "stderr",
     "output_type": "stream",
     "text": [
      "\r",
      " 13%|██████████▋                                                                      | 33/250 [00:06<00:45,  4.73it/s]"
     ]
    },
    {
     "name": "stdout",
     "output_type": "stream",
     "text": [
      "1/1 [==============================] - 0s 120ms/step\n"
     ]
    },
    {
     "name": "stderr",
     "output_type": "stream",
     "text": [
      "\r",
      " 14%|███████████                                                                      | 34/250 [00:07<00:45,  4.79it/s]"
     ]
    },
    {
     "name": "stdout",
     "output_type": "stream",
     "text": [
      "1/1 [==============================] - 0s 117ms/step\n"
     ]
    },
    {
     "name": "stderr",
     "output_type": "stream",
     "text": [
      "\r",
      " 14%|███████████▎                                                                     | 35/250 [00:07<00:45,  4.77it/s]"
     ]
    },
    {
     "name": "stdout",
     "output_type": "stream",
     "text": [
      "1/1 [==============================] - 0s 113ms/step\n"
     ]
    },
    {
     "name": "stderr",
     "output_type": "stream",
     "text": [
      "\r",
      " 14%|███████████▋                                                                     | 36/250 [00:07<00:44,  4.83it/s]"
     ]
    },
    {
     "name": "stdout",
     "output_type": "stream",
     "text": [
      "1/1 [==============================] - 0s 112ms/step\n"
     ]
    },
    {
     "name": "stderr",
     "output_type": "stream",
     "text": [
      "\r",
      " 15%|███████████▉                                                                     | 37/250 [00:07<00:43,  4.84it/s]"
     ]
    },
    {
     "name": "stdout",
     "output_type": "stream",
     "text": [
      "1/1 [==============================] - 0s 125ms/step\n"
     ]
    },
    {
     "name": "stderr",
     "output_type": "stream",
     "text": [
      "\r",
      " 15%|████████████▎                                                                    | 38/250 [00:07<00:44,  4.81it/s]"
     ]
    },
    {
     "name": "stdout",
     "output_type": "stream",
     "text": [
      "1/1 [==============================] - 0s 104ms/step\n"
     ]
    },
    {
     "name": "stderr",
     "output_type": "stream",
     "text": [
      "\r",
      " 16%|████████████▋                                                                    | 39/250 [00:08<00:44,  4.74it/s]"
     ]
    },
    {
     "name": "stdout",
     "output_type": "stream",
     "text": [
      "1/1 [==============================] - 0s 118ms/step\n"
     ]
    },
    {
     "name": "stderr",
     "output_type": "stream",
     "text": [
      "\r",
      " 16%|████████████▉                                                                    | 40/250 [00:08<00:44,  4.75it/s]"
     ]
    },
    {
     "name": "stdout",
     "output_type": "stream",
     "text": [
      "1/1 [==============================] - 0s 128ms/step\n"
     ]
    },
    {
     "name": "stderr",
     "output_type": "stream",
     "text": [
      "\r",
      " 16%|█████████████▎                                                                   | 41/250 [00:08<00:45,  4.61it/s]"
     ]
    },
    {
     "name": "stdout",
     "output_type": "stream",
     "text": [
      "1/1 [==============================] - 0s 111ms/step\n"
     ]
    },
    {
     "name": "stderr",
     "output_type": "stream",
     "text": [
      "\r",
      " 17%|█████████████▌                                                                   | 42/250 [00:08<00:45,  4.61it/s]"
     ]
    },
    {
     "name": "stdout",
     "output_type": "stream",
     "text": [
      "1/1 [==============================] - 0s 130ms/step\n"
     ]
    },
    {
     "name": "stderr",
     "output_type": "stream",
     "text": [
      "\r",
      " 17%|█████████████▉                                                                   | 43/250 [00:09<00:44,  4.64it/s]"
     ]
    },
    {
     "name": "stdout",
     "output_type": "stream",
     "text": [
      "1/1 [==============================] - 0s 116ms/step\n"
     ]
    },
    {
     "name": "stderr",
     "output_type": "stream",
     "text": [
      "\r",
      " 18%|██████████████▎                                                                  | 44/250 [00:09<00:45,  4.54it/s]"
     ]
    },
    {
     "name": "stdout",
     "output_type": "stream",
     "text": [
      "1/1 [==============================] - 0s 110ms/step\n"
     ]
    },
    {
     "name": "stderr",
     "output_type": "stream",
     "text": [
      "\r",
      " 18%|██████████████▌                                                                  | 45/250 [00:09<00:44,  4.57it/s]"
     ]
    },
    {
     "name": "stdout",
     "output_type": "stream",
     "text": [
      "1/1 [==============================] - 0s 123ms/step\n"
     ]
    },
    {
     "name": "stderr",
     "output_type": "stream",
     "text": [
      "\r",
      " 18%|██████████████▉                                                                  | 46/250 [00:09<00:44,  4.60it/s]"
     ]
    },
    {
     "name": "stdout",
     "output_type": "stream",
     "text": [
      "1/1 [==============================] - 0s 115ms/step\n"
     ]
    },
    {
     "name": "stderr",
     "output_type": "stream",
     "text": [
      "\r",
      " 19%|███████████████▏                                                                 | 47/250 [00:09<00:42,  4.73it/s]"
     ]
    },
    {
     "name": "stdout",
     "output_type": "stream",
     "text": [
      "1/1 [==============================] - 0s 115ms/step\n"
     ]
    },
    {
     "name": "stderr",
     "output_type": "stream",
     "text": [
      "\r",
      " 19%|███████████████▌                                                                 | 48/250 [00:10<00:43,  4.69it/s]"
     ]
    },
    {
     "name": "stdout",
     "output_type": "stream",
     "text": [
      "1/1 [==============================] - 0s 111ms/step\n"
     ]
    },
    {
     "name": "stderr",
     "output_type": "stream",
     "text": [
      "\r",
      " 20%|███████████████▉                                                                 | 49/250 [00:10<00:42,  4.75it/s]"
     ]
    },
    {
     "name": "stdout",
     "output_type": "stream",
     "text": [
      "1/1 [==============================] - 0s 107ms/step\n"
     ]
    },
    {
     "name": "stderr",
     "output_type": "stream",
     "text": [
      "\r",
      " 20%|████████████████▏                                                                | 50/250 [00:10<00:42,  4.71it/s]"
     ]
    },
    {
     "name": "stdout",
     "output_type": "stream",
     "text": [
      "1/1 [==============================] - 0s 122ms/step\n"
     ]
    },
    {
     "name": "stderr",
     "output_type": "stream",
     "text": [
      "\r",
      " 20%|████████████████▌                                                                | 51/250 [00:10<00:41,  4.75it/s]"
     ]
    },
    {
     "name": "stdout",
     "output_type": "stream",
     "text": [
      "1/1 [==============================] - 0s 118ms/step\n"
     ]
    },
    {
     "name": "stderr",
     "output_type": "stream",
     "text": [
      "\r",
      " 21%|████████████████▊                                                                | 52/250 [00:10<00:41,  4.83it/s]"
     ]
    },
    {
     "name": "stdout",
     "output_type": "stream",
     "text": [
      "1/1 [==============================] - 0s 105ms/step\n"
     ]
    },
    {
     "name": "stderr",
     "output_type": "stream",
     "text": [
      "\r",
      " 21%|█████████████████▏                                                               | 53/250 [00:11<00:39,  4.99it/s]"
     ]
    },
    {
     "name": "stdout",
     "output_type": "stream",
     "text": [
      "1/1 [==============================] - 0s 127ms/step\n"
     ]
    },
    {
     "name": "stderr",
     "output_type": "stream",
     "text": [
      "\r",
      " 22%|█████████████████▍                                                               | 54/250 [00:11<00:40,  4.86it/s]"
     ]
    },
    {
     "name": "stdout",
     "output_type": "stream",
     "text": [
      "1/1 [==============================] - 0s 107ms/step\n"
     ]
    },
    {
     "name": "stderr",
     "output_type": "stream",
     "text": [
      "\r",
      " 22%|█████████████████▊                                                               | 55/250 [00:11<00:40,  4.78it/s]"
     ]
    },
    {
     "name": "stdout",
     "output_type": "stream",
     "text": [
      "1/1 [==============================] - 0s 117ms/step\n"
     ]
    },
    {
     "name": "stderr",
     "output_type": "stream",
     "text": [
      "\r",
      " 22%|██████████████████▏                                                              | 56/250 [00:11<00:40,  4.84it/s]"
     ]
    },
    {
     "name": "stdout",
     "output_type": "stream",
     "text": [
      "1/1 [==============================] - 0s 107ms/step\n"
     ]
    },
    {
     "name": "stderr",
     "output_type": "stream",
     "text": [
      "\r",
      " 23%|██████████████████▍                                                              | 57/250 [00:11<00:39,  4.88it/s]"
     ]
    },
    {
     "name": "stdout",
     "output_type": "stream",
     "text": [
      "1/1 [==============================] - 0s 100ms/step\n"
     ]
    },
    {
     "name": "stderr",
     "output_type": "stream",
     "text": [
      "\r",
      " 23%|██████████████████▊                                                              | 58/250 [00:12<00:39,  4.83it/s]"
     ]
    },
    {
     "name": "stdout",
     "output_type": "stream",
     "text": [
      "1/1 [==============================] - 0s 117ms/step\n"
     ]
    },
    {
     "name": "stderr",
     "output_type": "stream",
     "text": [
      "\r",
      " 24%|███████████████████                                                              | 59/250 [00:12<00:38,  4.96it/s]"
     ]
    },
    {
     "name": "stdout",
     "output_type": "stream",
     "text": [
      "1/1 [==============================] - 0s 116ms/step\n"
     ]
    },
    {
     "name": "stderr",
     "output_type": "stream",
     "text": [
      "\r",
      " 24%|███████████████████▍                                                             | 60/250 [00:12<00:37,  5.07it/s]"
     ]
    },
    {
     "name": "stdout",
     "output_type": "stream",
     "text": [
      "1/1 [==============================] - 0s 113ms/step\n"
     ]
    },
    {
     "name": "stderr",
     "output_type": "stream",
     "text": [
      "\r",
      " 24%|███████████████████▊                                                             | 61/250 [00:12<00:37,  5.01it/s]"
     ]
    },
    {
     "name": "stdout",
     "output_type": "stream",
     "text": [
      "1/1 [==============================] - 0s 118ms/step\n"
     ]
    },
    {
     "name": "stderr",
     "output_type": "stream",
     "text": [
      "\r",
      " 25%|████████████████████                                                             | 62/250 [00:12<00:38,  4.90it/s]"
     ]
    },
    {
     "name": "stdout",
     "output_type": "stream",
     "text": [
      "1/1 [==============================] - 0s 111ms/step\n"
     ]
    },
    {
     "name": "stderr",
     "output_type": "stream",
     "text": [
      "\r",
      " 25%|████████████████████▍                                                            | 63/250 [00:13<00:37,  4.93it/s]"
     ]
    },
    {
     "name": "stdout",
     "output_type": "stream",
     "text": [
      "1/1 [==============================] - 0s 112ms/step\n"
     ]
    },
    {
     "name": "stderr",
     "output_type": "stream",
     "text": [
      "\r",
      " 26%|████████████████████▋                                                            | 64/250 [00:13<00:37,  4.93it/s]"
     ]
    },
    {
     "name": "stdout",
     "output_type": "stream",
     "text": [
      "1/1 [==============================] - 0s 113ms/step\n"
     ]
    },
    {
     "name": "stderr",
     "output_type": "stream",
     "text": [
      "\r",
      " 26%|█████████████████████                                                            | 65/250 [00:13<00:36,  5.06it/s]"
     ]
    },
    {
     "name": "stdout",
     "output_type": "stream",
     "text": [
      "1/1 [==============================] - 0s 117ms/step\n"
     ]
    },
    {
     "name": "stderr",
     "output_type": "stream",
     "text": [
      "\r",
      " 26%|█████████████████████▍                                                           | 66/250 [00:13<00:36,  4.99it/s]"
     ]
    },
    {
     "name": "stdout",
     "output_type": "stream",
     "text": [
      "1/1 [==============================] - 0s 116ms/step\n"
     ]
    },
    {
     "name": "stderr",
     "output_type": "stream",
     "text": [
      "\r",
      " 27%|█████████████████████▋                                                           | 67/250 [00:13<00:36,  5.05it/s]"
     ]
    },
    {
     "name": "stdout",
     "output_type": "stream",
     "text": [
      "1/1 [==============================] - 0s 95ms/step\n"
     ]
    },
    {
     "name": "stderr",
     "output_type": "stream",
     "text": [
      "\r",
      " 27%|██████████████████████                                                           | 68/250 [00:14<00:37,  4.91it/s]"
     ]
    },
    {
     "name": "stdout",
     "output_type": "stream",
     "text": [
      "1/1 [==============================] - 0s 106ms/step\n"
     ]
    },
    {
     "name": "stderr",
     "output_type": "stream",
     "text": [
      "\r",
      " 28%|██████████████████████▎                                                          | 69/250 [00:14<00:36,  4.90it/s]"
     ]
    },
    {
     "name": "stdout",
     "output_type": "stream",
     "text": [
      "1/1 [==============================] - 0s 113ms/step\n"
     ]
    },
    {
     "name": "stderr",
     "output_type": "stream",
     "text": [
      "\r",
      " 28%|██████████████████████▋                                                          | 70/250 [00:14<00:36,  4.95it/s]"
     ]
    },
    {
     "name": "stdout",
     "output_type": "stream",
     "text": [
      "1/1 [==============================] - 0s 115ms/step\n"
     ]
    },
    {
     "name": "stderr",
     "output_type": "stream",
     "text": [
      "\r",
      " 28%|███████████████████████                                                          | 71/250 [00:14<00:35,  4.98it/s]"
     ]
    },
    {
     "name": "stdout",
     "output_type": "stream",
     "text": [
      "1/1 [==============================] - 0s 121ms/step\n"
     ]
    },
    {
     "name": "stderr",
     "output_type": "stream",
     "text": [
      "\r",
      " 29%|███████████████████████▎                                                         | 72/250 [00:14<00:36,  4.85it/s]"
     ]
    },
    {
     "name": "stdout",
     "output_type": "stream",
     "text": [
      "1/1 [==============================] - 0s 116ms/step\n"
     ]
    },
    {
     "name": "stderr",
     "output_type": "stream",
     "text": [
      "\r",
      " 29%|███████████████████████▋                                                         | 73/250 [00:15<00:35,  4.96it/s]"
     ]
    },
    {
     "name": "stdout",
     "output_type": "stream",
     "text": [
      "1/1 [==============================] - 0s 112ms/step\n"
     ]
    },
    {
     "name": "stderr",
     "output_type": "stream",
     "text": [
      "\r",
      " 30%|███████████████████████▉                                                         | 74/250 [00:15<00:35,  5.00it/s]"
     ]
    },
    {
     "name": "stdout",
     "output_type": "stream",
     "text": [
      "1/1 [==============================] - 0s 108ms/step\n"
     ]
    },
    {
     "name": "stderr",
     "output_type": "stream",
     "text": [
      "\r",
      " 30%|████████████████████████▎                                                        | 75/250 [00:15<00:34,  5.02it/s]"
     ]
    },
    {
     "name": "stdout",
     "output_type": "stream",
     "text": [
      "1/1 [==============================] - 0s 103ms/step\n"
     ]
    },
    {
     "name": "stderr",
     "output_type": "stream",
     "text": [
      "\r",
      " 30%|████████████████████████▌                                                        | 76/250 [00:15<00:34,  5.03it/s]"
     ]
    },
    {
     "name": "stdout",
     "output_type": "stream",
     "text": [
      "1/1 [==============================] - 0s 117ms/step\n"
     ]
    },
    {
     "name": "stderr",
     "output_type": "stream",
     "text": [
      "\r",
      " 31%|████████████████████████▉                                                        | 77/250 [00:15<00:34,  4.99it/s]"
     ]
    },
    {
     "name": "stdout",
     "output_type": "stream",
     "text": [
      "1/1 [==============================] - 0s 117ms/step\n"
     ]
    },
    {
     "name": "stderr",
     "output_type": "stream",
     "text": [
      "\r",
      " 31%|█████████████████████████▎                                                       | 78/250 [00:16<00:35,  4.85it/s]"
     ]
    },
    {
     "name": "stdout",
     "output_type": "stream",
     "text": [
      "1/1 [==============================] - 0s 113ms/step\n"
     ]
    },
    {
     "name": "stderr",
     "output_type": "stream",
     "text": [
      "\r",
      " 32%|█████████████████████████▌                                                       | 79/250 [00:16<00:35,  4.85it/s]"
     ]
    },
    {
     "name": "stdout",
     "output_type": "stream",
     "text": [
      "1/1 [==============================] - 0s 113ms/step\n"
     ]
    },
    {
     "name": "stderr",
     "output_type": "stream",
     "text": [
      "\r",
      " 32%|█████████████████████████▉                                                       | 80/250 [00:16<00:34,  4.86it/s]"
     ]
    },
    {
     "name": "stdout",
     "output_type": "stream",
     "text": [
      "1/1 [==============================] - 0s 109ms/step\n"
     ]
    },
    {
     "name": "stderr",
     "output_type": "stream",
     "text": [
      "\r",
      " 32%|██████████████████████████▏                                                      | 81/250 [00:16<00:34,  4.92it/s]"
     ]
    },
    {
     "name": "stdout",
     "output_type": "stream",
     "text": [
      "1/1 [==============================] - 0s 116ms/step\n"
     ]
    },
    {
     "name": "stderr",
     "output_type": "stream",
     "text": [
      "\r",
      " 33%|██████████████████████████▌                                                      | 82/250 [00:16<00:33,  4.95it/s]"
     ]
    },
    {
     "name": "stdout",
     "output_type": "stream",
     "text": [
      "1/1 [==============================] - 0s 105ms/step\n"
     ]
    },
    {
     "name": "stderr",
     "output_type": "stream",
     "text": [
      "\r",
      " 33%|██████████████████████████▉                                                      | 83/250 [00:17<00:33,  4.93it/s]"
     ]
    },
    {
     "name": "stdout",
     "output_type": "stream",
     "text": [
      "1/1 [==============================] - 0s 111ms/step\n"
     ]
    },
    {
     "name": "stderr",
     "output_type": "stream",
     "text": [
      "\r",
      " 34%|███████████████████████████▏                                                     | 84/250 [00:17<00:33,  4.98it/s]"
     ]
    },
    {
     "name": "stdout",
     "output_type": "stream",
     "text": [
      "1/1 [==============================] - 0s 105ms/step\n"
     ]
    },
    {
     "name": "stderr",
     "output_type": "stream",
     "text": [
      "\r",
      " 34%|███████████████████████████▌                                                     | 85/250 [00:17<00:33,  4.96it/s]"
     ]
    },
    {
     "name": "stdout",
     "output_type": "stream",
     "text": [
      "1/1 [==============================] - 0s 117ms/step\n"
     ]
    },
    {
     "name": "stderr",
     "output_type": "stream",
     "text": [
      "\r",
      " 34%|███████████████████████████▊                                                     | 86/250 [00:17<00:33,  4.95it/s]"
     ]
    },
    {
     "name": "stdout",
     "output_type": "stream",
     "text": [
      "1/1 [==============================] - 0s 117ms/step\n"
     ]
    },
    {
     "name": "stderr",
     "output_type": "stream",
     "text": [
      "\r",
      " 35%|████████████████████████████▏                                                    | 87/250 [00:18<00:33,  4.82it/s]"
     ]
    },
    {
     "name": "stdout",
     "output_type": "stream",
     "text": [
      "1/1 [==============================] - 0s 110ms/step\n"
     ]
    },
    {
     "name": "stderr",
     "output_type": "stream",
     "text": [
      "\r",
      " 35%|████████████████████████████▌                                                    | 88/250 [00:18<00:32,  4.92it/s]"
     ]
    },
    {
     "name": "stdout",
     "output_type": "stream",
     "text": [
      "1/1 [==============================] - 0s 104ms/step\n"
     ]
    },
    {
     "name": "stderr",
     "output_type": "stream",
     "text": [
      "\r",
      " 36%|████████████████████████████▊                                                    | 89/250 [00:18<00:32,  4.95it/s]"
     ]
    },
    {
     "name": "stdout",
     "output_type": "stream",
     "text": [
      "1/1 [==============================] - 0s 111ms/step\n"
     ]
    },
    {
     "name": "stderr",
     "output_type": "stream",
     "text": [
      "\r",
      " 36%|█████████████████████████████▏                                                   | 90/250 [00:18<00:32,  4.91it/s]"
     ]
    },
    {
     "name": "stdout",
     "output_type": "stream",
     "text": [
      "1/1 [==============================] - 0s 110ms/step\n"
     ]
    },
    {
     "name": "stderr",
     "output_type": "stream",
     "text": [
      "\r",
      " 36%|█████████████████████████████▍                                                   | 91/250 [00:18<00:32,  4.94it/s]"
     ]
    },
    {
     "name": "stdout",
     "output_type": "stream",
     "text": [
      "1/1 [==============================] - 0s 120ms/step\n"
     ]
    },
    {
     "name": "stderr",
     "output_type": "stream",
     "text": [
      "\r",
      " 37%|█████████████████████████████▊                                                   | 92/250 [00:19<00:32,  4.93it/s]"
     ]
    },
    {
     "name": "stdout",
     "output_type": "stream",
     "text": [
      "1/1 [==============================] - 0s 117ms/step\n"
     ]
    },
    {
     "name": "stderr",
     "output_type": "stream",
     "text": [
      "\r",
      " 37%|██████████████████████████████▏                                                  | 93/250 [00:19<00:31,  5.05it/s]"
     ]
    },
    {
     "name": "stdout",
     "output_type": "stream",
     "text": [
      "1/1 [==============================] - 0s 110ms/step\n"
     ]
    },
    {
     "name": "stderr",
     "output_type": "stream",
     "text": [
      "\r",
      " 38%|██████████████████████████████▍                                                  | 94/250 [00:19<00:30,  5.04it/s]"
     ]
    },
    {
     "name": "stdout",
     "output_type": "stream",
     "text": [
      "1/1 [==============================] - 0s 117ms/step\n"
     ]
    },
    {
     "name": "stderr",
     "output_type": "stream",
     "text": [
      "\r",
      " 38%|██████████████████████████████▊                                                  | 95/250 [00:19<00:31,  4.98it/s]"
     ]
    },
    {
     "name": "stdout",
     "output_type": "stream",
     "text": [
      "1/1 [==============================] - 0s 114ms/step\n"
     ]
    },
    {
     "name": "stderr",
     "output_type": "stream",
     "text": [
      "\r",
      " 38%|███████████████████████████████                                                  | 96/250 [00:19<00:30,  5.03it/s]"
     ]
    },
    {
     "name": "stdout",
     "output_type": "stream",
     "text": [
      "1/1 [==============================] - 0s 120ms/step\n"
     ]
    },
    {
     "name": "stderr",
     "output_type": "stream",
     "text": [
      "\r",
      " 39%|███████████████████████████████▍                                                 | 97/250 [00:20<00:31,  4.88it/s]"
     ]
    },
    {
     "name": "stdout",
     "output_type": "stream",
     "text": [
      "1/1 [==============================] - 0s 110ms/step\n"
     ]
    },
    {
     "name": "stderr",
     "output_type": "stream",
     "text": [
      "\r",
      " 39%|███████████████████████████████▊                                                 | 98/250 [00:20<00:30,  4.96it/s]"
     ]
    },
    {
     "name": "stdout",
     "output_type": "stream",
     "text": [
      "1/1 [==============================] - 0s 113ms/step\n"
     ]
    },
    {
     "name": "stderr",
     "output_type": "stream",
     "text": [
      "\r",
      " 40%|████████████████████████████████                                                 | 99/250 [00:20<00:30,  4.98it/s]"
     ]
    },
    {
     "name": "stdout",
     "output_type": "stream",
     "text": [
      "1/1 [==============================] - 0s 111ms/step\n"
     ]
    },
    {
     "name": "stderr",
     "output_type": "stream",
     "text": [
      "\r",
      " 40%|████████████████████████████████                                                | 100/250 [00:20<00:30,  4.95it/s]"
     ]
    },
    {
     "name": "stdout",
     "output_type": "stream",
     "text": [
      "1/1 [==============================] - 0s 117ms/step\n"
     ]
    },
    {
     "name": "stderr",
     "output_type": "stream",
     "text": [
      "\r",
      " 40%|████████████████████████████████▎                                               | 101/250 [00:20<00:29,  5.01it/s]"
     ]
    },
    {
     "name": "stdout",
     "output_type": "stream",
     "text": [
      "1/1 [==============================] - 0s 105ms/step\n"
     ]
    },
    {
     "name": "stderr",
     "output_type": "stream",
     "text": [
      "\r",
      " 41%|████████████████████████████████▋                                               | 102/250 [00:20<00:29,  5.05it/s]"
     ]
    },
    {
     "name": "stdout",
     "output_type": "stream",
     "text": [
      "1/1 [==============================] - 0s 106ms/step\n"
     ]
    },
    {
     "name": "stderr",
     "output_type": "stream",
     "text": [
      "\r",
      " 41%|████████████████████████████████▉                                               | 103/250 [00:21<00:28,  5.07it/s]"
     ]
    },
    {
     "name": "stdout",
     "output_type": "stream",
     "text": [
      "1/1 [==============================] - 0s 102ms/step\n"
     ]
    },
    {
     "name": "stderr",
     "output_type": "stream",
     "text": [
      "\r",
      " 42%|█████████████████████████████████▎                                              | 104/250 [00:21<00:28,  5.05it/s]"
     ]
    },
    {
     "name": "stdout",
     "output_type": "stream",
     "text": [
      "1/1 [==============================] - 0s 111ms/step\n"
     ]
    },
    {
     "name": "stderr",
     "output_type": "stream",
     "text": [
      "\r",
      " 42%|█████████████████████████████████▌                                              | 105/250 [00:21<00:28,  5.08it/s]"
     ]
    },
    {
     "name": "stdout",
     "output_type": "stream",
     "text": [
      "1/1 [==============================] - 0s 116ms/step\n"
     ]
    },
    {
     "name": "stderr",
     "output_type": "stream",
     "text": [
      "\r",
      " 42%|█████████████████████████████████▉                                              | 106/250 [00:21<00:28,  5.05it/s]"
     ]
    },
    {
     "name": "stdout",
     "output_type": "stream",
     "text": [
      "1/1 [==============================] - 0s 111ms/step\n"
     ]
    },
    {
     "name": "stderr",
     "output_type": "stream",
     "text": [
      "\r",
      " 43%|██████████████████████████████████▏                                             | 107/250 [00:21<00:28,  4.95it/s]"
     ]
    },
    {
     "name": "stdout",
     "output_type": "stream",
     "text": [
      "1/1 [==============================] - 0s 117ms/step\n"
     ]
    },
    {
     "name": "stderr",
     "output_type": "stream",
     "text": [
      "\r",
      " 43%|██████████████████████████████████▌                                             | 108/250 [00:22<00:28,  4.98it/s]"
     ]
    },
    {
     "name": "stdout",
     "output_type": "stream",
     "text": [
      "1/1 [==============================] - 0s 117ms/step\n"
     ]
    },
    {
     "name": "stderr",
     "output_type": "stream",
     "text": [
      "\r",
      " 44%|██████████████████████████████████▉                                             | 109/250 [00:22<00:28,  4.94it/s]"
     ]
    },
    {
     "name": "stdout",
     "output_type": "stream",
     "text": [
      "1/1 [==============================] - 0s 115ms/step\n"
     ]
    },
    {
     "name": "stderr",
     "output_type": "stream",
     "text": [
      "\r",
      " 44%|███████████████████████████████████▏                                            | 110/250 [00:22<00:27,  5.04it/s]"
     ]
    },
    {
     "name": "stdout",
     "output_type": "stream",
     "text": [
      "1/1 [==============================] - 0s 117ms/step\n"
     ]
    },
    {
     "name": "stderr",
     "output_type": "stream",
     "text": [
      "\r",
      " 44%|███████████████████████████████████▌                                            | 111/250 [00:22<00:27,  4.98it/s]"
     ]
    },
    {
     "name": "stdout",
     "output_type": "stream",
     "text": [
      "1/1 [==============================] - 0s 102ms/step\n"
     ]
    },
    {
     "name": "stderr",
     "output_type": "stream",
     "text": [
      "\r",
      " 45%|███████████████████████████████████▊                                            | 112/250 [00:22<00:27,  5.03it/s]"
     ]
    },
    {
     "name": "stdout",
     "output_type": "stream",
     "text": [
      "1/1 [==============================] - 0s 106ms/step\n"
     ]
    },
    {
     "name": "stderr",
     "output_type": "stream",
     "text": [
      "\r",
      " 45%|████████████████████████████████████▏                                           | 113/250 [00:23<00:27,  4.98it/s]"
     ]
    },
    {
     "name": "stdout",
     "output_type": "stream",
     "text": [
      "1/1 [==============================] - 0s 107ms/step\n"
     ]
    },
    {
     "name": "stderr",
     "output_type": "stream",
     "text": [
      "\r",
      " 46%|████████████████████████████████████▍                                           | 114/250 [00:23<00:27,  5.02it/s]"
     ]
    },
    {
     "name": "stdout",
     "output_type": "stream",
     "text": [
      "1/1 [==============================] - 0s 113ms/step\n"
     ]
    },
    {
     "name": "stderr",
     "output_type": "stream",
     "text": [
      "\r",
      " 46%|████████████████████████████████████▊                                           | 115/250 [00:23<00:27,  4.99it/s]"
     ]
    },
    {
     "name": "stdout",
     "output_type": "stream",
     "text": [
      "1/1 [==============================] - 0s 107ms/step\n"
     ]
    },
    {
     "name": "stderr",
     "output_type": "stream",
     "text": [
      "\r",
      " 46%|█████████████████████████████████████                                           | 116/250 [00:23<00:26,  5.01it/s]"
     ]
    },
    {
     "name": "stdout",
     "output_type": "stream",
     "text": [
      "1/1 [==============================] - 0s 107ms/step\n"
     ]
    },
    {
     "name": "stderr",
     "output_type": "stream",
     "text": [
      "\r",
      " 47%|█████████████████████████████████████▍                                          | 117/250 [00:24<00:27,  4.86it/s]"
     ]
    },
    {
     "name": "stdout",
     "output_type": "stream",
     "text": [
      "1/1 [==============================] - 0s 113ms/step\n"
     ]
    },
    {
     "name": "stderr",
     "output_type": "stream",
     "text": [
      "\r",
      " 47%|█████████████████████████████████████▊                                          | 118/250 [00:24<00:26,  4.89it/s]"
     ]
    },
    {
     "name": "stdout",
     "output_type": "stream",
     "text": [
      "1/1 [==============================] - 0s 119ms/step\n"
     ]
    },
    {
     "name": "stderr",
     "output_type": "stream",
     "text": [
      "\r",
      " 48%|██████████████████████████████████████                                          | 119/250 [00:24<00:26,  4.95it/s]"
     ]
    },
    {
     "name": "stdout",
     "output_type": "stream",
     "text": [
      "1/1 [==============================] - 0s 117ms/step\n"
     ]
    },
    {
     "name": "stderr",
     "output_type": "stream",
     "text": [
      "\r",
      " 48%|██████████████████████████████████████▍                                         | 120/250 [00:24<00:26,  4.88it/s]"
     ]
    },
    {
     "name": "stdout",
     "output_type": "stream",
     "text": [
      "1/1 [==============================] - 0s 113ms/step\n"
     ]
    },
    {
     "name": "stderr",
     "output_type": "stream",
     "text": [
      "\r",
      " 48%|██████████████████████████████████████▋                                         | 121/250 [00:24<00:26,  4.90it/s]"
     ]
    },
    {
     "name": "stdout",
     "output_type": "stream",
     "text": [
      "1/1 [==============================] - 0s 111ms/step\n"
     ]
    },
    {
     "name": "stderr",
     "output_type": "stream",
     "text": [
      "\r",
      " 49%|███████████████████████████████████████                                         | 122/250 [00:25<00:25,  4.93it/s]"
     ]
    },
    {
     "name": "stdout",
     "output_type": "stream",
     "text": [
      "1/1 [==============================] - 0s 110ms/step\n"
     ]
    },
    {
     "name": "stderr",
     "output_type": "stream",
     "text": [
      "\r",
      " 49%|███████████████████████████████████████▎                                        | 123/250 [00:25<00:25,  4.92it/s]"
     ]
    },
    {
     "name": "stdout",
     "output_type": "stream",
     "text": [
      "1/1 [==============================] - 0s 105ms/step\n"
     ]
    },
    {
     "name": "stderr",
     "output_type": "stream",
     "text": [
      "\r",
      " 50%|███████████████████████████████████████▋                                        | 124/250 [00:25<00:24,  5.06it/s]"
     ]
    },
    {
     "name": "stdout",
     "output_type": "stream",
     "text": [
      "1/1 [==============================] - 0s 117ms/step\n"
     ]
    },
    {
     "name": "stderr",
     "output_type": "stream",
     "text": [
      "\r",
      " 50%|████████████████████████████████████████                                        | 125/250 [00:25<00:24,  5.03it/s]"
     ]
    },
    {
     "name": "stdout",
     "output_type": "stream",
     "text": [
      "1/1 [==============================] - 0s 114ms/step\n"
     ]
    },
    {
     "name": "stderr",
     "output_type": "stream",
     "text": [
      "\r",
      " 50%|████████████████████████████████████████▎                                       | 126/250 [00:25<00:24,  4.96it/s]"
     ]
    },
    {
     "name": "stdout",
     "output_type": "stream",
     "text": [
      "1/1 [==============================] - 0s 111ms/step\n"
     ]
    },
    {
     "name": "stderr",
     "output_type": "stream",
     "text": [
      "\r",
      " 51%|████████████████████████████████████████▋                                       | 127/250 [00:26<00:24,  4.95it/s]"
     ]
    },
    {
     "name": "stdout",
     "output_type": "stream",
     "text": [
      "1/1 [==============================] - 0s 117ms/step\n"
     ]
    },
    {
     "name": "stderr",
     "output_type": "stream",
     "text": [
      "\r",
      " 51%|████████████████████████████████████████▉                                       | 128/250 [00:26<00:24,  5.02it/s]"
     ]
    },
    {
     "name": "stdout",
     "output_type": "stream",
     "text": [
      "1/1 [==============================] - 0s 110ms/step\n"
     ]
    },
    {
     "name": "stderr",
     "output_type": "stream",
     "text": [
      "\r",
      " 52%|█████████████████████████████████████████▎                                      | 129/250 [00:26<00:24,  4.97it/s]"
     ]
    },
    {
     "name": "stdout",
     "output_type": "stream",
     "text": [
      "1/1 [==============================] - 0s 111ms/step\n"
     ]
    },
    {
     "name": "stderr",
     "output_type": "stream",
     "text": [
      "\r",
      " 52%|█████████████████████████████████████████▌                                      | 130/250 [00:26<00:24,  4.99it/s]"
     ]
    },
    {
     "name": "stdout",
     "output_type": "stream",
     "text": [
      "1/1 [==============================] - 0s 119ms/step\n"
     ]
    },
    {
     "name": "stderr",
     "output_type": "stream",
     "text": [
      "\r",
      " 52%|█████████████████████████████████████████▉                                      | 131/250 [00:26<00:23,  5.01it/s]"
     ]
    },
    {
     "name": "stdout",
     "output_type": "stream",
     "text": [
      "1/1 [==============================] - 0s 113ms/step\n"
     ]
    },
    {
     "name": "stderr",
     "output_type": "stream",
     "text": [
      "\r",
      " 53%|██████████████████████████████████████████▏                                     | 132/250 [00:27<00:23,  5.07it/s]"
     ]
    },
    {
     "name": "stdout",
     "output_type": "stream",
     "text": [
      "1/1 [==============================] - 0s 116ms/step\n"
     ]
    },
    {
     "name": "stderr",
     "output_type": "stream",
     "text": [
      "\r",
      " 53%|██████████████████████████████████████████▌                                     | 133/250 [00:27<00:22,  5.13it/s]"
     ]
    },
    {
     "name": "stdout",
     "output_type": "stream",
     "text": [
      "1/1 [==============================] - 0s 117ms/step\n"
     ]
    },
    {
     "name": "stderr",
     "output_type": "stream",
     "text": [
      "\r",
      " 54%|██████████████████████████████████████████▉                                     | 134/250 [00:27<00:22,  5.10it/s]"
     ]
    },
    {
     "name": "stdout",
     "output_type": "stream",
     "text": [
      "1/1 [==============================] - 0s 107ms/step\n"
     ]
    },
    {
     "name": "stderr",
     "output_type": "stream",
     "text": [
      "\r",
      " 54%|███████████████████████████████████████████▏                                    | 135/250 [00:27<00:22,  5.11it/s]"
     ]
    },
    {
     "name": "stdout",
     "output_type": "stream",
     "text": [
      "1/1 [==============================] - 0s 95ms/step\n"
     ]
    },
    {
     "name": "stderr",
     "output_type": "stream",
     "text": [
      "\r",
      " 54%|███████████████████████████████████████████▌                                    | 136/250 [00:27<00:22,  4.98it/s]"
     ]
    },
    {
     "name": "stdout",
     "output_type": "stream",
     "text": [
      "1/1 [==============================] - 0s 103ms/step\n"
     ]
    },
    {
     "name": "stderr",
     "output_type": "stream",
     "text": [
      "\r",
      " 55%|███████████████████████████████████████████▊                                    | 137/250 [00:28<00:22,  4.98it/s]"
     ]
    },
    {
     "name": "stdout",
     "output_type": "stream",
     "text": [
      "1/1 [==============================] - 0s 111ms/step\n"
     ]
    },
    {
     "name": "stderr",
     "output_type": "stream",
     "text": [
      "\r",
      " 55%|████████████████████████████████████████████▏                                   | 138/250 [00:28<00:22,  4.98it/s]"
     ]
    },
    {
     "name": "stdout",
     "output_type": "stream",
     "text": [
      "1/1 [==============================] - 0s 111ms/step\n"
     ]
    },
    {
     "name": "stderr",
     "output_type": "stream",
     "text": [
      "\r",
      " 56%|████████████████████████████████████████████▍                                   | 139/250 [00:28<00:21,  5.06it/s]"
     ]
    },
    {
     "name": "stdout",
     "output_type": "stream",
     "text": [
      "1/1 [==============================] - 0s 122ms/step\n"
     ]
    },
    {
     "name": "stderr",
     "output_type": "stream",
     "text": [
      "\r",
      " 56%|████████████████████████████████████████████▊                                   | 140/250 [00:28<00:21,  5.02it/s]"
     ]
    },
    {
     "name": "stdout",
     "output_type": "stream",
     "text": [
      "1/1 [==============================] - 0s 126ms/step\n"
     ]
    },
    {
     "name": "stderr",
     "output_type": "stream",
     "text": [
      "\r",
      " 56%|█████████████████████████████████████████████                                   | 141/250 [00:28<00:21,  5.09it/s]"
     ]
    },
    {
     "name": "stdout",
     "output_type": "stream",
     "text": [
      "1/1 [==============================] - 0s 115ms/step\n"
     ]
    },
    {
     "name": "stderr",
     "output_type": "stream",
     "text": [
      "\r",
      " 57%|█████████████████████████████████████████████▍                                  | 142/250 [00:28<00:20,  5.20it/s]"
     ]
    },
    {
     "name": "stdout",
     "output_type": "stream",
     "text": [
      "1/1 [==============================] - 0s 107ms/step\n"
     ]
    },
    {
     "name": "stderr",
     "output_type": "stream",
     "text": [
      "\r",
      " 57%|█████████████████████████████████████████████▊                                  | 143/250 [00:29<00:20,  5.12it/s]"
     ]
    },
    {
     "name": "stdout",
     "output_type": "stream",
     "text": [
      "1/1 [==============================] - 0s 114ms/step\n"
     ]
    },
    {
     "name": "stderr",
     "output_type": "stream",
     "text": [
      "\r",
      " 58%|██████████████████████████████████████████████                                  | 144/250 [00:29<00:20,  5.06it/s]"
     ]
    },
    {
     "name": "stdout",
     "output_type": "stream",
     "text": [
      "1/1 [==============================] - 0s 111ms/step\n"
     ]
    },
    {
     "name": "stderr",
     "output_type": "stream",
     "text": [
      "\r",
      " 58%|██████████████████████████████████████████████▍                                 | 145/250 [00:29<00:20,  5.01it/s]"
     ]
    },
    {
     "name": "stdout",
     "output_type": "stream",
     "text": [
      "1/1 [==============================] - 0s 109ms/step\n"
     ]
    },
    {
     "name": "stderr",
     "output_type": "stream",
     "text": [
      "\r",
      " 58%|██████████████████████████████████████████████▋                                 | 146/250 [00:29<00:21,  4.93it/s]"
     ]
    },
    {
     "name": "stdout",
     "output_type": "stream",
     "text": [
      "1/1 [==============================] - 0s 112ms/step\n"
     ]
    },
    {
     "name": "stderr",
     "output_type": "stream",
     "text": [
      "\r",
      " 59%|███████████████████████████████████████████████                                 | 147/250 [00:29<00:20,  5.00it/s]"
     ]
    },
    {
     "name": "stdout",
     "output_type": "stream",
     "text": [
      "1/1 [==============================] - 0s 110ms/step\n"
     ]
    },
    {
     "name": "stderr",
     "output_type": "stream",
     "text": [
      "\r",
      " 59%|███████████████████████████████████████████████▎                                | 148/250 [00:30<00:20,  5.02it/s]"
     ]
    },
    {
     "name": "stdout",
     "output_type": "stream",
     "text": [
      "1/1 [==============================] - 0s 117ms/step\n"
     ]
    },
    {
     "name": "stderr",
     "output_type": "stream",
     "text": [
      "\r",
      " 60%|███████████████████████████████████████████████▋                                | 149/250 [00:30<00:19,  5.11it/s]"
     ]
    },
    {
     "name": "stdout",
     "output_type": "stream",
     "text": [
      "1/1 [==============================] - 0s 111ms/step\n"
     ]
    },
    {
     "name": "stderr",
     "output_type": "stream",
     "text": [
      "\r",
      " 60%|████████████████████████████████████████████████                                | 150/250 [00:30<00:19,  5.08it/s]"
     ]
    },
    {
     "name": "stdout",
     "output_type": "stream",
     "text": [
      "1/1 [==============================] - 0s 111ms/step\n"
     ]
    },
    {
     "name": "stderr",
     "output_type": "stream",
     "text": [
      "\r",
      " 60%|████████████████████████████████████████████████▎                               | 151/250 [00:30<00:20,  4.92it/s]"
     ]
    },
    {
     "name": "stdout",
     "output_type": "stream",
     "text": [
      "1/1 [==============================] - 0s 126ms/step\n"
     ]
    },
    {
     "name": "stderr",
     "output_type": "stream",
     "text": [
      "\r",
      " 61%|████████████████████████████████████████████████▋                               | 152/250 [00:31<00:20,  4.83it/s]"
     ]
    },
    {
     "name": "stdout",
     "output_type": "stream",
     "text": [
      "1/1 [==============================] - 0s 111ms/step\n"
     ]
    },
    {
     "name": "stderr",
     "output_type": "stream",
     "text": [
      "\r",
      " 61%|████████████████████████████████████████████████▉                               | 153/250 [00:31<00:19,  4.86it/s]"
     ]
    },
    {
     "name": "stdout",
     "output_type": "stream",
     "text": [
      "1/1 [==============================] - 0s 111ms/step\n"
     ]
    },
    {
     "name": "stderr",
     "output_type": "stream",
     "text": [
      "\r",
      " 62%|█████████████████████████████████████████████████▎                              | 154/250 [00:31<00:19,  4.94it/s]"
     ]
    },
    {
     "name": "stdout",
     "output_type": "stream",
     "text": [
      "1/1 [==============================] - 0s 118ms/step\n"
     ]
    },
    {
     "name": "stderr",
     "output_type": "stream",
     "text": [
      "\r",
      " 62%|█████████████████████████████████████████████████▌                              | 155/250 [00:31<00:19,  4.82it/s]"
     ]
    },
    {
     "name": "stdout",
     "output_type": "stream",
     "text": [
      "1/1 [==============================] - 0s 112ms/step\n"
     ]
    },
    {
     "name": "stderr",
     "output_type": "stream",
     "text": [
      "\r",
      " 62%|█████████████████████████████████████████████████▉                              | 156/250 [00:31<00:19,  4.87it/s]"
     ]
    },
    {
     "name": "stdout",
     "output_type": "stream",
     "text": [
      "1/1 [==============================] - 0s 122ms/step\n"
     ]
    },
    {
     "name": "stderr",
     "output_type": "stream",
     "text": [
      "\r",
      " 63%|██████████████████████████████████████████████████▏                             | 157/250 [00:32<00:19,  4.87it/s]"
     ]
    },
    {
     "name": "stdout",
     "output_type": "stream",
     "text": [
      "1/1 [==============================] - 0s 115ms/step\n"
     ]
    },
    {
     "name": "stderr",
     "output_type": "stream",
     "text": [
      "\r",
      " 63%|██████████████████████████████████████████████████▌                             | 158/250 [00:32<00:19,  4.78it/s]"
     ]
    },
    {
     "name": "stdout",
     "output_type": "stream",
     "text": [
      "1/1 [==============================] - 0s 111ms/step\n"
     ]
    },
    {
     "name": "stderr",
     "output_type": "stream",
     "text": [
      "\r",
      " 64%|██████████████████████████████████████████████████▉                             | 159/250 [00:32<00:18,  5.00it/s]"
     ]
    },
    {
     "name": "stdout",
     "output_type": "stream",
     "text": [
      "1/1 [==============================] - 0s 111ms/step\n"
     ]
    },
    {
     "name": "stderr",
     "output_type": "stream",
     "text": [
      "\r",
      " 64%|███████████████████████████████████████████████████▏                            | 160/250 [00:32<00:18,  4.96it/s]"
     ]
    },
    {
     "name": "stdout",
     "output_type": "stream",
     "text": [
      "1/1 [==============================] - 0s 112ms/step\n"
     ]
    },
    {
     "name": "stderr",
     "output_type": "stream",
     "text": [
      "\r",
      " 64%|███████████████████████████████████████████████████▌                            | 161/250 [00:32<00:18,  4.93it/s]"
     ]
    },
    {
     "name": "stdout",
     "output_type": "stream",
     "text": [
      "1/1 [==============================] - 0s 111ms/step\n"
     ]
    },
    {
     "name": "stderr",
     "output_type": "stream",
     "text": [
      "\r",
      " 65%|███████████████████████████████████████████████████▊                            | 162/250 [00:33<00:17,  4.93it/s]"
     ]
    },
    {
     "name": "stdout",
     "output_type": "stream",
     "text": [
      "1/1 [==============================] - 0s 110ms/step\n"
     ]
    },
    {
     "name": "stderr",
     "output_type": "stream",
     "text": [
      "\r",
      " 65%|████████████████████████████████████████████████████▏                           | 163/250 [00:33<00:17,  4.93it/s]"
     ]
    },
    {
     "name": "stdout",
     "output_type": "stream",
     "text": [
      "1/1 [==============================] - 0s 117ms/step\n"
     ]
    },
    {
     "name": "stderr",
     "output_type": "stream",
     "text": [
      "\r",
      " 66%|████████████████████████████████████████████████████▍                           | 164/250 [00:33<00:17,  4.93it/s]"
     ]
    },
    {
     "name": "stdout",
     "output_type": "stream",
     "text": [
      "1/1 [==============================] - 0s 110ms/step\n"
     ]
    },
    {
     "name": "stderr",
     "output_type": "stream",
     "text": [
      "\r",
      " 66%|████████████████████████████████████████████████████▊                           | 165/250 [00:33<00:17,  4.96it/s]"
     ]
    },
    {
     "name": "stdout",
     "output_type": "stream",
     "text": [
      "1/1 [==============================] - 0s 126ms/step\n"
     ]
    },
    {
     "name": "stderr",
     "output_type": "stream",
     "text": [
      "\r",
      " 66%|█████████████████████████████████████████████████████                           | 166/250 [00:33<00:17,  4.93it/s]"
     ]
    },
    {
     "name": "stdout",
     "output_type": "stream",
     "text": [
      "1/1 [==============================] - 0s 101ms/step\n"
     ]
    },
    {
     "name": "stderr",
     "output_type": "stream",
     "text": [
      "\r",
      " 67%|█████████████████████████████████████████████████████▍                          | 167/250 [00:34<00:16,  4.91it/s]"
     ]
    },
    {
     "name": "stdout",
     "output_type": "stream",
     "text": [
      "1/1 [==============================] - 0s 111ms/step\n"
     ]
    },
    {
     "name": "stderr",
     "output_type": "stream",
     "text": [
      "\r",
      " 67%|█████████████████████████████████████████████████████▊                          | 168/250 [00:34<00:16,  4.94it/s]"
     ]
    },
    {
     "name": "stdout",
     "output_type": "stream",
     "text": [
      "1/1 [==============================] - 0s 115ms/step\n"
     ]
    },
    {
     "name": "stderr",
     "output_type": "stream",
     "text": [
      "\r",
      " 68%|██████████████████████████████████████████████████████                          | 169/250 [00:34<00:16,  5.02it/s]"
     ]
    },
    {
     "name": "stdout",
     "output_type": "stream",
     "text": [
      "1/1 [==============================] - 0s 117ms/step\n"
     ]
    },
    {
     "name": "stderr",
     "output_type": "stream",
     "text": [
      "\r",
      " 68%|██████████████████████████████████████████████████████▍                         | 170/250 [00:34<00:16,  5.00it/s]"
     ]
    },
    {
     "name": "stdout",
     "output_type": "stream",
     "text": [
      "1/1 [==============================] - 0s 110ms/step\n"
     ]
    },
    {
     "name": "stderr",
     "output_type": "stream",
     "text": [
      "\r",
      " 68%|██████████████████████████████████████████████████████▋                         | 171/250 [00:34<00:16,  4.92it/s]"
     ]
    },
    {
     "name": "stdout",
     "output_type": "stream",
     "text": [
      "1/1 [==============================] - 0s 113ms/step\n"
     ]
    },
    {
     "name": "stderr",
     "output_type": "stream",
     "text": [
      "\r",
      " 69%|███████████████████████████████████████████████████████                         | 172/250 [00:35<00:15,  4.94it/s]"
     ]
    },
    {
     "name": "stdout",
     "output_type": "stream",
     "text": [
      "1/1 [==============================] - 0s 118ms/step\n"
     ]
    },
    {
     "name": "stderr",
     "output_type": "stream",
     "text": [
      "\r",
      " 69%|███████████████████████████████████████████████████████▎                        | 173/250 [00:35<00:15,  4.93it/s]"
     ]
    },
    {
     "name": "stdout",
     "output_type": "stream",
     "text": [
      "1/1 [==============================] - 0s 109ms/step\n"
     ]
    },
    {
     "name": "stderr",
     "output_type": "stream",
     "text": [
      "\r",
      " 70%|███████████████████████████████████████████████████████▋                        | 174/250 [00:35<00:15,  4.99it/s]"
     ]
    },
    {
     "name": "stdout",
     "output_type": "stream",
     "text": [
      "1/1 [==============================] - 0s 111ms/step\n"
     ]
    },
    {
     "name": "stderr",
     "output_type": "stream",
     "text": [
      "\r",
      " 70%|████████████████████████████████████████████████████████                        | 175/250 [00:35<00:15,  4.90it/s]"
     ]
    },
    {
     "name": "stdout",
     "output_type": "stream",
     "text": [
      "1/1 [==============================] - 0s 105ms/step\n"
     ]
    },
    {
     "name": "stderr",
     "output_type": "stream",
     "text": [
      "\r",
      " 70%|████████████████████████████████████████████████████████▎                       | 176/250 [00:35<00:15,  4.88it/s]"
     ]
    },
    {
     "name": "stdout",
     "output_type": "stream",
     "text": [
      "1/1 [==============================] - 0s 118ms/step\n"
     ]
    },
    {
     "name": "stderr",
     "output_type": "stream",
     "text": [
      "\r",
      " 71%|████████████████████████████████████████████████████████▋                       | 177/250 [00:36<00:14,  4.90it/s]"
     ]
    },
    {
     "name": "stdout",
     "output_type": "stream",
     "text": [
      "1/1 [==============================] - 0s 110ms/step\n"
     ]
    },
    {
     "name": "stderr",
     "output_type": "stream",
     "text": [
      "\r",
      " 71%|████████████████████████████████████████████████████████▉                       | 178/250 [00:36<00:14,  4.98it/s]"
     ]
    },
    {
     "name": "stdout",
     "output_type": "stream",
     "text": [
      "1/1 [==============================] - 0s 117ms/step\n"
     ]
    },
    {
     "name": "stderr",
     "output_type": "stream",
     "text": [
      "\r",
      " 72%|█████████████████████████████████████████████████████████▎                      | 179/250 [00:36<00:14,  4.94it/s]"
     ]
    },
    {
     "name": "stdout",
     "output_type": "stream",
     "text": [
      "1/1 [==============================] - 0s 115ms/step\n"
     ]
    },
    {
     "name": "stderr",
     "output_type": "stream",
     "text": [
      "\r",
      " 72%|█████████████████████████████████████████████████████████▌                      | 180/250 [00:36<00:14,  4.95it/s]"
     ]
    },
    {
     "name": "stdout",
     "output_type": "stream",
     "text": [
      "1/1 [==============================] - 0s 111ms/step\n"
     ]
    },
    {
     "name": "stderr",
     "output_type": "stream",
     "text": [
      "\r",
      " 72%|█████████████████████████████████████████████████████████▉                      | 181/250 [00:36<00:13,  4.95it/s]"
     ]
    },
    {
     "name": "stdout",
     "output_type": "stream",
     "text": [
      "1/1 [==============================] - 0s 116ms/step\n"
     ]
    },
    {
     "name": "stderr",
     "output_type": "stream",
     "text": [
      "\r",
      " 73%|██████████████████████████████████████████████████████████▏                     | 182/250 [00:37<00:13,  4.91it/s]"
     ]
    },
    {
     "name": "stdout",
     "output_type": "stream",
     "text": [
      "1/1 [==============================] - 0s 112ms/step\n"
     ]
    },
    {
     "name": "stderr",
     "output_type": "stream",
     "text": [
      "\r",
      " 73%|██████████████████████████████████████████████████████████▌                     | 183/250 [00:37<00:13,  4.97it/s]"
     ]
    },
    {
     "name": "stdout",
     "output_type": "stream",
     "text": [
      "1/1 [==============================] - 0s 117ms/step\n"
     ]
    },
    {
     "name": "stderr",
     "output_type": "stream",
     "text": [
      "\r",
      " 74%|██████████████████████████████████████████████████████████▉                     | 184/250 [00:37<00:13,  5.01it/s]"
     ]
    },
    {
     "name": "stdout",
     "output_type": "stream",
     "text": [
      "1/1 [==============================] - 0s 117ms/step\n"
     ]
    },
    {
     "name": "stderr",
     "output_type": "stream",
     "text": [
      "\r",
      " 74%|███████████████████████████████████████████████████████████▏                    | 185/250 [00:37<00:13,  4.90it/s]"
     ]
    },
    {
     "name": "stdout",
     "output_type": "stream",
     "text": [
      "1/1 [==============================] - 0s 115ms/step\n"
     ]
    },
    {
     "name": "stderr",
     "output_type": "stream",
     "text": [
      "\r",
      " 74%|███████████████████████████████████████████████████████████▌                    | 186/250 [00:37<00:12,  4.94it/s]"
     ]
    },
    {
     "name": "stdout",
     "output_type": "stream",
     "text": [
      "1/1 [==============================] - 0s 106ms/step\n"
     ]
    },
    {
     "name": "stderr",
     "output_type": "stream",
     "text": [
      "\r",
      " 75%|███████████████████████████████████████████████████████████▊                    | 187/250 [00:38<00:12,  4.96it/s]"
     ]
    },
    {
     "name": "stdout",
     "output_type": "stream",
     "text": [
      "1/1 [==============================] - 0s 111ms/step\n"
     ]
    },
    {
     "name": "stderr",
     "output_type": "stream",
     "text": [
      "\r",
      " 75%|████████████████████████████████████████████████████████████▏                   | 188/250 [00:38<00:12,  5.00it/s]"
     ]
    },
    {
     "name": "stdout",
     "output_type": "stream",
     "text": [
      "1/1 [==============================] - 0s 112ms/step\n"
     ]
    },
    {
     "name": "stderr",
     "output_type": "stream",
     "text": [
      "\r",
      " 76%|████████████████████████████████████████████████████████████▍                   | 189/250 [00:38<00:12,  4.99it/s]"
     ]
    },
    {
     "name": "stdout",
     "output_type": "stream",
     "text": [
      "1/1 [==============================] - 0s 112ms/step\n"
     ]
    },
    {
     "name": "stderr",
     "output_type": "stream",
     "text": [
      "\r",
      " 76%|████████████████████████████████████████████████████████████▊                   | 190/250 [00:38<00:12,  4.99it/s]"
     ]
    },
    {
     "name": "stdout",
     "output_type": "stream",
     "text": [
      "1/1 [==============================] - 0s 120ms/step\n"
     ]
    },
    {
     "name": "stderr",
     "output_type": "stream",
     "text": [
      "\r",
      " 76%|█████████████████████████████████████████████████████████████                   | 191/250 [00:38<00:11,  5.01it/s]"
     ]
    },
    {
     "name": "stdout",
     "output_type": "stream",
     "text": [
      "1/1 [==============================] - 0s 121ms/step\n"
     ]
    },
    {
     "name": "stderr",
     "output_type": "stream",
     "text": [
      "\r",
      " 77%|█████████████████████████████████████████████████████████████▍                  | 192/250 [00:39<00:11,  4.98it/s]"
     ]
    },
    {
     "name": "stdout",
     "output_type": "stream",
     "text": [
      "1/1 [==============================] - 0s 118ms/step\n"
     ]
    },
    {
     "name": "stderr",
     "output_type": "stream",
     "text": [
      "\r",
      " 77%|█████████████████████████████████████████████████████████████▊                  | 193/250 [00:39<00:11,  5.01it/s]"
     ]
    },
    {
     "name": "stdout",
     "output_type": "stream",
     "text": [
      "1/1 [==============================] - 0s 116ms/step\n"
     ]
    },
    {
     "name": "stderr",
     "output_type": "stream",
     "text": [
      "\r",
      " 78%|██████████████████████████████████████████████████████████████                  | 194/250 [00:39<00:11,  4.86it/s]"
     ]
    },
    {
     "name": "stdout",
     "output_type": "stream",
     "text": [
      "1/1 [==============================] - 0s 117ms/step\n"
     ]
    },
    {
     "name": "stderr",
     "output_type": "stream",
     "text": [
      "\r",
      " 78%|██████████████████████████████████████████████████████████████▍                 | 195/250 [00:39<00:11,  4.87it/s]"
     ]
    },
    {
     "name": "stdout",
     "output_type": "stream",
     "text": [
      "1/1 [==============================] - 0s 114ms/step\n"
     ]
    },
    {
     "name": "stderr",
     "output_type": "stream",
     "text": [
      "\r",
      " 78%|██████████████████████████████████████████████████████████████▋                 | 196/250 [00:39<00:10,  4.96it/s]"
     ]
    },
    {
     "name": "stdout",
     "output_type": "stream",
     "text": [
      "1/1 [==============================] - 0s 113ms/step\n"
     ]
    },
    {
     "name": "stderr",
     "output_type": "stream",
     "text": [
      "\r",
      " 79%|███████████████████████████████████████████████████████████████                 | 197/250 [00:40<00:10,  5.03it/s]"
     ]
    },
    {
     "name": "stdout",
     "output_type": "stream",
     "text": [
      "1/1 [==============================] - 0s 115ms/step\n"
     ]
    },
    {
     "name": "stderr",
     "output_type": "stream",
     "text": [
      "\r",
      " 79%|███████████████████████████████████████████████████████████████▎                | 198/250 [00:40<00:10,  5.00it/s]"
     ]
    },
    {
     "name": "stdout",
     "output_type": "stream",
     "text": [
      "1/1 [==============================] - 0s 120ms/step\n"
     ]
    },
    {
     "name": "stderr",
     "output_type": "stream",
     "text": [
      "\r",
      " 80%|███████████████████████████████████████████████████████████████▋                | 199/250 [00:40<00:10,  4.95it/s]"
     ]
    },
    {
     "name": "stdout",
     "output_type": "stream",
     "text": [
      "1/1 [==============================] - 0s 111ms/step\n"
     ]
    },
    {
     "name": "stderr",
     "output_type": "stream",
     "text": [
      "\r",
      " 80%|████████████████████████████████████████████████████████████████                | 200/250 [00:40<00:10,  4.97it/s]"
     ]
    },
    {
     "name": "stdout",
     "output_type": "stream",
     "text": [
      "1/1 [==============================] - 0s 107ms/step\n"
     ]
    },
    {
     "name": "stderr",
     "output_type": "stream",
     "text": [
      "\r",
      " 80%|████████████████████████████████████████████████████████████████▎               | 201/250 [00:40<00:09,  4.99it/s]"
     ]
    },
    {
     "name": "stdout",
     "output_type": "stream",
     "text": [
      "1/1 [==============================] - 0s 108ms/step\n"
     ]
    },
    {
     "name": "stderr",
     "output_type": "stream",
     "text": [
      "\r",
      " 81%|████████████████████████████████████████████████████████████████▋               | 202/250 [00:41<00:09,  4.96it/s]"
     ]
    },
    {
     "name": "stdout",
     "output_type": "stream",
     "text": [
      "1/1 [==============================] - 0s 110ms/step\n"
     ]
    },
    {
     "name": "stderr",
     "output_type": "stream",
     "text": [
      "\r",
      " 81%|████████████████████████████████████████████████████████████████▉               | 203/250 [00:41<00:09,  4.98it/s]"
     ]
    },
    {
     "name": "stdout",
     "output_type": "stream",
     "text": [
      "1/1 [==============================] - 0s 107ms/step\n"
     ]
    },
    {
     "name": "stderr",
     "output_type": "stream",
     "text": [
      "\r",
      " 82%|█████████████████████████████████████████████████████████████████▎              | 204/250 [00:41<00:09,  4.98it/s]"
     ]
    },
    {
     "name": "stdout",
     "output_type": "stream",
     "text": [
      "1/1 [==============================] - 0s 109ms/step\n"
     ]
    },
    {
     "name": "stderr",
     "output_type": "stream",
     "text": [
      "\r",
      " 82%|█████████████████████████████████████████████████████████████████▌              | 205/250 [00:41<00:09,  4.95it/s]"
     ]
    },
    {
     "name": "stdout",
     "output_type": "stream",
     "text": [
      "1/1 [==============================] - 0s 113ms/step\n"
     ]
    },
    {
     "name": "stderr",
     "output_type": "stream",
     "text": [
      "\r",
      " 82%|█████████████████████████████████████████████████████████████████▉              | 206/250 [00:41<00:08,  4.98it/s]"
     ]
    },
    {
     "name": "stdout",
     "output_type": "stream",
     "text": [
      "1/1 [==============================] - 0s 111ms/step\n"
     ]
    },
    {
     "name": "stderr",
     "output_type": "stream",
     "text": [
      "\r",
      " 83%|██████████████████████████████████████████████████████████████████▏             | 207/250 [00:42<00:08,  5.06it/s]"
     ]
    },
    {
     "name": "stdout",
     "output_type": "stream",
     "text": [
      "1/1 [==============================] - 0s 122ms/step\n"
     ]
    },
    {
     "name": "stderr",
     "output_type": "stream",
     "text": [
      "\r",
      " 83%|██████████████████████████████████████████████████████████████████▌             | 208/250 [00:42<00:08,  4.86it/s]"
     ]
    },
    {
     "name": "stdout",
     "output_type": "stream",
     "text": [
      "1/1 [==============================] - 0s 126ms/step\n"
     ]
    },
    {
     "name": "stderr",
     "output_type": "stream",
     "text": [
      "\r",
      " 84%|██████████████████████████████████████████████████████████████████▉             | 209/250 [00:42<00:08,  4.76it/s]"
     ]
    },
    {
     "name": "stdout",
     "output_type": "stream",
     "text": [
      "1/1 [==============================] - 0s 106ms/step\n"
     ]
    },
    {
     "name": "stderr",
     "output_type": "stream",
     "text": [
      "\r",
      " 84%|███████████████████████████████████████████████████████████████████▏            | 210/250 [00:42<00:08,  4.96it/s]"
     ]
    },
    {
     "name": "stdout",
     "output_type": "stream",
     "text": [
      "1/1 [==============================] - 0s 134ms/step\n"
     ]
    },
    {
     "name": "stderr",
     "output_type": "stream",
     "text": [
      "\r",
      " 84%|███████████████████████████████████████████████████████████████████▌            | 211/250 [00:42<00:08,  4.81it/s]"
     ]
    },
    {
     "name": "stdout",
     "output_type": "stream",
     "text": [
      "1/1 [==============================] - 0s 130ms/step\n"
     ]
    },
    {
     "name": "stderr",
     "output_type": "stream",
     "text": [
      "\r",
      " 85%|███████████████████████████████████████████████████████████████████▊            | 212/250 [00:43<00:07,  4.75it/s]"
     ]
    },
    {
     "name": "stdout",
     "output_type": "stream",
     "text": [
      "1/1 [==============================] - 0s 127ms/step\n"
     ]
    },
    {
     "name": "stderr",
     "output_type": "stream",
     "text": [
      "\r",
      " 85%|████████████████████████████████████████████████████████████████████▏           | 213/250 [00:43<00:07,  4.74it/s]"
     ]
    },
    {
     "name": "stdout",
     "output_type": "stream",
     "text": [
      "1/1 [==============================] - 0s 121ms/step\n"
     ]
    },
    {
     "name": "stderr",
     "output_type": "stream",
     "text": [
      "\r",
      " 86%|████████████████████████████████████████████████████████████████████▍           | 214/250 [00:43<00:07,  4.54it/s]"
     ]
    },
    {
     "name": "stdout",
     "output_type": "stream",
     "text": [
      "1/1 [==============================] - 0s 100ms/step\n"
     ]
    },
    {
     "name": "stderr",
     "output_type": "stream",
     "text": [
      "\r",
      " 86%|████████████████████████████████████████████████████████████████████▊           | 215/250 [00:43<00:07,  4.59it/s]"
     ]
    },
    {
     "name": "stdout",
     "output_type": "stream",
     "text": [
      "1/1 [==============================] - 0s 116ms/step\n"
     ]
    },
    {
     "name": "stderr",
     "output_type": "stream",
     "text": [
      "\r",
      " 86%|█████████████████████████████████████████████████████████████████████           | 216/250 [00:44<00:07,  4.70it/s]"
     ]
    },
    {
     "name": "stdout",
     "output_type": "stream",
     "text": [
      "1/1 [==============================] - 0s 106ms/step\n"
     ]
    },
    {
     "name": "stderr",
     "output_type": "stream",
     "text": [
      "\r",
      " 87%|█████████████████████████████████████████████████████████████████████▍          | 217/250 [00:44<00:06,  4.94it/s]"
     ]
    },
    {
     "name": "stdout",
     "output_type": "stream",
     "text": [
      "1/1 [==============================] - 0s 125ms/step\n"
     ]
    },
    {
     "name": "stderr",
     "output_type": "stream",
     "text": [
      "\r",
      " 87%|█████████████████████████████████████████████████████████████████████▊          | 218/250 [00:44<00:06,  4.90it/s]"
     ]
    },
    {
     "name": "stdout",
     "output_type": "stream",
     "text": [
      "1/1 [==============================] - 0s 117ms/step\n"
     ]
    },
    {
     "name": "stderr",
     "output_type": "stream",
     "text": [
      "\r",
      " 88%|██████████████████████████████████████████████████████████████████████          | 219/250 [00:44<00:06,  4.93it/s]"
     ]
    },
    {
     "name": "stdout",
     "output_type": "stream",
     "text": [
      "1/1 [==============================] - 0s 110ms/step\n"
     ]
    },
    {
     "name": "stderr",
     "output_type": "stream",
     "text": [
      "\r",
      " 88%|██████████████████████████████████████████████████████████████████████▍         | 220/250 [00:44<00:06,  5.00it/s]"
     ]
    },
    {
     "name": "stdout",
     "output_type": "stream",
     "text": [
      "1/1 [==============================] - 0s 98ms/step\n"
     ]
    },
    {
     "name": "stderr",
     "output_type": "stream",
     "text": [
      "\r",
      " 88%|██████████████████████████████████████████████████████████████████████▋         | 221/250 [00:45<00:05,  5.04it/s]"
     ]
    },
    {
     "name": "stdout",
     "output_type": "stream",
     "text": [
      "1/1 [==============================] - 0s 118ms/step\n"
     ]
    },
    {
     "name": "stderr",
     "output_type": "stream",
     "text": [
      "\r",
      " 89%|███████████████████████████████████████████████████████████████████████         | 222/250 [00:45<00:05,  5.14it/s]"
     ]
    },
    {
     "name": "stdout",
     "output_type": "stream",
     "text": [
      "1/1 [==============================] - 0s 112ms/step\n"
     ]
    },
    {
     "name": "stderr",
     "output_type": "stream",
     "text": [
      "\r",
      " 89%|███████████████████████████████████████████████████████████████████████▎        | 223/250 [00:45<00:05,  5.02it/s]"
     ]
    },
    {
     "name": "stdout",
     "output_type": "stream",
     "text": [
      "1/1 [==============================] - 0s 95ms/step\n"
     ]
    },
    {
     "name": "stderr",
     "output_type": "stream",
     "text": [
      "\r",
      " 90%|███████████████████████████████████████████████████████████████████████▋        | 224/250 [00:45<00:05,  5.03it/s]"
     ]
    },
    {
     "name": "stdout",
     "output_type": "stream",
     "text": [
      "1/1 [==============================] - 0s 124ms/step\n"
     ]
    },
    {
     "name": "stderr",
     "output_type": "stream",
     "text": [
      "\r",
      " 90%|████████████████████████████████████████████████████████████████████████        | 225/250 [00:45<00:05,  4.95it/s]"
     ]
    },
    {
     "name": "stdout",
     "output_type": "stream",
     "text": [
      "1/1 [==============================] - 0s 100ms/step\n"
     ]
    },
    {
     "name": "stderr",
     "output_type": "stream",
     "text": [
      "\r",
      " 90%|████████████████████████████████████████████████████████████████████████▎       | 226/250 [00:46<00:04,  5.04it/s]"
     ]
    },
    {
     "name": "stdout",
     "output_type": "stream",
     "text": [
      "1/1 [==============================] - 0s 120ms/step\n"
     ]
    },
    {
     "name": "stderr",
     "output_type": "stream",
     "text": [
      "\r",
      " 91%|████████████████████████████████████████████████████████████████████████▋       | 227/250 [00:46<00:04,  4.93it/s]"
     ]
    },
    {
     "name": "stdout",
     "output_type": "stream",
     "text": [
      "1/1 [==============================] - 0s 117ms/step\n"
     ]
    },
    {
     "name": "stderr",
     "output_type": "stream",
     "text": [
      "\r",
      " 91%|████████████████████████████████████████████████████████████████████████▉       | 228/250 [00:46<00:04,  4.79it/s]"
     ]
    },
    {
     "name": "stdout",
     "output_type": "stream",
     "text": [
      "1/1 [==============================] - 0s 127ms/step\n"
     ]
    },
    {
     "name": "stderr",
     "output_type": "stream",
     "text": [
      "\r",
      " 92%|█████████████████████████████████████████████████████████████████████████▎      | 229/250 [00:46<00:04,  4.75it/s]"
     ]
    },
    {
     "name": "stdout",
     "output_type": "stream",
     "text": [
      "1/1 [==============================] - 0s 126ms/step\n"
     ]
    },
    {
     "name": "stderr",
     "output_type": "stream",
     "text": [
      "\r",
      " 92%|█████████████████████████████████████████████████████████████████████████▌      | 230/250 [00:46<00:04,  4.81it/s]"
     ]
    },
    {
     "name": "stdout",
     "output_type": "stream",
     "text": [
      "1/1 [==============================] - 0s 95ms/step\n"
     ]
    },
    {
     "name": "stderr",
     "output_type": "stream",
     "text": [
      "\r",
      " 92%|█████████████████████████████████████████████████████████████████████████▉      | 231/250 [00:47<00:03,  4.97it/s]"
     ]
    },
    {
     "name": "stdout",
     "output_type": "stream",
     "text": [
      "1/1 [==============================] - 0s 111ms/step\n"
     ]
    },
    {
     "name": "stderr",
     "output_type": "stream",
     "text": [
      "\r",
      " 93%|██████████████████████████████████████████████████████████████████████████▏     | 232/250 [00:47<00:03,  4.88it/s]"
     ]
    },
    {
     "name": "stdout",
     "output_type": "stream",
     "text": [
      "1/1 [==============================] - 0s 112ms/step\n"
     ]
    },
    {
     "name": "stderr",
     "output_type": "stream",
     "text": [
      "\r",
      " 93%|██████████████████████████████████████████████████████████████████████████▌     | 233/250 [00:47<00:03,  4.80it/s]"
     ]
    },
    {
     "name": "stdout",
     "output_type": "stream",
     "text": [
      "1/1 [==============================] - 0s 107ms/step\n"
     ]
    },
    {
     "name": "stderr",
     "output_type": "stream",
     "text": [
      "\r",
      " 94%|██████████████████████████████████████████████████████████████████████████▉     | 234/250 [00:47<00:03,  5.01it/s]"
     ]
    },
    {
     "name": "stdout",
     "output_type": "stream",
     "text": [
      "1/1 [==============================] - 0s 111ms/step\n"
     ]
    },
    {
     "name": "stderr",
     "output_type": "stream",
     "text": [
      "\r",
      " 94%|███████████████████████████████████████████████████████████████████████████▏    | 235/250 [00:47<00:02,  5.10it/s]"
     ]
    },
    {
     "name": "stdout",
     "output_type": "stream",
     "text": [
      "1/1 [==============================] - 0s 108ms/step\n"
     ]
    },
    {
     "name": "stderr",
     "output_type": "stream",
     "text": [
      "\r",
      " 94%|███████████████████████████████████████████████████████████████████████████▌    | 236/250 [00:48<00:02,  5.18it/s]"
     ]
    },
    {
     "name": "stdout",
     "output_type": "stream",
     "text": [
      "1/1 [==============================] - 0s 116ms/step\n"
     ]
    },
    {
     "name": "stderr",
     "output_type": "stream",
     "text": [
      "\r",
      " 95%|███████████████████████████████████████████████████████████████████████████▊    | 237/250 [00:48<00:02,  5.21it/s]"
     ]
    },
    {
     "name": "stdout",
     "output_type": "stream",
     "text": [
      "1/1 [==============================] - 0s 110ms/step\n"
     ]
    },
    {
     "name": "stderr",
     "output_type": "stream",
     "text": [
      "\r",
      " 95%|████████████████████████████████████████████████████████████████████████████▏   | 238/250 [00:48<00:02,  5.16it/s]"
     ]
    },
    {
     "name": "stdout",
     "output_type": "stream",
     "text": [
      "1/1 [==============================] - 0s 117ms/step\n"
     ]
    },
    {
     "name": "stderr",
     "output_type": "stream",
     "text": [
      "\r",
      " 96%|████████████████████████████████████████████████████████████████████████████▍   | 239/250 [00:48<00:02,  5.12it/s]"
     ]
    },
    {
     "name": "stdout",
     "output_type": "stream",
     "text": [
      "1/1 [==============================] - 0s 127ms/step\n"
     ]
    },
    {
     "name": "stderr",
     "output_type": "stream",
     "text": [
      "\r",
      " 96%|████████████████████████████████████████████████████████████████████████████▊   | 240/250 [00:48<00:02,  4.82it/s]"
     ]
    },
    {
     "name": "stdout",
     "output_type": "stream",
     "text": [
      "1/1 [==============================] - 0s 126ms/step\n"
     ]
    },
    {
     "name": "stderr",
     "output_type": "stream",
     "text": [
      "\r",
      " 96%|█████████████████████████████████████████████████████████████████████████████   | 241/250 [00:49<00:01,  4.69it/s]"
     ]
    },
    {
     "name": "stdout",
     "output_type": "stream",
     "text": [
      "1/1 [==============================] - 0s 113ms/step\n"
     ]
    },
    {
     "name": "stderr",
     "output_type": "stream",
     "text": [
      "\r",
      " 97%|█████████████████████████████████████████████████████████████████████████████▍  | 242/250 [00:49<00:01,  4.77it/s]"
     ]
    },
    {
     "name": "stdout",
     "output_type": "stream",
     "text": [
      "1/1 [==============================] - 0s 111ms/step\n"
     ]
    },
    {
     "name": "stderr",
     "output_type": "stream",
     "text": [
      "\r",
      " 97%|█████████████████████████████████████████████████████████████████████████████▊  | 243/250 [00:49<00:01,  4.75it/s]"
     ]
    },
    {
     "name": "stdout",
     "output_type": "stream",
     "text": [
      "1/1 [==============================] - 0s 113ms/step\n"
     ]
    },
    {
     "name": "stderr",
     "output_type": "stream",
     "text": [
      "\r",
      " 98%|██████████████████████████████████████████████████████████████████████████████  | 244/250 [00:49<00:01,  4.82it/s]"
     ]
    },
    {
     "name": "stdout",
     "output_type": "stream",
     "text": [
      "1/1 [==============================] - 0s 112ms/step\n"
     ]
    },
    {
     "name": "stderr",
     "output_type": "stream",
     "text": [
      "\r",
      " 98%|██████████████████████████████████████████████████████████████████████████████▍ | 245/250 [00:49<00:01,  4.87it/s]"
     ]
    },
    {
     "name": "stdout",
     "output_type": "stream",
     "text": [
      "1/1 [==============================] - 0s 120ms/step\n"
     ]
    },
    {
     "name": "stderr",
     "output_type": "stream",
     "text": [
      "\r",
      " 98%|██████████████████████████████████████████████████████████████████████████████▋ | 246/250 [00:50<00:00,  4.80it/s]"
     ]
    },
    {
     "name": "stdout",
     "output_type": "stream",
     "text": [
      "1/1 [==============================] - 0s 122ms/step\n"
     ]
    },
    {
     "name": "stderr",
     "output_type": "stream",
     "text": [
      "\r",
      " 99%|███████████████████████████████████████████████████████████████████████████████ | 247/250 [00:50<00:00,  4.92it/s]"
     ]
    },
    {
     "name": "stdout",
     "output_type": "stream",
     "text": [
      "1/1 [==============================] - 0s 106ms/step\n"
     ]
    },
    {
     "name": "stderr",
     "output_type": "stream",
     "text": [
      "\r",
      " 99%|███████████████████████████████████████████████████████████████████████████████▎| 248/250 [00:50<00:00,  5.04it/s]"
     ]
    },
    {
     "name": "stdout",
     "output_type": "stream",
     "text": [
      "1/1 [==============================] - 0s 100ms/step\n"
     ]
    },
    {
     "name": "stderr",
     "output_type": "stream",
     "text": [
      "\r",
      "100%|███████████████████████████████████████████████████████████████████████████████▋| 249/250 [00:50<00:00,  5.09it/s]"
     ]
    },
    {
     "name": "stdout",
     "output_type": "stream",
     "text": [
      "1/1 [==============================] - 0s 116ms/step\n"
     ]
    },
    {
     "name": "stderr",
     "output_type": "stream",
     "text": [
      "100%|████████████████████████████████████████████████████████████████████████████████| 250/250 [00:50<00:00,  4.91it/s]\n"
     ]
    }
   ],
   "source": [
    "class_prediction=predict_class(2020)"
   ]
  },
  {
   "cell_type": "code",
   "execution_count": 207,
   "id": "32fd20ed",
   "metadata": {},
   "outputs": [
    {
     "data": {
      "text/plain": [
       "[['Manny Bates', 0.9983765],\n",
       " ['Vernon Carey, Jr.', 0.53258795],\n",
       " ['Onyeka Okongwu', 0.46456963],\n",
       " ['Isaiah Stewart II', 0.4288087],\n",
       " ['Payton Pritchard', 0.3713525],\n",
       " ['Precious Achiuwa', 0.35770962],\n",
       " ['Zeke Nnaji', 0.3489837],\n",
       " ['Obi Toppin', 0.30591163],\n",
       " ['Ethan Stair', 0.29508993],\n",
       " ['Kofi Cockburn', 0.2843273],\n",
       " ['Filip Petrusev', 0.2792525],\n",
       " ['Devon Dotson', 0.2404322],\n",
       " ['Carlik Jones', 0.23980641],\n",
       " ['Reggie Perry', 0.23257229],\n",
       " ['Anthony Edwards', 0.22674082],\n",
       " ['Tyler Bey', 0.21916585],\n",
       " ['Jalen Harris', 0.21633168],\n",
       " ['Jalen Harris', 0.21633168],\n",
       " ['Jhivvan Jackson', 0.21136874],\n",
       " ['Daniel Oturu', 0.2034749],\n",
       " ['Ben Stanley', 0.19591264],\n",
       " ['Mason Jones', 0.18715617],\n",
       " ['Grant Riller', 0.17670451],\n",
       " ['Jayden Gardner', 0.16936593],\n",
       " ['Jordan Ford', 0.16395321],\n",
       " ['Tre Mitchell', 0.16326098],\n",
       " ['Dave Bell', 0.15803695],\n",
       " ['Tyrn Flowers', 0.15324219],\n",
       " ['Jordan Roland', 0.15188],\n",
       " ['Trayce Jackson-Davis', 0.15167956]]"
      ]
     },
     "execution_count": 207,
     "metadata": {},
     "output_type": "execute_result"
    }
   ],
   "source": [
    "def f(x):\n",
    "    return x[1]\n",
    "\n",
    "class_prediction.sort(key=f,reverse=True)\n",
    "class_prediction[0:30]"
   ]
  },
  {
   "cell_type": "code",
   "execution_count": 208,
   "id": "6615ae29",
   "metadata": {},
   "outputs": [
    {
     "data": {
      "text/html": [
       "<div>\n",
       "<style scoped>\n",
       "    .dataframe tbody tr th:only-of-type {\n",
       "        vertical-align: middle;\n",
       "    }\n",
       "\n",
       "    .dataframe tbody tr th {\n",
       "        vertical-align: top;\n",
       "    }\n",
       "\n",
       "    .dataframe thead th {\n",
       "        text-align: right;\n",
       "    }\n",
       "</style>\n",
       "<table border=\"1\" class=\"dataframe\">\n",
       "  <thead>\n",
       "    <tr style=\"text-align: right;\">\n",
       "      <th></th>\n",
       "      <th>player</th>\n",
       "      <th>year</th>\n",
       "      <th>gp</th>\n",
       "      <th>mpg</th>\n",
       "      <th>ppg</th>\n",
       "      <th>fgm</th>\n",
       "      <th>fga</th>\n",
       "      <th>fg%</th>\n",
       "      <th>3pm</th>\n",
       "      <th>3pa</th>\n",
       "      <th>...</th>\n",
       "      <th>DRtg</th>\n",
       "      <th>eDiff</th>\n",
       "      <th>FIC</th>\n",
       "      <th>PER</th>\n",
       "      <th>draft_pos</th>\n",
       "      <th>drafted</th>\n",
       "      <th>cls_Fr</th>\n",
       "      <th>cls_Jr</th>\n",
       "      <th>cls_So</th>\n",
       "      <th>cls_Sr</th>\n",
       "    </tr>\n",
       "  </thead>\n",
       "  <tbody>\n",
       "    <tr>\n",
       "      <th>3999</th>\n",
       "      <td>Manny Bates</td>\n",
       "      <td>2020</td>\n",
       "      <td>29</td>\n",
       "      <td>18.4</td>\n",
       "      <td>5.1</td>\n",
       "      <td>2.2</td>\n",
       "      <td>3.4</td>\n",
       "      <td>0.657</td>\n",
       "      <td>0.0</td>\n",
       "      <td>0.0</td>\n",
       "      <td>...</td>\n",
       "      <td>93.9</td>\n",
       "      <td>31.1</td>\n",
       "      <td>210.1</td>\n",
       "      <td>21.4</td>\n",
       "      <td>NaN</td>\n",
       "      <td>NaN</td>\n",
       "      <td>1</td>\n",
       "      <td>0</td>\n",
       "      <td>0</td>\n",
       "      <td>0</td>\n",
       "    </tr>\n",
       "  </tbody>\n",
       "</table>\n",
       "<p>1 rows × 46 columns</p>\n",
       "</div>"
      ],
      "text/plain": [
       "           player  year  gp   mpg  ppg  fgm  fga    fg%  3pm  3pa  ...  DRtg  \\\n",
       "3999  Manny Bates  2020  29  18.4  5.1  2.2  3.4  0.657  0.0  0.0  ...  93.9   \n",
       "\n",
       "      eDiff    FIC   PER  draft_pos  drafted  cls_Fr  cls_Jr  cls_So  cls_Sr  \n",
       "3999   31.1  210.1  21.4        NaN      NaN       1       0       0       0  \n",
       "\n",
       "[1 rows x 46 columns]"
      ]
     },
     "execution_count": 208,
     "metadata": {},
     "output_type": "execute_result"
    }
   ],
   "source": [
    "df.loc[df['player']=='Manny Bates']"
   ]
  },
  {
   "cell_type": "code",
   "execution_count": 210,
   "id": "157e04bd",
   "metadata": {},
   "outputs": [
    {
     "name": "stdout",
     "output_type": "stream",
     "text": [
      "1/1 [==============================] - 0s 94ms/step\n"
     ]
    },
    {
     "data": {
      "text/plain": [
       "array([[0.00162354, 0.9983765 ]], dtype=float32)"
      ]
     },
     "execution_count": 210,
     "metadata": {},
     "output_type": "execute_result"
    }
   ],
   "source": [
    "model.predict([list(df.loc[df['player']=='Manny Bates'].drop(columns=['player','year','draft_pos','drafted']).iloc[0])])"
   ]
  },
  {
   "cell_type": "code",
   "execution_count": null,
   "id": "08076c98",
   "metadata": {},
   "outputs": [],
   "source": []
  }
 ],
 "metadata": {
  "kernelspec": {
   "display_name": "Python 3 (ipykernel)",
   "language": "python",
   "name": "python3"
  },
  "language_info": {
   "codemirror_mode": {
    "name": "ipython",
    "version": 3
   },
   "file_extension": ".py",
   "mimetype": "text/x-python",
   "name": "python",
   "nbconvert_exporter": "python",
   "pygments_lexer": "ipython3",
   "version": "3.9.13"
  }
 },
 "nbformat": 4,
 "nbformat_minor": 5
}
