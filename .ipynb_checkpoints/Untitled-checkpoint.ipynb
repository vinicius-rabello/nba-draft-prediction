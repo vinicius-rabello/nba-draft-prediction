{
 "cells": [
  {
   "cell_type": "code",
   "execution_count": 118,
   "id": "84a20901",
   "metadata": {},
   "outputs": [],
   "source": [
    "import requests as req\n",
    "from bs4 import BeautifulSoup\n",
    "import numpy as np\n",
    "from tqdm import tqdm\n",
    "import pandas as pd"
   ]
  },
  {
   "cell_type": "code",
   "execution_count": 163,
   "id": "34e4b4b9",
   "metadata": {},
   "outputs": [],
   "source": [
    "classes=['Fr','So','Jr','Sr']\n",
    "years=np.arange(2003,2025,1)\n",
    "columns=['player','cls','year','gp','mpg','ppg','fgm','fga','fg%','3pm','3pa','3p%','ftm','fta','ft%','orb',\n",
    "        'drb','rpg','apg','spg','bpg','tov','pf']"
   ]
  },
  {
   "cell_type": "code",
   "execution_count": 138,
   "id": "682e9489",
   "metadata": {},
   "outputs": [
    {
     "name": "stderr",
     "output_type": "stream",
     "text": [
      "100%|██████████████████████████████████████████████████████████████████████████████████| 22/22 [05:19<00:00, 14.53s/it]\n"
     ]
    }
   ],
   "source": [
    "table=[]\n",
    "for year in tqdm(years):\n",
    "    for cls in classes:\n",
    "        url=f'https://basketball.realgm.com/ncaa/stats/{year}/Averages/Qualified/{cls}/Season/All/points/desc/1'\n",
    "        r=req.get(url)\n",
    "        soup=BeautifulSoup(r.text)\n",
    "        for i in range(1,31):\n",
    "            row=[str(soup.find_all('tr')[i]).split('</td>')[1].split('>')[-2][:-3],cls,year]\n",
    "            for j in range(3,23):\n",
    "                row.append(str(soup.find_all('tr')[i]).split('</td>')[j][4:])\n",
    "            table.append(row)"
   ]
  },
  {
   "cell_type": "code",
   "execution_count": 164,
   "id": "f64f0cf9",
   "metadata": {},
   "outputs": [],
   "source": [
    "df=pd.DataFrame(table,columns=columns)"
   ]
  },
  {
   "cell_type": "code",
   "execution_count": 178,
   "id": "55184139",
   "metadata": {},
   "outputs": [
    {
     "data": {
      "text/html": [
       "<div>\n",
       "<style scoped>\n",
       "    .dataframe tbody tr th:only-of-type {\n",
       "        vertical-align: middle;\n",
       "    }\n",
       "\n",
       "    .dataframe tbody tr th {\n",
       "        vertical-align: top;\n",
       "    }\n",
       "\n",
       "    .dataframe thead th {\n",
       "        text-align: right;\n",
       "    }\n",
       "</style>\n",
       "<table border=\"1\" class=\"dataframe\">\n",
       "  <thead>\n",
       "    <tr style=\"text-align: right;\">\n",
       "      <th></th>\n",
       "      <th>player</th>\n",
       "      <th>cls</th>\n",
       "      <th>year</th>\n",
       "      <th>gp</th>\n",
       "      <th>mpg</th>\n",
       "      <th>ppg</th>\n",
       "      <th>fgm</th>\n",
       "      <th>fga</th>\n",
       "      <th>fg%</th>\n",
       "      <th>3pm</th>\n",
       "      <th>...</th>\n",
       "      <th>fta</th>\n",
       "      <th>ft%</th>\n",
       "      <th>orb</th>\n",
       "      <th>drb</th>\n",
       "      <th>rpg</th>\n",
       "      <th>apg</th>\n",
       "      <th>spg</th>\n",
       "      <th>bpg</th>\n",
       "      <th>tov</th>\n",
       "      <th>pf</th>\n",
       "    </tr>\n",
       "  </thead>\n",
       "  <tbody>\n",
       "    <tr>\n",
       "      <th>2275</th>\n",
       "      <td>Austin Reaves</td>\n",
       "      <td>Sr</td>\n",
       "      <td>2021</td>\n",
       "      <td>25</td>\n",
       "      <td>34.6</td>\n",
       "      <td>18.3</td>\n",
       "      <td>5.6</td>\n",
       "      <td>12.6</td>\n",
       "      <td>.443</td>\n",
       "      <td>1.3</td>\n",
       "      <td>...</td>\n",
       "      <td>6.8</td>\n",
       "      <td>.865</td>\n",
       "      <td>0.8</td>\n",
       "      <td>4.6</td>\n",
       "      <td>5.5</td>\n",
       "      <td>4.6</td>\n",
       "      <td>0.9</td>\n",
       "      <td>0.3</td>\n",
       "      <td>3.0</td>\n",
       "      <td>1.7</td>\n",
       "    </tr>\n",
       "  </tbody>\n",
       "</table>\n",
       "<p>1 rows × 23 columns</p>\n",
       "</div>"
      ],
      "text/plain": [
       "             player cls  year  gp   mpg   ppg  fgm   fga   fg%  3pm  ...  fta  \\\n",
       "2275  Austin Reaves  Sr  2021  25  34.6  18.3  5.6  12.6  .443  1.3  ...  6.8   \n",
       "\n",
       "       ft%  orb  drb  rpg  apg  spg  bpg  tov   pf  \n",
       "2275  .865  0.8  4.6  5.5  4.6  0.9  0.3  3.0  1.7  \n",
       "\n",
       "[1 rows x 23 columns]"
      ]
     },
     "execution_count": 178,
     "metadata": {},
     "output_type": "execute_result"
    }
   ],
   "source": [
    "df.loc[df['player']=='Austin Reaves']"
   ]
  },
  {
   "cell_type": "code",
   "execution_count": null,
   "id": "b52eab0f",
   "metadata": {},
   "outputs": [],
   "source": []
  }
 ],
 "metadata": {
  "kernelspec": {
   "display_name": "Python 3 (ipykernel)",
   "language": "python",
   "name": "python3"
  },
  "language_info": {
   "codemirror_mode": {
    "name": "ipython",
    "version": 3
   },
   "file_extension": ".py",
   "mimetype": "text/x-python",
   "name": "python",
   "nbconvert_exporter": "python",
   "pygments_lexer": "ipython3",
   "version": "3.9.13"
  }
 },
 "nbformat": 4,
 "nbformat_minor": 5
}
